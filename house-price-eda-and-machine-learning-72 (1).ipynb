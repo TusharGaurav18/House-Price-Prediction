{
 "cells": [
  {
   "cell_type": "markdown",
   "metadata": {},
   "source": [
    "### <font color='red'> Seattle House Price. </font>"
   ]
  },
  {
   "cell_type": "markdown",
   "metadata": {},
   "source": [
    "![](https://mail.passive.ie/media/k2/items/cache/4a731cb975d8a85e08e102d6760e988b_XL.jpg?t=20170913_124056)"
   ]
  },
  {
   "cell_type": "markdown",
   "metadata": {},
   "source": [
    "#### This is a real dataset of house prices sold in Seattle, Washing, USA between August and December 2022. The task is to predict the house price in this area based on several features.\n",
    "\n",
    "#### Our data has 2016 values and 8 columns, Here we will use the \"train.csv\" database that has been made available for use, below you will see an analysis of the data, the processing of that data and the use of machine learning classification models to achieve our goal."
   ]
  },
  {
   "cell_type": "code",
   "execution_count": 1,
   "metadata": {
    "_kg_hide-input": true,
    "execution": {
     "iopub.execute_input": "2023-01-23T16:48:09.287923Z",
     "iopub.status.busy": "2023-01-23T16:48:09.2874Z",
     "iopub.status.idle": "2023-01-23T16:48:09.325182Z",
     "shell.execute_reply": "2023-01-23T16:48:09.323868Z",
     "shell.execute_reply.started": "2023-01-23T16:48:09.287816Z"
    }
   },
   "outputs": [
    {
     "name": "stdout",
     "output_type": "stream",
     "text": [
      "Requirement already satisfied: plotly in c:\\users\\tushar gaurav\\appdata\\local\\programs\\python\\python311\\lib\\site-packages (5.14.1)\n",
      "Requirement already satisfied: tenacity>=6.2.0 in c:\\users\\tushar gaurav\\appdata\\local\\programs\\python\\python311\\lib\\site-packages (from plotly) (8.2.2)\n",
      "Requirement already satisfied: packaging in c:\\users\\tushar gaurav\\appdata\\local\\programs\\python\\python311\\lib\\site-packages (from plotly) (23.1)\n",
      "Requirement already satisfied: yellowbrick in c:\\users\\tushar gaurav\\appdata\\local\\programs\\python\\python311\\lib\\site-packages (1.5)\n",
      "Requirement already satisfied: matplotlib!=3.0.0,>=2.0.2 in c:\\users\\tushar gaurav\\appdata\\local\\programs\\python\\python311\\lib\\site-packages (from yellowbrick) (3.7.1)\n",
      "Requirement already satisfied: scipy>=1.0.0 in c:\\users\\tushar gaurav\\appdata\\local\\programs\\python\\python311\\lib\\site-packages (from yellowbrick) (1.10.1)\n",
      "Requirement already satisfied: scikit-learn>=1.0.0 in c:\\users\\tushar gaurav\\appdata\\local\\programs\\python\\python311\\lib\\site-packages (from yellowbrick) (1.2.2)\n",
      "Requirement already satisfied: numpy>=1.16.0 in c:\\users\\tushar gaurav\\appdata\\local\\programs\\python\\python311\\lib\\site-packages (from yellowbrick) (1.23.5)\n",
      "Requirement already satisfied: cycler>=0.10.0 in c:\\users\\tushar gaurav\\appdata\\local\\programs\\python\\python311\\lib\\site-packages (from yellowbrick) (0.11.0)\n",
      "Requirement already satisfied: contourpy>=1.0.1 in c:\\users\\tushar gaurav\\appdata\\local\\programs\\python\\python311\\lib\\site-packages (from matplotlib!=3.0.0,>=2.0.2->yellowbrick) (1.0.7)\n",
      "Requirement already satisfied: fonttools>=4.22.0 in c:\\users\\tushar gaurav\\appdata\\local\\programs\\python\\python311\\lib\\site-packages (from matplotlib!=3.0.0,>=2.0.2->yellowbrick) (4.39.3)\n",
      "Requirement already satisfied: kiwisolver>=1.0.1 in c:\\users\\tushar gaurav\\appdata\\local\\programs\\python\\python311\\lib\\site-packages (from matplotlib!=3.0.0,>=2.0.2->yellowbrick) (1.4.4)\n",
      "Requirement already satisfied: packaging>=20.0 in c:\\users\\tushar gaurav\\appdata\\local\\programs\\python\\python311\\lib\\site-packages (from matplotlib!=3.0.0,>=2.0.2->yellowbrick) (23.1)\n",
      "Requirement already satisfied: pillow>=6.2.0 in c:\\users\\tushar gaurav\\appdata\\local\\programs\\python\\python311\\lib\\site-packages (from matplotlib!=3.0.0,>=2.0.2->yellowbrick) (9.5.0)\n",
      "Requirement already satisfied: pyparsing>=2.3.1 in c:\\users\\tushar gaurav\\appdata\\local\\programs\\python\\python311\\lib\\site-packages (from matplotlib!=3.0.0,>=2.0.2->yellowbrick) (3.0.9)\n",
      "Requirement already satisfied: python-dateutil>=2.7 in c:\\users\\tushar gaurav\\appdata\\local\\programs\\python\\python311\\lib\\site-packages (from matplotlib!=3.0.0,>=2.0.2->yellowbrick) (2.8.2)\n",
      "Requirement already satisfied: joblib>=1.1.1 in c:\\users\\tushar gaurav\\appdata\\local\\programs\\python\\python311\\lib\\site-packages (from scikit-learn>=1.0.0->yellowbrick) (1.2.0)\n",
      "Requirement already satisfied: threadpoolctl>=2.0.0 in c:\\users\\tushar gaurav\\appdata\\local\\programs\\python\\python311\\lib\\site-packages (from scikit-learn>=1.0.0->yellowbrick) (3.1.0)\n",
      "Requirement already satisfied: six>=1.5 in c:\\users\\tushar gaurav\\appdata\\local\\programs\\python\\python311\\lib\\site-packages (from python-dateutil>=2.7->matplotlib!=3.0.0,>=2.0.2->yellowbrick) (1.16.0)\n"
     ]
    }
   ],
   "source": [
    "# This Python 3 environment comes with many helpful analytics libraries installed\n",
    "# It is defined by the kaggle/python Docker image: https://github.com/kaggle/docker-python\n",
    "# For example, here's several helpful packages to load\n",
    "\n",
    "import numpy as np # linear algebra\n",
    "import pandas as pd # data processing, CSV file I/O (e.g. pd.read_csv)\n",
    "\n",
    "# Input data files are available in the read-only \"../input/\" directory\n",
    "# For example, running this (by clicking run or pressing Shift+Enter) will list all files under the input directory\n",
    "\n",
    "import os\n",
    "for dirname, _, filenames in os.walk('/kaggle/input'):\n",
    "    for filename in filenames:\n",
    "        print(os.path.join(dirname, filename))\n",
    "!pip install plotly\n",
    "!pip install yellowbrick\n",
    "# You can write up to 20GB to the current directory (/kaggle/working/) that gets preserved as output when you create a version using \"Save & Run All\" \n",
    "# You can also write temporary files to /kaggle/temp/, but they won't be saved outside of the current session"
   ]
  },
  {
   "cell_type": "markdown",
   "metadata": {},
   "source": [
    "#### Importing Libraries."
   ]
  },
  {
   "cell_type": "code",
   "execution_count": 2,
   "metadata": {
    "execution": {
     "iopub.execute_input": "2023-01-23T16:48:09.327564Z",
     "iopub.status.busy": "2023-01-23T16:48:09.327183Z",
     "iopub.status.idle": "2023-01-23T16:48:12.552651Z",
     "shell.execute_reply": "2023-01-23T16:48:12.551169Z",
     "shell.execute_reply.started": "2023-01-23T16:48:09.32752Z"
    }
   },
   "outputs": [],
   "source": [
    "import pandas as pd\n",
    "import numpy as np\n",
    "import matplotlib.pyplot as plt\n",
    "import seaborn as sns\n",
    "import plotly.express as px\n",
    "from sklearn.metrics import accuracy_score, confusion_matrix, classification_report\n",
    "from yellowbrick.classifier import ConfusionMatrix\n",
    "from sklearn.tree import DecisionTreeClassifier\n",
    "from sklearn.metrics import r2_score\n",
    "from sklearn.metrics import mean_absolute_error, mean_squared_error\n",
    "from sklearn.model_selection import GridSearchCV"
   ]
  },
  {
   "cell_type": "markdown",
   "metadata": {},
   "source": [
    "## <font color='blue'> 1. Importing Dataset. </font>"
   ]
  },
  {
   "cell_type": "markdown",
   "metadata": {},
   "source": [
    "#### Here we are reading the train database using the name \"df\" in the variable and the test database using the name \"df_test\"."
   ]
  },
  {
   "cell_type": "code",
   "execution_count": 3,
   "metadata": {
    "execution": {
     "iopub.execute_input": "2023-01-23T17:38:57.828187Z",
     "iopub.status.busy": "2023-01-23T17:38:57.82774Z",
     "iopub.status.idle": "2023-01-23T17:38:57.852058Z",
     "shell.execute_reply": "2023-01-23T17:38:57.8507Z",
     "shell.execute_reply.started": "2023-01-23T17:38:57.828153Z"
    }
   },
   "outputs": [],
   "source": [
    "df = pd.read_csv(\"train.csv\" , sep = ',')\n",
    "df_test = pd.read_csv(\"test.csv\" , sep = ',')"
   ]
  },
  {
   "cell_type": "markdown",
   "metadata": {},
   "source": [
    "#### Here we can see that all variables are continuous, we can also see that we have this column Zip Code that will probably not be used, we can also see that we have some null values."
   ]
  },
  {
   "cell_type": "markdown",
   "metadata": {},
   "source": [
    "#### Here the explanation about the variables:\n",
    "\n",
    "#### beds: Number of bedrooms in property\n",
    "#### baths: Number of bathrooms in property. Note 0.5 corresponds to a half-bath which has a sink and toilet but no tub or shower\n",
    "#### size: Total floor area of property\n",
    "#### size_units: Units of the previous measurement\n",
    "#### lot_size: Total area of the land where the property is located on. The lot belongs to the house owner\n",
    "#### lot_size_units: Units of the previous measurement\n",
    "#### zip_code: Zip code. This is a postal code used in the USA\n",
    "#### price: Price the property was sold for (US dollars)"
   ]
  },
  {
   "cell_type": "code",
   "execution_count": 4,
   "metadata": {
    "execution": {
     "iopub.execute_input": "2023-01-23T17:38:58.751986Z",
     "iopub.status.busy": "2023-01-23T17:38:58.751518Z",
     "iopub.status.idle": "2023-01-23T17:38:58.769939Z",
     "shell.execute_reply": "2023-01-23T17:38:58.768676Z",
     "shell.execute_reply.started": "2023-01-23T17:38:58.751948Z"
    }
   },
   "outputs": [
    {
     "data": {
      "text/html": [
       "<div>\n",
       "<style scoped>\n",
       "    .dataframe tbody tr th:only-of-type {\n",
       "        vertical-align: middle;\n",
       "    }\n",
       "\n",
       "    .dataframe tbody tr th {\n",
       "        vertical-align: top;\n",
       "    }\n",
       "\n",
       "    .dataframe thead th {\n",
       "        text-align: right;\n",
       "    }\n",
       "</style>\n",
       "<table border=\"1\" class=\"dataframe\">\n",
       "  <thead>\n",
       "    <tr style=\"text-align: right;\">\n",
       "      <th></th>\n",
       "      <th>beds</th>\n",
       "      <th>baths</th>\n",
       "      <th>size</th>\n",
       "      <th>size_units</th>\n",
       "      <th>lot_size</th>\n",
       "      <th>lot_size_units</th>\n",
       "      <th>zip_code</th>\n",
       "      <th>price</th>\n",
       "    </tr>\n",
       "  </thead>\n",
       "  <tbody>\n",
       "    <tr>\n",
       "      <th>0</th>\n",
       "      <td>3</td>\n",
       "      <td>2.5</td>\n",
       "      <td>2590.0</td>\n",
       "      <td>sqft</td>\n",
       "      <td>6000.00</td>\n",
       "      <td>sqft</td>\n",
       "      <td>98144</td>\n",
       "      <td>795000.0</td>\n",
       "    </tr>\n",
       "    <tr>\n",
       "      <th>1</th>\n",
       "      <td>4</td>\n",
       "      <td>2.0</td>\n",
       "      <td>2240.0</td>\n",
       "      <td>sqft</td>\n",
       "      <td>0.31</td>\n",
       "      <td>acre</td>\n",
       "      <td>98106</td>\n",
       "      <td>915000.0</td>\n",
       "    </tr>\n",
       "    <tr>\n",
       "      <th>2</th>\n",
       "      <td>4</td>\n",
       "      <td>3.0</td>\n",
       "      <td>2040.0</td>\n",
       "      <td>sqft</td>\n",
       "      <td>3783.00</td>\n",
       "      <td>sqft</td>\n",
       "      <td>98107</td>\n",
       "      <td>950000.0</td>\n",
       "    </tr>\n",
       "    <tr>\n",
       "      <th>3</th>\n",
       "      <td>4</td>\n",
       "      <td>3.0</td>\n",
       "      <td>3800.0</td>\n",
       "      <td>sqft</td>\n",
       "      <td>5175.00</td>\n",
       "      <td>sqft</td>\n",
       "      <td>98199</td>\n",
       "      <td>1950000.0</td>\n",
       "    </tr>\n",
       "    <tr>\n",
       "      <th>4</th>\n",
       "      <td>2</td>\n",
       "      <td>2.0</td>\n",
       "      <td>1042.0</td>\n",
       "      <td>sqft</td>\n",
       "      <td>NaN</td>\n",
       "      <td>NaN</td>\n",
       "      <td>98102</td>\n",
       "      <td>950000.0</td>\n",
       "    </tr>\n",
       "  </tbody>\n",
       "</table>\n",
       "</div>"
      ],
      "text/plain": [
       "   beds  baths    size size_units  lot_size lot_size_units  zip_code   \n",
       "0     3    2.5  2590.0       sqft   6000.00           sqft     98144  \\\n",
       "1     4    2.0  2240.0       sqft      0.31           acre     98106   \n",
       "2     4    3.0  2040.0       sqft   3783.00           sqft     98107   \n",
       "3     4    3.0  3800.0       sqft   5175.00           sqft     98199   \n",
       "4     2    2.0  1042.0       sqft       NaN            NaN     98102   \n",
       "\n",
       "       price  \n",
       "0   795000.0  \n",
       "1   915000.0  \n",
       "2   950000.0  \n",
       "3  1950000.0  \n",
       "4   950000.0  "
      ]
     },
     "execution_count": 4,
     "metadata": {},
     "output_type": "execute_result"
    }
   ],
   "source": [
    "df.head(5)"
   ]
  },
  {
   "cell_type": "code",
   "execution_count": 5,
   "metadata": {
    "execution": {
     "iopub.execute_input": "2023-01-23T17:38:59.023327Z",
     "iopub.status.busy": "2023-01-23T17:38:59.022249Z",
     "iopub.status.idle": "2023-01-23T17:38:59.031523Z",
     "shell.execute_reply": "2023-01-23T17:38:59.030687Z",
     "shell.execute_reply.started": "2023-01-23T17:38:59.023284Z"
    }
   },
   "outputs": [
    {
     "data": {
      "text/plain": [
       "beds                int64\n",
       "baths             float64\n",
       "size              float64\n",
       "size_units         object\n",
       "lot_size          float64\n",
       "lot_size_units     object\n",
       "zip_code            int64\n",
       "price             float64\n",
       "dtype: object"
      ]
     },
     "execution_count": 5,
     "metadata": {},
     "output_type": "execute_result"
    }
   ],
   "source": [
    "df.dtypes"
   ]
  },
  {
   "cell_type": "code",
   "execution_count": 6,
   "metadata": {
    "execution": {
     "iopub.execute_input": "2023-01-23T17:38:59.149754Z",
     "iopub.status.busy": "2023-01-23T17:38:59.148538Z",
     "iopub.status.idle": "2023-01-23T17:38:59.167458Z",
     "shell.execute_reply": "2023-01-23T17:38:59.166025Z",
     "shell.execute_reply.started": "2023-01-23T17:38:59.149711Z"
    }
   },
   "outputs": [
    {
     "name": "stdout",
     "output_type": "stream",
     "text": [
      "<class 'pandas.core.frame.DataFrame'>\n",
      "RangeIndex: 2016 entries, 0 to 2015\n",
      "Data columns (total 8 columns):\n",
      " #   Column          Non-Null Count  Dtype  \n",
      "---  ------          --------------  -----  \n",
      " 0   beds            2016 non-null   int64  \n",
      " 1   baths           2016 non-null   float64\n",
      " 2   size            2016 non-null   float64\n",
      " 3   size_units      2016 non-null   object \n",
      " 4   lot_size        1669 non-null   float64\n",
      " 5   lot_size_units  1669 non-null   object \n",
      " 6   zip_code        2016 non-null   int64  \n",
      " 7   price           2016 non-null   float64\n",
      "dtypes: float64(4), int64(2), object(2)\n",
      "memory usage: 126.1+ KB\n"
     ]
    }
   ],
   "source": [
    "df.info()"
   ]
  },
  {
   "cell_type": "code",
   "execution_count": 7,
   "metadata": {
    "execution": {
     "iopub.execute_input": "2023-01-23T17:38:59.405396Z",
     "iopub.status.busy": "2023-01-23T17:38:59.404627Z",
     "iopub.status.idle": "2023-01-23T17:38:59.436948Z",
     "shell.execute_reply": "2023-01-23T17:38:59.435806Z",
     "shell.execute_reply.started": "2023-01-23T17:38:59.405356Z"
    }
   },
   "outputs": [
    {
     "data": {
      "text/html": [
       "<div>\n",
       "<style scoped>\n",
       "    .dataframe tbody tr th:only-of-type {\n",
       "        vertical-align: middle;\n",
       "    }\n",
       "\n",
       "    .dataframe tbody tr th {\n",
       "        vertical-align: top;\n",
       "    }\n",
       "\n",
       "    .dataframe thead th {\n",
       "        text-align: right;\n",
       "    }\n",
       "</style>\n",
       "<table border=\"1\" class=\"dataframe\">\n",
       "  <thead>\n",
       "    <tr style=\"text-align: right;\">\n",
       "      <th></th>\n",
       "      <th>beds</th>\n",
       "      <th>baths</th>\n",
       "      <th>size</th>\n",
       "      <th>lot_size</th>\n",
       "      <th>zip_code</th>\n",
       "      <th>price</th>\n",
       "    </tr>\n",
       "  </thead>\n",
       "  <tbody>\n",
       "    <tr>\n",
       "      <th>count</th>\n",
       "      <td>2016.000000</td>\n",
       "      <td>2016.000000</td>\n",
       "      <td>2016.000000</td>\n",
       "      <td>1669.000000</td>\n",
       "      <td>2016.000000</td>\n",
       "      <td>2.016000e+03</td>\n",
       "    </tr>\n",
       "    <tr>\n",
       "      <th>mean</th>\n",
       "      <td>2.857639</td>\n",
       "      <td>2.159970</td>\n",
       "      <td>1735.740575</td>\n",
       "      <td>3871.059694</td>\n",
       "      <td>98123.638889</td>\n",
       "      <td>9.636252e+05</td>\n",
       "    </tr>\n",
       "    <tr>\n",
       "      <th>std</th>\n",
       "      <td>1.255092</td>\n",
       "      <td>1.002023</td>\n",
       "      <td>920.132591</td>\n",
       "      <td>2719.402066</td>\n",
       "      <td>22.650819</td>\n",
       "      <td>9.440954e+05</td>\n",
       "    </tr>\n",
       "    <tr>\n",
       "      <th>min</th>\n",
       "      <td>1.000000</td>\n",
       "      <td>0.500000</td>\n",
       "      <td>250.000000</td>\n",
       "      <td>0.230000</td>\n",
       "      <td>98101.000000</td>\n",
       "      <td>1.590000e+05</td>\n",
       "    </tr>\n",
       "    <tr>\n",
       "      <th>25%</th>\n",
       "      <td>2.000000</td>\n",
       "      <td>1.500000</td>\n",
       "      <td>1068.750000</td>\n",
       "      <td>1252.000000</td>\n",
       "      <td>98108.000000</td>\n",
       "      <td>6.017500e+05</td>\n",
       "    </tr>\n",
       "    <tr>\n",
       "      <th>50%</th>\n",
       "      <td>3.000000</td>\n",
       "      <td>2.000000</td>\n",
       "      <td>1560.000000</td>\n",
       "      <td>4000.000000</td>\n",
       "      <td>98117.000000</td>\n",
       "      <td>8.000000e+05</td>\n",
       "    </tr>\n",
       "    <tr>\n",
       "      <th>75%</th>\n",
       "      <td>4.000000</td>\n",
       "      <td>2.500000</td>\n",
       "      <td>2222.500000</td>\n",
       "      <td>6000.000000</td>\n",
       "      <td>98126.000000</td>\n",
       "      <td>1.105250e+06</td>\n",
       "    </tr>\n",
       "    <tr>\n",
       "      <th>max</th>\n",
       "      <td>15.000000</td>\n",
       "      <td>9.000000</td>\n",
       "      <td>11010.000000</td>\n",
       "      <td>9998.000000</td>\n",
       "      <td>98199.000000</td>\n",
       "      <td>2.500000e+07</td>\n",
       "    </tr>\n",
       "  </tbody>\n",
       "</table>\n",
       "</div>"
      ],
      "text/plain": [
       "              beds        baths          size     lot_size      zip_code   \n",
       "count  2016.000000  2016.000000   2016.000000  1669.000000   2016.000000  \\\n",
       "mean      2.857639     2.159970   1735.740575  3871.059694  98123.638889   \n",
       "std       1.255092     1.002023    920.132591  2719.402066     22.650819   \n",
       "min       1.000000     0.500000    250.000000     0.230000  98101.000000   \n",
       "25%       2.000000     1.500000   1068.750000  1252.000000  98108.000000   \n",
       "50%       3.000000     2.000000   1560.000000  4000.000000  98117.000000   \n",
       "75%       4.000000     2.500000   2222.500000  6000.000000  98126.000000   \n",
       "max      15.000000     9.000000  11010.000000  9998.000000  98199.000000   \n",
       "\n",
       "              price  \n",
       "count  2.016000e+03  \n",
       "mean   9.636252e+05  \n",
       "std    9.440954e+05  \n",
       "min    1.590000e+05  \n",
       "25%    6.017500e+05  \n",
       "50%    8.000000e+05  \n",
       "75%    1.105250e+06  \n",
       "max    2.500000e+07  "
      ]
     },
     "execution_count": 7,
     "metadata": {},
     "output_type": "execute_result"
    }
   ],
   "source": [
    "df.describe()"
   ]
  },
  {
   "cell_type": "code",
   "execution_count": 8,
   "metadata": {
    "execution": {
     "iopub.execute_input": "2023-01-23T17:39:00.286067Z",
     "iopub.status.busy": "2023-01-23T17:39:00.285616Z",
     "iopub.status.idle": "2023-01-23T17:39:00.297813Z",
     "shell.execute_reply": "2023-01-23T17:39:00.296514Z",
     "shell.execute_reply.started": "2023-01-23T17:39:00.286027Z"
    }
   },
   "outputs": [
    {
     "data": {
      "text/plain": [
       "beds              0.000000\n",
       "baths             0.000000\n",
       "size              0.000000\n",
       "size_units        0.000000\n",
       "lot_size          0.172123\n",
       "lot_size_units    0.172123\n",
       "zip_code          0.000000\n",
       "price             0.000000\n",
       "dtype: float64"
      ]
     },
     "execution_count": 8,
     "metadata": {},
     "output_type": "execute_result"
    }
   ],
   "source": [
    "(df.isnull().sum()/len(df))"
   ]
  },
  {
   "cell_type": "markdown",
   "metadata": {},
   "source": [
    "#### let's exclude null values ​​from our base."
   ]
  },
  {
   "cell_type": "code",
   "execution_count": 9,
   "metadata": {
    "execution": {
     "iopub.execute_input": "2023-01-23T17:39:01.038365Z",
     "iopub.status.busy": "2023-01-23T17:39:01.037958Z",
     "iopub.status.idle": "2023-01-23T17:39:01.046346Z",
     "shell.execute_reply": "2023-01-23T17:39:01.045087Z",
     "shell.execute_reply.started": "2023-01-23T17:39:01.038334Z"
    }
   },
   "outputs": [],
   "source": [
    "df = df.dropna()"
   ]
  },
  {
   "cell_type": "code",
   "execution_count": 10,
   "metadata": {
    "execution": {
     "iopub.execute_input": "2023-01-23T17:39:01.370768Z",
     "iopub.status.busy": "2023-01-23T17:39:01.370322Z",
     "iopub.status.idle": "2023-01-23T17:39:01.382225Z",
     "shell.execute_reply": "2023-01-23T17:39:01.380996Z",
     "shell.execute_reply.started": "2023-01-23T17:39:01.370729Z"
    }
   },
   "outputs": [
    {
     "data": {
      "text/plain": [
       "beds              0.0\n",
       "baths             0.0\n",
       "size              0.0\n",
       "size_units        0.0\n",
       "lot_size          0.0\n",
       "lot_size_units    0.0\n",
       "zip_code          0.0\n",
       "price             0.0\n",
       "dtype: float64"
      ]
     },
     "execution_count": 10,
     "metadata": {},
     "output_type": "execute_result"
    }
   ],
   "source": [
    "(df.isnull().sum()/len(df))"
   ]
  },
  {
   "cell_type": "markdown",
   "metadata": {},
   "source": [
    "#### As we have only one value, let's delete the size_units variable"
   ]
  },
  {
   "cell_type": "code",
   "execution_count": 11,
   "metadata": {
    "execution": {
     "iopub.execute_input": "2023-01-23T17:39:02.040709Z",
     "iopub.status.busy": "2023-01-23T17:39:02.040255Z",
     "iopub.status.idle": "2023-01-23T17:39:02.047397Z",
     "shell.execute_reply": "2023-01-23T17:39:02.046167Z",
     "shell.execute_reply.started": "2023-01-23T17:39:02.040662Z"
    }
   },
   "outputs": [],
   "source": [
    "df = df.drop('size_units', axis = 1)"
   ]
  },
  {
   "cell_type": "markdown",
   "metadata": {},
   "source": [
    "## <font color='blue'> 2. Data Analysis. </font>"
   ]
  },
  {
   "cell_type": "markdown",
   "metadata": {},
   "source": [
    "#### Verifying the correlation between our variables."
   ]
  },
  {
   "cell_type": "markdown",
   "metadata": {},
   "source": [
    "#### Here we can see that we have some strong correlations between some variables, let's leave those for the moment."
   ]
  },
  {
   "cell_type": "code",
   "execution_count": null,
   "metadata": {
    "_kg_hide-input": true,
    "execution": {
     "iopub.execute_input": "2023-01-23T17:17:59.908389Z",
     "iopub.status.busy": "2023-01-23T17:17:59.907977Z",
     "iopub.status.idle": "2023-01-23T17:18:00.26403Z",
     "shell.execute_reply": "2023-01-23T17:18:00.262499Z",
     "shell.execute_reply.started": "2023-01-23T17:17:59.908348Z"
    }
   },
   "outputs": [],
   "source": []
  },
  {
   "cell_type": "markdown",
   "metadata": {},
   "source": [
    "#### Continous Variable"
   ]
  },
  {
   "cell_type": "markdown",
   "metadata": {},
   "source": [
    "#### Looking at our continuous variables we can see some patterns, the more bedrooms/bathrooms the smaller the number of values ​​in the database, the same thing when we look at the price variable, interesting that in the variable lot_size_units we have practically only two values."
   ]
  },
  {
   "cell_type": "code",
   "execution_count": 12,
   "metadata": {
    "_kg_hide-input": true,
    "execution": {
     "iopub.execute_input": "2023-01-23T17:49:24.187704Z",
     "iopub.status.busy": "2023-01-23T17:49:24.18728Z",
     "iopub.status.idle": "2023-01-23T17:49:25.773656Z",
     "shell.execute_reply": "2023-01-23T17:49:25.772368Z",
     "shell.execute_reply.started": "2023-01-23T17:49:24.187668Z"
    }
   },
   "outputs": [
    {
     "data": {
      "text/plain": [
       "<Axes: xlabel='price', ylabel='Count'>"
      ]
     },
     "execution_count": 12,
     "metadata": {},
     "output_type": "execute_result"
    },
    {
     "data": {
      "image/png": "[encoded data removed]",
      "text/plain": [
       "<Figure size 2500x2000 with 5 Axes>"
      ]
     },
     "metadata": {},
     "output_type": "display_data"
    }
   ],
   "source": [
    "plt.figure(figsize = (25,20))\n",
    "sns.set(color_codes = True)\n",
    "\n",
    "plt.subplot(3,2,1)\n",
    "sns.histplot(df['beds'], kde = False)\n",
    "\n",
    "plt.subplot(3,2,2)\n",
    "sns.histplot(df['baths'], kde = False)\n",
    "\n",
    "plt.subplot(3,2,3)\n",
    "sns.histplot(df['lot_size'], kde = False)\n",
    "\n",
    "plt.subplot(3,2,4)\n",
    "sns.histplot(df['lot_size_units'], kde = False)\n",
    "\n",
    "plt.subplot(3,2,5)\n",
    "sns.histplot(df['price'], kde = False)"
   ]
  },
  {
   "cell_type": "markdown",
   "metadata": {},
   "source": [
    "#### Looking at the boxplot of our Bed variable, we can see that we have 2 specific houses with bathrooms above 10. Let's remove these 2 values ​​to avoid outliers."
   ]
  },
  {
   "cell_type": "code",
   "execution_count": 13,
   "metadata": {
    "_kg_hide-input": true,
    "execution": {
     "iopub.execute_input": "2023-01-23T16:48:39.197914Z",
     "iopub.status.busy": "2023-01-23T16:48:39.197469Z",
     "iopub.status.idle": "2023-01-23T16:48:39.432471Z",
     "shell.execute_reply": "2023-01-23T16:48:39.431415Z",
     "shell.execute_reply.started": "2023-01-23T16:48:39.19788Z"
    }
   },
   "outputs": [
    {
     "data": {
      "text/plain": [
       "<Axes: title={'center': 'Boxplot Beds'}, xlabel='beds'>"
      ]
     },
     "execution_count": 13,
     "metadata": {},
     "output_type": "execute_result"
    },
    {
     "data": {
      "image/png": "[encoded data removed]",
      "text/plain": [
       "<Figure size 800x550 with 1 Axes>"
      ]
     },
     "metadata": {},
     "output_type": "display_data"
    }
   ],
   "source": [
    "plt.title(\"Boxplot Beds\", fontdict = {'fontsize': 20})\n",
    "sns.boxplot(x=df[\"beds\"])"
   ]
  },
  {
   "cell_type": "code",
   "execution_count": 14,
   "metadata": {
    "execution": {
     "iopub.execute_input": "2023-01-23T17:39:18.712803Z",
     "iopub.status.busy": "2023-01-23T17:39:18.712348Z",
     "iopub.status.idle": "2023-01-23T17:39:18.720403Z",
     "shell.execute_reply": "2023-01-23T17:39:18.718964Z",
     "shell.execute_reply.started": "2023-01-23T17:39:18.712768Z"
    }
   },
   "outputs": [],
   "source": [
    "df = df[df['beds'] < 10]"
   ]
  },
  {
   "cell_type": "code",
   "execution_count": 15,
   "metadata": {
    "_kg_hide-input": true,
    "execution": {
     "iopub.execute_input": "2023-01-23T16:48:42.65782Z",
     "iopub.status.busy": "2023-01-23T16:48:42.657332Z",
     "iopub.status.idle": "2023-01-23T16:48:42.826155Z",
     "shell.execute_reply": "2023-01-23T16:48:42.825325Z",
     "shell.execute_reply.started": "2023-01-23T16:48:42.657782Z"
    }
   },
   "outputs": [
    {
     "data": {
      "text/plain": [
       "<Axes: title={'center': 'Boxplot Beds Without Outliers'}, xlabel='beds'>"
      ]
     },
     "execution_count": 15,
     "metadata": {},
     "output_type": "execute_result"
    },
    {
     "data": {
      "image/png": "[encoded data removed]",
      "text/plain": [
       "<Figure size 800x550 with 1 Axes>"
      ]
     },
     "metadata": {},
     "output_type": "display_data"
    }
   ],
   "source": [
    "plt.title(\"Boxplot Beds Without Outliers\", fontdict = {'fontsize': 20})\n",
    "sns.boxplot(x=df[\"beds\"])"
   ]
  },
  {
   "cell_type": "markdown",
   "metadata": {},
   "source": [
    "#### Looking at the bathroom variable, we can see that we have 2 values ​​to the right, but the difference is not that big when compared to most values."
   ]
  },
  {
   "cell_type": "code",
   "execution_count": 16,
   "metadata": {
    "_kg_hide-input": true,
    "execution": {
     "iopub.execute_input": "2023-01-23T16:48:43.575337Z",
     "iopub.status.busy": "2023-01-23T16:48:43.574937Z",
     "iopub.status.idle": "2023-01-23T16:48:43.926496Z",
     "shell.execute_reply": "2023-01-23T16:48:43.925009Z",
     "shell.execute_reply.started": "2023-01-23T16:48:43.575305Z"
    }
   },
   "outputs": [
    {
     "data": {
      "text/plain": [
       "<Axes: title={'center': 'Boxplot Baths'}, xlabel='baths'>"
      ]
     },
     "execution_count": 16,
     "metadata": {},
     "output_type": "execute_result"
    },
    {
     "data": {
      "image/png": "[encoded data removed]",
      "text/plain": [
       "<Figure size 800x550 with 1 Axes>"
      ]
     },
     "metadata": {},
     "output_type": "display_data"
    }
   ],
   "source": [
    "plt.title(\"Boxplot Baths\", fontdict = {'fontsize': 20})\n",
    "sns.boxplot(x=df[\"baths\"])"
   ]
  },
  {
   "cell_type": "markdown",
   "metadata": {},
   "source": [
    "#### Looking at the price variable, we can see that we have a value that distorts a lot from the others, we will remove this value so as not to bias the model."
   ]
  },
  {
   "cell_type": "code",
   "execution_count": 17,
   "metadata": {
    "_kg_hide-input": true,
    "execution": {
     "iopub.execute_input": "2023-01-23T16:48:44.637715Z",
     "iopub.status.busy": "2023-01-23T16:48:44.637282Z",
     "iopub.status.idle": "2023-01-23T16:48:44.859632Z",
     "shell.execute_reply": "2023-01-23T16:48:44.858265Z",
     "shell.execute_reply.started": "2023-01-23T16:48:44.637676Z"
    }
   },
   "outputs": [
    {
     "data": {
      "text/plain": [
       "<Axes: title={'center': 'Boxplot Price'}, xlabel='price'>"
      ]
     },
     "execution_count": 17,
     "metadata": {},
     "output_type": "execute_result"
    },
    {
     "data": {
      "image/png": "[encoded data removed]",
      "text/plain": [
       "<Figure size 800x550 with 1 Axes>"
      ]
     },
     "metadata": {},
     "output_type": "display_data"
    }
   ],
   "source": [
    "plt.title(\"Boxplot Price\", fontdict = {'fontsize': 20})\n",
    "sns.boxplot(x=df[\"price\"])"
   ]
  },
  {
   "cell_type": "code",
   "execution_count": 18,
   "metadata": {
    "execution": {
     "iopub.execute_input": "2023-01-23T17:39:26.98214Z",
     "iopub.status.busy": "2023-01-23T17:39:26.981733Z",
     "iopub.status.idle": "2023-01-23T17:39:26.989276Z",
     "shell.execute_reply": "2023-01-23T17:39:26.988096Z",
     "shell.execute_reply.started": "2023-01-23T17:39:26.98211Z"
    }
   },
   "outputs": [],
   "source": [
    "df = df[df['price'] < 5000000]"
   ]
  },
  {
   "cell_type": "code",
   "execution_count": 19,
   "metadata": {
    "execution": {
     "iopub.execute_input": "2023-01-23T16:48:46.459749Z",
     "iopub.status.busy": "2023-01-23T16:48:46.459317Z",
     "iopub.status.idle": "2023-01-23T16:48:46.695598Z",
     "shell.execute_reply": "2023-01-23T16:48:46.694322Z",
     "shell.execute_reply.started": "2023-01-23T16:48:46.459714Z"
    }
   },
   "outputs": [
    {
     "data": {
      "text/plain": [
       "<Axes: title={'center': 'Boxplot Price After Outlier'}, xlabel='price'>"
      ]
     },
     "execution_count": 19,
     "metadata": {},
     "output_type": "execute_result"
    },
    {
     "data": {
      "image/png": "[encoded data removed]",
      "text/plain": [
       "<Figure size 800x550 with 1 Axes>"
      ]
     },
     "metadata": {},
     "output_type": "display_data"
    }
   ],
   "source": [
    "plt.title(\"Boxplot Price After Outlier\", fontdict = {'fontsize': 20})\n",
    "sns.boxplot(x=df[\"price\"])"
   ]
  },
  {
   "cell_type": "markdown",
   "metadata": {},
   "source": [
    "#### Bivariate Analysis"
   ]
  },
  {
   "cell_type": "markdown",
   "metadata": {},
   "source": [
    "#### Here, when we compare our variable Price with the variable rooms, it is interesting to see that although the greater the number of rooms, the higher the price of the house, not all values ​​fit this pattern."
   ]
  },
  {
   "cell_type": "code",
   "execution_count": 20,
   "metadata": {
    "_kg_hide-input": true,
    "execution": {
     "iopub.execute_input": "2023-01-23T17:06:21.632159Z",
     "iopub.status.busy": "2023-01-23T17:06:21.63106Z",
     "iopub.status.idle": "2023-01-23T17:06:22.077724Z",
     "shell.execute_reply": "2023-01-23T17:06:22.07662Z",
     "shell.execute_reply.started": "2023-01-23T17:06:21.632119Z"
    }
   },
   "outputs": [
    {
     "name": "stderr",
     "output_type": "stream",
     "text": [
      "C:\\Users\\TUSHAR GAURAV\\AppData\\Local\\Temp\\ipykernel_15856\\883212164.py:1: FutureWarning: Passing `palette` without assigning `hue` is deprecated.\n",
      "  sns.catplot(x = \"beds\", y = \"price\", palette = \"Set2\", data = df).set(title='Bed x Price')\n"
     ]
    },
    {
     "data": {
      "text/plain": [
       "<seaborn.axisgrid.FacetGrid at 0x174f7ebe290>"
      ]
     },
     "execution_count": 20,
     "metadata": {},
     "output_type": "execute_result"
    },
    {
     "data": {
      "image/png": "[encoded data removed]",
      "text/plain": [
       "<Figure size 500x500 with 1 Axes>"
      ]
     },
     "metadata": {},
     "output_type": "display_data"
    }
   ],
   "source": [
    "sns.catplot(x = \"beds\", y = \"price\", palette = \"Set2\", data = df).set(title='Bed x Price')"
   ]
  },
  {
   "cell_type": "markdown",
   "metadata": {},
   "source": [
    "#### Same standard as the variable rooms."
   ]
  },
  {
   "cell_type": "code",
   "execution_count": 21,
   "metadata": {
    "_kg_hide-input": true,
    "execution": {
     "iopub.execute_input": "2023-01-23T17:59:06.63757Z",
     "iopub.status.busy": "2023-01-23T17:59:06.637172Z",
     "iopub.status.idle": "2023-01-23T17:59:07.199571Z",
     "shell.execute_reply": "2023-01-23T17:59:07.198475Z",
     "shell.execute_reply.started": "2023-01-23T17:59:06.63754Z"
    }
   },
   "outputs": [
    {
     "name": "stderr",
     "output_type": "stream",
     "text": [
      "C:\\Users\\TUSHAR GAURAV\\AppData\\Local\\Temp\\ipykernel_15856\\3155542215.py:1: FutureWarning: Passing `palette` without assigning `hue` is deprecated.\n",
      "  sns.catplot(x = \"baths\", y = \"price\", palette = \"Set2\", data = df, height=3.2, aspect=3).set(title='Baths x Price')\n"
     ]
    },
    {
     "data": {
      "text/plain": [
       "<seaborn.axisgrid.FacetGrid at 0x174f81039d0>"
      ]
     },
     "execution_count": 21,
     "metadata": {},
     "output_type": "execute_result"
    },
    {
     "data": {
      "image/png": "[encoded data removed]",
      "text/plain": [
       "<Figure size 960x320 with 1 Axes>"
      ]
     },
     "metadata": {},
     "output_type": "display_data"
    }
   ],
   "source": [
    "sns.catplot(x = \"baths\", y = \"price\", palette = \"Set2\", data = df, height=3.2, aspect=3).set(title='Baths x Price')"
   ]
  },
  {
   "cell_type": "markdown",
   "metadata": {},
   "source": [
    "#### Looking at the zip_code variable, we don't see a pattern in a given location."
   ]
  },
  {
   "cell_type": "code",
   "execution_count": 22,
   "metadata": {
    "_kg_hide-input": true,
    "execution": {
     "iopub.execute_input": "2023-01-23T17:58:47.181541Z",
     "iopub.status.busy": "2023-01-23T17:58:47.180315Z",
     "iopub.status.idle": "2023-01-23T17:58:47.981217Z",
     "shell.execute_reply": "2023-01-23T17:58:47.98008Z",
     "shell.execute_reply.started": "2023-01-23T17:58:47.1815Z"
    }
   },
   "outputs": [
    {
     "name": "stderr",
     "output_type": "stream",
     "text": [
      "C:\\Users\\TUSHAR GAURAV\\AppData\\Local\\Temp\\ipykernel_15856\\2204971608.py:1: FutureWarning: Passing `palette` without assigning `hue` is deprecated.\n",
      "  sns.catplot(x = \"zip_code\", y = \"price\", palette = \"Set2\", data = df, height=3.2, aspect=3).set(title='Zip_Code x Price')\n"
     ]
    },
    {
     "data": {
      "text/plain": [
       "<seaborn.axisgrid.FacetGrid at 0x174f8082710>"
      ]
     },
     "execution_count": 22,
     "metadata": {},
     "output_type": "execute_result"
    },
    {
     "data": {
      "image/png": "[encoded data removed]",
      "text/plain": [
       "<Figure size 960x320 with 1 Axes>"
      ]
     },
     "metadata": {},
     "output_type": "display_data"
    }
   ],
   "source": [
    "sns.catplot(x = \"zip_code\", y = \"price\", palette = \"Set2\", data = df, height=3.2, aspect=3).set(title='Zip_Code x Price')"
   ]
  },
  {
   "cell_type": "markdown",
   "metadata": {},
   "source": [
    "#### Now looking at the Size x Price variable, we can see a pattern that makes a lot of sense, generally the bigger the house, the higher the price."
   ]
  },
  {
   "cell_type": "code",
   "execution_count": 23,
   "metadata": {
    "execution": {
     "iopub.execute_input": "2023-01-23T17:07:57.816116Z",
     "iopub.status.busy": "2023-01-23T17:07:57.815695Z",
     "iopub.status.idle": "2023-01-23T17:07:58.270388Z",
     "shell.execute_reply": "2023-01-23T17:07:58.269175Z",
     "shell.execute_reply.started": "2023-01-23T17:07:57.816082Z"
    }
   },
   "outputs": [
    {
     "data": {
      "text/plain": [
       "<seaborn.axisgrid.FacetGrid at 0x174f8d6b810>"
      ]
     },
     "execution_count": 23,
     "metadata": {},
     "output_type": "execute_result"
    },
    {
     "data": {
      "image/png": "[encoded data removed]",
      "text/plain": [
       "<Figure size 500x500 with 1 Axes>"
      ]
     },
     "metadata": {},
     "output_type": "display_data"
    }
   ],
   "source": [
    "sns.relplot(x='size', y = 'price' , data = df).set(title='Size x Price')"
   ]
  },
  {
   "cell_type": "markdown",
   "metadata": {},
   "source": [
    "#### Looking at the variable lot_size by price, we also couldn't find a defined pattern."
   ]
  },
  {
   "cell_type": "code",
   "execution_count": 24,
   "metadata": {
    "_kg_hide-input": true,
    "execution": {
     "iopub.execute_input": "2023-01-23T17:08:33.611895Z",
     "iopub.status.busy": "2023-01-23T17:08:33.611477Z",
     "iopub.status.idle": "2023-01-23T17:08:33.997045Z",
     "shell.execute_reply": "2023-01-23T17:08:33.995716Z",
     "shell.execute_reply.started": "2023-01-23T17:08:33.611864Z"
    }
   },
   "outputs": [
    {
     "data": {
      "text/plain": [
       "<seaborn.axisgrid.FacetGrid at 0x174f8d9cb90>"
      ]
     },
     "execution_count": 24,
     "metadata": {},
     "output_type": "execute_result"
    },
    {
     "data": {
      "image/png": "[encoded data removed]",
      "text/plain": [
       "<Figure size 500x500 with 1 Axes>"
      ]
     },
     "metadata": {},
     "output_type": "display_data"
    }
   ],
   "source": [
    "sns.relplot(x='lot_size', y = 'price' , data = df).set(title='Price x lot_size')"
   ]
  },
  {
   "cell_type": "markdown",
   "metadata": {},
   "source": [
    "#### Now let's take a look specifically at the variable that had a pattern when compared to the Price variable, in this case the Size variable."
   ]
  },
  {
   "cell_type": "markdown",
   "metadata": {},
   "source": [
    "#### This comparison between Beds x Size makes a lot of sense, the larger the number of Beds, the larger the house."
   ]
  },
  {
   "cell_type": "code",
   "execution_count": 25,
   "metadata": {
    "_kg_hide-input": true,
    "execution": {
     "iopub.execute_input": "2023-01-23T17:10:58.465605Z",
     "iopub.status.busy": "2023-01-23T17:10:58.465179Z",
     "iopub.status.idle": "2023-01-23T17:10:58.912033Z",
     "shell.execute_reply": "2023-01-23T17:10:58.910798Z",
     "shell.execute_reply.started": "2023-01-23T17:10:58.465554Z"
    }
   },
   "outputs": [
    {
     "name": "stderr",
     "output_type": "stream",
     "text": [
      "C:\\Users\\TUSHAR GAURAV\\AppData\\Local\\Temp\\ipykernel_15856\\1341030970.py:1: FutureWarning: Passing `palette` without assigning `hue` is deprecated.\n",
      "  sns.catplot(x = \"beds\", y = \"size\", palette = \"Set2\", data = df).set(title='Bed x Size')\n"
     ]
    },
    {
     "data": {
      "text/plain": [
       "<seaborn.axisgrid.FacetGrid at 0x174f901cb10>"
      ]
     },
     "execution_count": 25,
     "metadata": {},
     "output_type": "execute_result"
    },
    {
     "data": {
      "image/png": "[encoded data removed]",
      "text/plain": [
       "<Figure size 500x500 with 1 Axes>"
      ]
     },
     "metadata": {},
     "output_type": "display_data"
    }
   ],
   "source": [
    "sns.catplot(x = \"beds\", y = \"size\", palette = \"Set2\", data = df).set(title='Bed x Size')"
   ]
  },
  {
   "cell_type": "markdown",
   "metadata": {},
   "source": [
    "#### Same sense as when comparing Beds x Size, but we can see that not all cases fit."
   ]
  },
  {
   "cell_type": "code",
   "execution_count": 26,
   "metadata": {
    "_kg_hide-input": true,
    "execution": {
     "iopub.execute_input": "2023-01-23T17:11:12.24761Z",
     "iopub.status.busy": "2023-01-23T17:11:12.247199Z",
     "iopub.status.idle": "2023-01-23T17:11:12.695525Z",
     "shell.execute_reply": "2023-01-23T17:11:12.694199Z",
     "shell.execute_reply.started": "2023-01-23T17:11:12.247559Z"
    }
   },
   "outputs": [
    {
     "name": "stderr",
     "output_type": "stream",
     "text": [
      "C:\\Users\\TUSHAR GAURAV\\AppData\\Local\\Temp\\ipykernel_15856\\764454225.py:1: FutureWarning: Passing `palette` without assigning `hue` is deprecated.\n",
      "  sns.catplot(x = \"beds\", y = \"baths\", palette = \"Set2\", data = df).set(title='Bed x baths')\n"
     ]
    },
    {
     "data": {
      "text/plain": [
       "<seaborn.axisgrid.FacetGrid at 0x174f92c3390>"
      ]
     },
     "execution_count": 26,
     "metadata": {},
     "output_type": "execute_result"
    },
    {
     "data": {
      "image/png": "[encoded data removed]",
      "text/plain": [
       "<Figure size 500x500 with 1 Axes>"
      ]
     },
     "metadata": {},
     "output_type": "display_data"
    }
   ],
   "source": [
    "sns.catplot(x = \"beds\", y = \"baths\", palette = \"Set2\", data = df).set(title='Bed x baths')"
   ]
  },
  {
   "cell_type": "markdown",
   "metadata": {},
   "source": [
    "#### Looking at the Size x Lot_size variable, we did not find a pattern."
   ]
  },
  {
   "cell_type": "code",
   "execution_count": 27,
   "metadata": {
    "_kg_hide-input": true,
    "execution": {
     "iopub.execute_input": "2023-01-23T17:12:30.088623Z",
     "iopub.status.busy": "2023-01-23T17:12:30.088161Z",
     "iopub.status.idle": "2023-01-23T17:12:30.441785Z",
     "shell.execute_reply": "2023-01-23T17:12:30.440453Z",
     "shell.execute_reply.started": "2023-01-23T17:12:30.08857Z"
    }
   },
   "outputs": [
    {
     "data": {
      "text/plain": [
       "<seaborn.axisgrid.FacetGrid at 0x174f9248d50>"
      ]
     },
     "execution_count": 27,
     "metadata": {},
     "output_type": "execute_result"
    },
    {
     "data": {
      "image/png": "[encoded data removed]",
      "text/plain": [
       "<Figure size 500x500 with 1 Axes>"
      ]
     },
     "metadata": {},
     "output_type": "display_data"
    }
   ],
   "source": [
    "sns.relplot(x='size', y = 'lot_size' , data = df).set(title='Size x lot_size')"
   ]
  },
  {
   "cell_type": "markdown",
   "metadata": {},
   "source": [
    "## <font color='blue'> 3. Model Building. </font>"
   ]
  },
  {
   "cell_type": "markdown",
   "metadata": {},
   "source": [
    "#### Separating into features variables and target variable."
   ]
  },
  {
   "cell_type": "code",
   "execution_count": 28,
   "metadata": {
    "execution": {
     "iopub.execute_input": "2023-01-23T17:39:40.788929Z",
     "iopub.status.busy": "2023-01-23T17:39:40.787506Z",
     "iopub.status.idle": "2023-01-23T17:39:40.796116Z",
     "shell.execute_reply": "2023-01-23T17:39:40.794832Z",
     "shell.execute_reply.started": "2023-01-23T17:39:40.78887Z"
    }
   },
   "outputs": [],
   "source": [
    "X = df.drop('price', axis = 1)"
   ]
  },
  {
   "cell_type": "code",
   "execution_count": 29,
   "metadata": {
    "execution": {
     "iopub.execute_input": "2023-01-23T17:39:41.062408Z",
     "iopub.status.busy": "2023-01-23T17:39:41.061479Z",
     "iopub.status.idle": "2023-01-23T17:39:41.068229Z",
     "shell.execute_reply": "2023-01-23T17:39:41.066946Z",
     "shell.execute_reply.started": "2023-01-23T17:39:41.062361Z"
    }
   },
   "outputs": [],
   "source": [
    "X = X.values"
   ]
  },
  {
   "cell_type": "code",
   "execution_count": 30,
   "metadata": {
    "execution": {
     "iopub.execute_input": "2023-01-23T17:39:41.349373Z",
     "iopub.status.busy": "2023-01-23T17:39:41.348904Z",
     "iopub.status.idle": "2023-01-23T17:39:41.354538Z",
     "shell.execute_reply": "2023-01-23T17:39:41.353531Z",
     "shell.execute_reply.started": "2023-01-23T17:39:41.349333Z"
    }
   },
   "outputs": [],
   "source": [
    "y = df['price']"
   ]
  },
  {
   "cell_type": "markdown",
   "metadata": {},
   "source": [
    "#### Label Encoder"
   ]
  },
  {
   "cell_type": "markdown",
   "metadata": {},
   "source": [
    "#### Here we are going to use the LabelEncoder to transform our categorical variables into numeric variables."
   ]
  },
  {
   "cell_type": "code",
   "execution_count": 31,
   "metadata": {
    "execution": {
     "iopub.execute_input": "2023-01-23T17:39:42.540642Z",
     "iopub.status.busy": "2023-01-23T17:39:42.539927Z",
     "iopub.status.idle": "2023-01-23T17:39:42.54566Z",
     "shell.execute_reply": "2023-01-23T17:39:42.54443Z",
     "shell.execute_reply.started": "2023-01-23T17:39:42.540602Z"
    }
   },
   "outputs": [],
   "source": [
    "from sklearn.preprocessing import LabelEncoder"
   ]
  },
  {
   "cell_type": "code",
   "execution_count": 32,
   "metadata": {
    "execution": {
     "iopub.execute_input": "2023-01-23T17:40:17.911316Z",
     "iopub.status.busy": "2023-01-23T17:40:17.910231Z",
     "iopub.status.idle": "2023-01-23T17:40:17.917449Z",
     "shell.execute_reply": "2023-01-23T17:40:17.915875Z",
     "shell.execute_reply.started": "2023-01-23T17:40:17.911251Z"
    }
   },
   "outputs": [],
   "source": [
    "label_encoder_lot_size_units = LabelEncoder()\n",
    "label_encoder_zip_code = LabelEncoder()"
   ]
  },
  {
   "cell_type": "code",
   "execution_count": 33,
   "metadata": {
    "execution": {
     "iopub.execute_input": "2023-01-23T17:40:18.244952Z",
     "iopub.status.busy": "2023-01-23T17:40:18.24452Z",
     "iopub.status.idle": "2023-01-23T17:40:18.252124Z",
     "shell.execute_reply": "2023-01-23T17:40:18.250791Z",
     "shell.execute_reply.started": "2023-01-23T17:40:18.244918Z"
    }
   },
   "outputs": [],
   "source": [
    "X[:,4] = label_encoder_lot_size_units.fit_transform(X[:,4])\n",
    "X[:,5] = label_encoder_zip_code.fit_transform(X[:,5])"
   ]
  },
  {
   "cell_type": "markdown",
   "metadata": {},
   "source": [
    "#### Applying StandardScaler in our data to put the data in the same size setting."
   ]
  },
  {
   "cell_type": "code",
   "execution_count": 34,
   "metadata": {
    "execution": {
     "iopub.execute_input": "2023-01-23T17:40:19.338067Z",
     "iopub.status.busy": "2023-01-23T17:40:19.337652Z",
     "iopub.status.idle": "2023-01-23T17:40:19.347669Z",
     "shell.execute_reply": "2023-01-23T17:40:19.346141Z",
     "shell.execute_reply.started": "2023-01-23T17:40:19.338032Z"
    }
   },
   "outputs": [],
   "source": [
    "from sklearn.preprocessing import StandardScaler\n",
    "scaler = StandardScaler()\n",
    "X_standard = scaler.fit_transform(X)\n",
    "y_standard = scaler.fit_transform(y.values.reshape(-1,1))"
   ]
  },
  {
   "cell_type": "markdown",
   "metadata": {},
   "source": [
    "#### Transforming Data into Train e Test, here we will use 30% of our data to test the machine learning models."
   ]
  },
  {
   "cell_type": "code",
   "execution_count": 35,
   "metadata": {
    "execution": {
     "iopub.execute_input": "2023-01-23T17:40:20.152994Z",
     "iopub.status.busy": "2023-01-23T17:40:20.152569Z",
     "iopub.status.idle": "2023-01-23T17:40:20.159613Z",
     "shell.execute_reply": "2023-01-23T17:40:20.158162Z",
     "shell.execute_reply.started": "2023-01-23T17:40:20.152962Z"
    }
   },
   "outputs": [],
   "source": [
    "from sklearn.model_selection import train_test_split"
   ]
  },
  {
   "cell_type": "code",
   "execution_count": 36,
   "metadata": {
    "execution": {
     "iopub.execute_input": "2023-01-23T18:15:54.998752Z",
     "iopub.status.busy": "2023-01-23T18:15:54.99828Z",
     "iopub.status.idle": "2023-01-23T18:15:55.007783Z",
     "shell.execute_reply": "2023-01-23T18:15:55.006105Z",
     "shell.execute_reply.started": "2023-01-23T18:15:54.998713Z"
    }
   },
   "outputs": [],
   "source": [
    "X_train, X_test, y_train, y_test = train_test_split(X_standard, y_standard, test_size = 0.3, random_state = 0)"
   ]
  },
  {
   "cell_type": "code",
   "execution_count": 37,
   "metadata": {
    "execution": {
     "iopub.execute_input": "2023-01-23T18:16:05.380049Z",
     "iopub.status.busy": "2023-01-23T18:16:05.379631Z",
     "iopub.status.idle": "2023-01-23T18:16:05.388385Z",
     "shell.execute_reply": "2023-01-23T18:16:05.387067Z",
     "shell.execute_reply.started": "2023-01-23T18:16:05.380014Z"
    }
   },
   "outputs": [
    {
     "data": {
      "text/plain": [
       "((1163, 6), (1163, 1))"
      ]
     },
     "execution_count": 37,
     "metadata": {},
     "output_type": "execute_result"
    }
   ],
   "source": [
    "X_train.shape, y_train.shape"
   ]
  },
  {
   "cell_type": "code",
   "execution_count": 38,
   "metadata": {
    "execution": {
     "iopub.execute_input": "2023-01-23T18:16:06.097804Z",
     "iopub.status.busy": "2023-01-23T18:16:06.097348Z",
     "iopub.status.idle": "2023-01-23T18:16:06.104393Z",
     "shell.execute_reply": "2023-01-23T18:16:06.103342Z",
     "shell.execute_reply.started": "2023-01-23T18:16:06.097765Z"
    }
   },
   "outputs": [
    {
     "data": {
      "text/plain": [
       "((499, 6), (499, 1))"
      ]
     },
     "execution_count": 38,
     "metadata": {},
     "output_type": "execute_result"
    }
   ],
   "source": [
    "X_test.shape, y_test.shape"
   ]
  },
  {
   "cell_type": "markdown",
   "metadata": {},
   "source": [
    "#### Linear Regression"
   ]
  },
  {
   "cell_type": "markdown",
   "metadata": {},
   "source": [
    "#### Here we will use the Linear Regression Model."
   ]
  },
  {
   "cell_type": "code",
   "execution_count": 39,
   "metadata": {
    "execution": {
     "iopub.execute_input": "2023-01-23T18:04:27.621357Z",
     "iopub.status.busy": "2023-01-23T18:04:27.620193Z",
     "iopub.status.idle": "2023-01-23T18:04:27.626611Z",
     "shell.execute_reply": "2023-01-23T18:04:27.625448Z",
     "shell.execute_reply.started": "2023-01-23T18:04:27.621316Z"
    }
   },
   "outputs": [],
   "source": [
    "from sklearn.linear_model import LinearRegression\n",
    "lr_model = LinearRegression()"
   ]
  },
  {
   "cell_type": "code",
   "execution_count": 40,
   "metadata": {
    "execution": {
     "iopub.execute_input": "2023-01-23T18:04:28.415026Z",
     "iopub.status.busy": "2023-01-23T18:04:28.414512Z",
     "iopub.status.idle": "2023-01-23T18:04:28.425221Z",
     "shell.execute_reply": "2023-01-23T18:04:28.423819Z",
     "shell.execute_reply.started": "2023-01-23T18:04:28.414987Z"
    }
   },
   "outputs": [
    {
     "data": {
      "text/html": [
       "<style>#sk-container-id-1 {color: black;background-color: white;}#sk-container-id-1 pre{padding: 0;}#sk-container-id-1 div.sk-toggleable {background-color: white;}#sk-container-id-1 label.sk-toggleable__label {cursor: pointer;display: block;width: 100%;margin-bottom: 0;padding: 0.3em;box-sizing: border-box;text-align: center;}#sk-container-id-1 label.sk-toggleable__label-arrow:before {content: \"▸\";float: left;margin-right: 0.25em;color: #696969;}#sk-container-id-1 label.sk-toggleable__label-arrow:hover:before {color: black;}#sk-container-id-1 div.sk-estimator:hover label.sk-toggleable__label-arrow:before {color: black;}#sk-container-id-1 div.sk-toggleable__content {max-height: 0;max-width: 0;overflow: hidden;text-align: left;background-color: #f0f8ff;}#sk-container-id-1 div.sk-toggleable__content pre {margin: 0.2em;color: black;border-radius: 0.25em;background-color: #f0f8ff;}#sk-container-id-1 input.sk-toggleable__control:checked~div.sk-toggleable__content {max-height: 200px;max-width: 100%;overflow: auto;}#sk-container-id-1 input.sk-toggleable__control:checked~label.sk-toggleable__label-arrow:before {content: \"▾\";}#sk-container-id-1 div.sk-estimator input.sk-toggleable__control:checked~label.sk-toggleable__label {background-color: #d4ebff;}#sk-container-id-1 div.sk-label input.sk-toggleable__control:checked~label.sk-toggleable__label {background-color: #d4ebff;}#sk-container-id-1 input.sk-hidden--visually {border: 0;clip: rect(1px 1px 1px 1px);clip: rect(1px, 1px, 1px, 1px);height: 1px;margin: -1px;overflow: hidden;padding: 0;position: absolute;width: 1px;}#sk-container-id-1 div.sk-estimator {font-family: monospace;background-color: #f0f8ff;border: 1px dotted black;border-radius: 0.25em;box-sizing: border-box;margin-bottom: 0.5em;}#sk-container-id-1 div.sk-estimator:hover {background-color: #d4ebff;}#sk-container-id-1 div.sk-parallel-item::after {content: \"\";width: 100%;border-bottom: 1px solid gray;flex-grow: 1;}#sk-container-id-1 div.sk-label:hover label.sk-toggleable__label {background-color: #d4ebff;}#sk-container-id-1 div.sk-serial::before {content: \"\";position: absolute;border-left: 1px solid gray;box-sizing: border-box;top: 0;bottom: 0;left: 50%;z-index: 0;}#sk-container-id-1 div.sk-serial {display: flex;flex-direction: column;align-items: center;background-color: white;padding-right: 0.2em;padding-left: 0.2em;position: relative;}#sk-container-id-1 div.sk-item {position: relative;z-index: 1;}#sk-container-id-1 div.sk-parallel {display: flex;align-items: stretch;justify-content: center;background-color: white;position: relative;}#sk-container-id-1 div.sk-item::before, #sk-container-id-1 div.sk-parallel-item::before {content: \"\";position: absolute;border-left: 1px solid gray;box-sizing: border-box;top: 0;bottom: 0;left: 50%;z-index: -1;}#sk-container-id-1 div.sk-parallel-item {display: flex;flex-direction: column;z-index: 1;position: relative;background-color: white;}#sk-container-id-1 div.sk-parallel-item:first-child::after {align-self: flex-end;width: 50%;}#sk-container-id-1 div.sk-parallel-item:last-child::after {align-self: flex-start;width: 50%;}#sk-container-id-1 div.sk-parallel-item:only-child::after {width: 0;}#sk-container-id-1 div.sk-dashed-wrapped {border: 1px dashed gray;margin: 0 0.4em 0.5em 0.4em;box-sizing: border-box;padding-bottom: 0.4em;background-color: white;}#sk-container-id-1 div.sk-label label {font-family: monospace;font-weight: bold;display: inline-block;line-height: 1.2em;}#sk-container-id-1 div.sk-label-container {text-align: center;}#sk-container-id-1 div.sk-container {/* jupyter's `normalize.less` sets `[hidden] { display: none; }` but bootstrap.min.css set `[hidden] { display: none !important; }` so we also need the `!important` here to be able to override the default hidden behavior on the sphinx rendered scikit-learn.org. See: https://github.com/scikit-learn/scikit-learn/issues/21755 */display: inline-block !important;position: relative;}#sk-container-id-1 div.sk-text-repr-fallback {display: none;}</style><div id=\"sk-container-id-1\" class=\"sk-top-container\"><div class=\"sk-text-repr-fallback\"><pre>LinearRegression()</pre><b>In a Jupyter environment, please rerun this cell to show the HTML representation or trust the notebook. <br />On GitHub, the HTML representation is unable to render, please try loading this page with nbviewer.org.</b></div><div class=\"sk-container\" hidden><div class=\"sk-item\"><div class=\"sk-estimator sk-toggleable\"><input class=\"sk-toggleable__control sk-hidden--visually\" id=\"sk-estimator-id-1\" type=\"checkbox\" checked><label for=\"sk-estimator-id-1\" class=\"sk-toggleable__label sk-toggleable__label-arrow\">LinearRegression</label><div class=\"sk-toggleable__content\"><pre>LinearRegression()</pre></div></div></div></div></div>"
      ],
      "text/plain": [
       "LinearRegression()"
      ]
     },
     "execution_count": 40,
     "metadata": {},
     "output_type": "execute_result"
    }
   ],
   "source": [
    "lr_model.fit(X_train, y_train)"
   ]
  },
  {
   "cell_type": "markdown",
   "metadata": {},
   "source": [
    "#### Looking at our scores in the training base and in the test base, in the training base we have 60,03% of accuracy, it isn't a good number, when we look at the test base we have 64,31%"
   ]
  },
  {
   "cell_type": "code",
   "execution_count": 41,
   "metadata": {
    "execution": {
     "iopub.execute_input": "2023-01-23T18:04:29.088206Z",
     "iopub.status.busy": "2023-01-23T18:04:29.087259Z",
     "iopub.status.idle": "2023-01-23T18:04:29.094643Z",
     "shell.execute_reply": "2023-01-23T18:04:29.09358Z",
     "shell.execute_reply.started": "2023-01-23T18:04:29.088157Z"
    }
   },
   "outputs": [],
   "source": [
    "lr_normal_score_train = lr_model.score(X_train, y_train)"
   ]
  },
  {
   "cell_type": "code",
   "execution_count": 42,
   "metadata": {
    "execution": {
     "iopub.execute_input": "2023-01-23T18:04:29.68823Z",
     "iopub.status.busy": "2023-01-23T18:04:29.687504Z",
     "iopub.status.idle": "2023-01-23T18:04:29.696396Z",
     "shell.execute_reply": "2023-01-23T18:04:29.695279Z",
     "shell.execute_reply.started": "2023-01-23T18:04:29.688189Z"
    }
   },
   "outputs": [
    {
     "data": {
      "text/plain": [
       "0.6003350048655648"
      ]
     },
     "execution_count": 42,
     "metadata": {},
     "output_type": "execute_result"
    }
   ],
   "source": [
    "lr_normal_score_train"
   ]
  },
  {
   "cell_type": "code",
   "execution_count": 43,
   "metadata": {
    "execution": {
     "iopub.execute_input": "2023-01-23T18:04:30.388858Z",
     "iopub.status.busy": "2023-01-23T18:04:30.388394Z",
     "iopub.status.idle": "2023-01-23T18:04:30.395493Z",
     "shell.execute_reply": "2023-01-23T18:04:30.394643Z",
     "shell.execute_reply.started": "2023-01-23T18:04:30.388822Z"
    }
   },
   "outputs": [],
   "source": [
    "lr_normal_score_test = lr_model.score(X_test, y_test)"
   ]
  },
  {
   "cell_type": "code",
   "execution_count": 44,
   "metadata": {
    "execution": {
     "iopub.execute_input": "2023-01-23T18:04:31.238099Z",
     "iopub.status.busy": "2023-01-23T18:04:31.237437Z",
     "iopub.status.idle": "2023-01-23T18:04:31.244302Z",
     "shell.execute_reply": "2023-01-23T18:04:31.24317Z",
     "shell.execute_reply.started": "2023-01-23T18:04:31.238063Z"
    }
   },
   "outputs": [
    {
     "data": {
      "text/plain": [
       "0.6431858188414719"
      ]
     },
     "execution_count": 44,
     "metadata": {},
     "output_type": "execute_result"
    }
   ],
   "source": [
    "lr_normal_score_test"
   ]
  },
  {
   "cell_type": "markdown",
   "metadata": {},
   "source": [
    "#### Checking for model errors"
   ]
  },
  {
   "cell_type": "code",
   "execution_count": 45,
   "metadata": {
    "execution": {
     "iopub.execute_input": "2023-01-23T18:04:32.128211Z",
     "iopub.status.busy": "2023-01-23T18:04:32.127774Z",
     "iopub.status.idle": "2023-01-23T18:04:32.133578Z",
     "shell.execute_reply": "2023-01-23T18:04:32.132664Z",
     "shell.execute_reply.started": "2023-01-23T18:04:32.128176Z"
    }
   },
   "outputs": [],
   "source": [
    "previsoes = lr_model.predict(X_test)"
   ]
  },
  {
   "cell_type": "markdown",
   "metadata": {},
   "source": [
    "#### Looking at our Mean Absolut Error metric, we have the number of 214704, which tells us that it can err 214704 up or down, and when we look at our Root Mean Square Error we get the number of 324865."
   ]
  },
  {
   "cell_type": "code",
   "execution_count": 46,
   "metadata": {
    "execution": {
     "iopub.execute_input": "2023-01-23T18:04:32.476777Z",
     "iopub.status.busy": "2023-01-23T18:04:32.475622Z",
     "iopub.status.idle": "2023-01-23T18:04:32.482754Z",
     "shell.execute_reply": "2023-01-23T18:04:32.481273Z",
     "shell.execute_reply.started": "2023-01-23T18:04:32.476731Z"
    }
   },
   "outputs": [],
   "source": [
    "mae_lr_normal = mean_absolute_error(y_test, previsoes)"
   ]
  },
  {
   "cell_type": "code",
   "execution_count": 47,
   "metadata": {
    "execution": {
     "iopub.execute_input": "2023-01-23T18:04:33.237873Z",
     "iopub.status.busy": "2023-01-23T18:04:33.237379Z",
     "iopub.status.idle": "2023-01-23T18:04:33.245316Z",
     "shell.execute_reply": "2023-01-23T18:04:33.243888Z",
     "shell.execute_reply.started": "2023-01-23T18:04:33.237831Z"
    }
   },
   "outputs": [
    {
     "data": {
      "text/plain": [
       "0.4020685550560498"
      ]
     },
     "execution_count": 47,
     "metadata": {},
     "output_type": "execute_result"
    }
   ],
   "source": [
    "mae_lr_normal"
   ]
  },
  {
   "cell_type": "code",
   "execution_count": 48,
   "metadata": {
    "execution": {
     "iopub.execute_input": "2023-01-23T18:04:33.881816Z",
     "iopub.status.busy": "2023-01-23T18:04:33.881332Z",
     "iopub.status.idle": "2023-01-23T18:04:33.888734Z",
     "shell.execute_reply": "2023-01-23T18:04:33.887391Z",
     "shell.execute_reply.started": "2023-01-23T18:04:33.881768Z"
    }
   },
   "outputs": [],
   "source": [
    "rmse_lr_normal = np.sqrt(mean_squared_error(y_test, previsoes))"
   ]
  },
  {
   "cell_type": "code",
   "execution_count": 49,
   "metadata": {
    "execution": {
     "iopub.execute_input": "2023-01-23T18:04:34.430764Z",
     "iopub.status.busy": "2023-01-23T18:04:34.430348Z",
     "iopub.status.idle": "2023-01-23T18:04:34.439014Z",
     "shell.execute_reply": "2023-01-23T18:04:34.437816Z",
     "shell.execute_reply.started": "2023-01-23T18:04:34.43073Z"
    }
   },
   "outputs": [
    {
     "data": {
      "text/plain": [
       "0.6083618124561568"
      ]
     },
     "execution_count": 49,
     "metadata": {},
     "output_type": "execute_result"
    }
   ],
   "source": [
    "rmse_lr_normal"
   ]
  },
  {
   "cell_type": "markdown",
   "metadata": {},
   "source": [
    "#### Polynomial Regression"
   ]
  },
  {
   "cell_type": "markdown",
   "metadata": {},
   "source": [
    "#### Here we will use the Polynomial Regression Model."
   ]
  },
  {
   "cell_type": "code",
   "execution_count": 50,
   "metadata": {
    "execution": {
     "iopub.execute_input": "2023-01-23T17:40:32.496527Z",
     "iopub.status.busy": "2023-01-23T17:40:32.495776Z",
     "iopub.status.idle": "2023-01-23T17:40:32.502635Z",
     "shell.execute_reply": "2023-01-23T17:40:32.501155Z",
     "shell.execute_reply.started": "2023-01-23T17:40:32.496477Z"
    }
   },
   "outputs": [],
   "source": [
    "from sklearn.preprocessing import PolynomialFeatures"
   ]
  },
  {
   "cell_type": "markdown",
   "metadata": {},
   "source": [
    "#### Running the Model"
   ]
  },
  {
   "cell_type": "code",
   "execution_count": 51,
   "metadata": {
    "execution": {
     "iopub.execute_input": "2023-01-23T17:40:33.669024Z",
     "iopub.status.busy": "2023-01-23T17:40:33.668618Z",
     "iopub.status.idle": "2023-01-23T17:40:33.675304Z",
     "shell.execute_reply": "2023-01-23T17:40:33.674Z",
     "shell.execute_reply.started": "2023-01-23T17:40:33.668992Z"
    }
   },
   "outputs": [],
   "source": [
    "poly = PolynomialFeatures(degree = 2)"
   ]
  },
  {
   "cell_type": "code",
   "execution_count": 52,
   "metadata": {
    "execution": {
     "iopub.execute_input": "2023-01-23T17:40:34.032791Z",
     "iopub.status.busy": "2023-01-23T17:40:34.032335Z",
     "iopub.status.idle": "2023-01-23T17:40:34.041516Z",
     "shell.execute_reply": "2023-01-23T17:40:34.040215Z",
     "shell.execute_reply.started": "2023-01-23T17:40:34.032752Z"
    }
   },
   "outputs": [],
   "source": [
    "X_poly_train = poly.fit_transform(X_train)"
   ]
  },
  {
   "cell_type": "code",
   "execution_count": 53,
   "metadata": {
    "execution": {
     "iopub.execute_input": "2023-01-23T17:40:34.840028Z",
     "iopub.status.busy": "2023-01-23T17:40:34.839539Z",
     "iopub.status.idle": "2023-01-23T17:40:34.849581Z",
     "shell.execute_reply": "2023-01-23T17:40:34.84874Z",
     "shell.execute_reply.started": "2023-01-23T17:40:34.839989Z"
    }
   },
   "outputs": [],
   "source": [
    "X_poly_test = poly.transform(X_test)"
   ]
  },
  {
   "cell_type": "code",
   "execution_count": 54,
   "metadata": {
    "execution": {
     "iopub.execute_input": "2023-01-23T17:40:35.109259Z",
     "iopub.status.busy": "2023-01-23T17:40:35.108876Z",
     "iopub.status.idle": "2023-01-23T17:40:35.117023Z",
     "shell.execute_reply": "2023-01-23T17:40:35.115627Z",
     "shell.execute_reply.started": "2023-01-23T17:40:35.10923Z"
    }
   },
   "outputs": [
    {
     "data": {
      "text/plain": [
       "((1163, 28), (499, 28))"
      ]
     },
     "execution_count": 54,
     "metadata": {},
     "output_type": "execute_result"
    }
   ],
   "source": [
    "X_poly_train.shape, X_poly_test.shape"
   ]
  },
  {
   "cell_type": "code",
   "execution_count": 55,
   "metadata": {
    "execution": {
     "iopub.execute_input": "2023-01-23T17:40:36.325778Z",
     "iopub.status.busy": "2023-01-23T17:40:36.325346Z",
     "iopub.status.idle": "2023-01-23T17:40:36.331205Z",
     "shell.execute_reply": "2023-01-23T17:40:36.329971Z",
     "shell.execute_reply.started": "2023-01-23T17:40:36.325745Z"
    }
   },
   "outputs": [],
   "source": [
    "lr_poly = LinearRegression()"
   ]
  },
  {
   "cell_type": "code",
   "execution_count": 56,
   "metadata": {
    "execution": {
     "iopub.execute_input": "2023-01-23T17:40:37.298325Z",
     "iopub.status.busy": "2023-01-23T17:40:37.297875Z",
     "iopub.status.idle": "2023-01-23T17:40:37.320865Z",
     "shell.execute_reply": "2023-01-23T17:40:37.319183Z",
     "shell.execute_reply.started": "2023-01-23T17:40:37.29829Z"
    }
   },
   "outputs": [
    {
     "data": {
      "text/html": [
       "<style>#sk-container-id-2 {color: black;background-color: white;}#sk-container-id-2 pre{padding: 0;}#sk-container-id-2 div.sk-toggleable {background-color: white;}#sk-container-id-2 label.sk-toggleable__label {cursor: pointer;display: block;width: 100%;margin-bottom: 0;padding: 0.3em;box-sizing: border-box;text-align: center;}#sk-container-id-2 label.sk-toggleable__label-arrow:before {content: \"▸\";float: left;margin-right: 0.25em;color: #696969;}#sk-container-id-2 label.sk-toggleable__label-arrow:hover:before {color: black;}#sk-container-id-2 div.sk-estimator:hover label.sk-toggleable__label-arrow:before {color: black;}#sk-container-id-2 div.sk-toggleable__content {max-height: 0;max-width: 0;overflow: hidden;text-align: left;background-color: #f0f8ff;}#sk-container-id-2 div.sk-toggleable__content pre {margin: 0.2em;color: black;border-radius: 0.25em;background-color: #f0f8ff;}#sk-container-id-2 input.sk-toggleable__control:checked~div.sk-toggleable__content {max-height: 200px;max-width: 100%;overflow: auto;}#sk-container-id-2 input.sk-toggleable__control:checked~label.sk-toggleable__label-arrow:before {content: \"▾\";}#sk-container-id-2 div.sk-estimator input.sk-toggleable__control:checked~label.sk-toggleable__label {background-color: #d4ebff;}#sk-container-id-2 div.sk-label input.sk-toggleable__control:checked~label.sk-toggleable__label {background-color: #d4ebff;}#sk-container-id-2 input.sk-hidden--visually {border: 0;clip: rect(1px 1px 1px 1px);clip: rect(1px, 1px, 1px, 1px);height: 1px;margin: -1px;overflow: hidden;padding: 0;position: absolute;width: 1px;}#sk-container-id-2 div.sk-estimator {font-family: monospace;background-color: #f0f8ff;border: 1px dotted black;border-radius: 0.25em;box-sizing: border-box;margin-bottom: 0.5em;}#sk-container-id-2 div.sk-estimator:hover {background-color: #d4ebff;}#sk-container-id-2 div.sk-parallel-item::after {content: \"\";width: 100%;border-bottom: 1px solid gray;flex-grow: 1;}#sk-container-id-2 div.sk-label:hover label.sk-toggleable__label {background-color: #d4ebff;}#sk-container-id-2 div.sk-serial::before {content: \"\";position: absolute;border-left: 1px solid gray;box-sizing: border-box;top: 0;bottom: 0;left: 50%;z-index: 0;}#sk-container-id-2 div.sk-serial {display: flex;flex-direction: column;align-items: center;background-color: white;padding-right: 0.2em;padding-left: 0.2em;position: relative;}#sk-container-id-2 div.sk-item {position: relative;z-index: 1;}#sk-container-id-2 div.sk-parallel {display: flex;align-items: stretch;justify-content: center;background-color: white;position: relative;}#sk-container-id-2 div.sk-item::before, #sk-container-id-2 div.sk-parallel-item::before {content: \"\";position: absolute;border-left: 1px solid gray;box-sizing: border-box;top: 0;bottom: 0;left: 50%;z-index: -1;}#sk-container-id-2 div.sk-parallel-item {display: flex;flex-direction: column;z-index: 1;position: relative;background-color: white;}#sk-container-id-2 div.sk-parallel-item:first-child::after {align-self: flex-end;width: 50%;}#sk-container-id-2 div.sk-parallel-item:last-child::after {align-self: flex-start;width: 50%;}#sk-container-id-2 div.sk-parallel-item:only-child::after {width: 0;}#sk-container-id-2 div.sk-dashed-wrapped {border: 1px dashed gray;margin: 0 0.4em 0.5em 0.4em;box-sizing: border-box;padding-bottom: 0.4em;background-color: white;}#sk-container-id-2 div.sk-label label {font-family: monospace;font-weight: bold;display: inline-block;line-height: 1.2em;}#sk-container-id-2 div.sk-label-container {text-align: center;}#sk-container-id-2 div.sk-container {/* jupyter's `normalize.less` sets `[hidden] { display: none; }` but bootstrap.min.css set `[hidden] { display: none !important; }` so we also need the `!important` here to be able to override the default hidden behavior on the sphinx rendered scikit-learn.org. See: https://github.com/scikit-learn/scikit-learn/issues/21755 */display: inline-block !important;position: relative;}#sk-container-id-2 div.sk-text-repr-fallback {display: none;}</style><div id=\"sk-container-id-2\" class=\"sk-top-container\"><div class=\"sk-text-repr-fallback\"><pre>LinearRegression()</pre><b>In a Jupyter environment, please rerun this cell to show the HTML representation or trust the notebook. <br />On GitHub, the HTML representation is unable to render, please try loading this page with nbviewer.org.</b></div><div class=\"sk-container\" hidden><div class=\"sk-item\"><div class=\"sk-estimator sk-toggleable\"><input class=\"sk-toggleable__control sk-hidden--visually\" id=\"sk-estimator-id-2\" type=\"checkbox\" checked><label for=\"sk-estimator-id-2\" class=\"sk-toggleable__label sk-toggleable__label-arrow\">LinearRegression</label><div class=\"sk-toggleable__content\"><pre>LinearRegression()</pre></div></div></div></div></div>"
      ],
      "text/plain": [
       "LinearRegression()"
      ]
     },
     "execution_count": 56,
     "metadata": {},
     "output_type": "execute_result"
    }
   ],
   "source": [
    "lr_poly.fit(X_poly_train, y_train)"
   ]
  },
  {
   "cell_type": "markdown",
   "metadata": {},
   "source": [
    "#### Using the Polynomial model we had an improvement in the training result but the training result was practically the same."
   ]
  },
  {
   "cell_type": "code",
   "execution_count": 57,
   "metadata": {
    "execution": {
     "iopub.execute_input": "2023-01-23T17:40:39.737717Z",
     "iopub.status.busy": "2023-01-23T17:40:39.737258Z",
     "iopub.status.idle": "2023-01-23T17:40:39.754313Z",
     "shell.execute_reply": "2023-01-23T17:40:39.751818Z",
     "shell.execute_reply.started": "2023-01-23T17:40:39.737683Z"
    }
   },
   "outputs": [],
   "source": [
    "lr_poly_normal_score_train = lr_poly.score(X_poly_train, y_train)"
   ]
  },
  {
   "cell_type": "code",
   "execution_count": 58,
   "metadata": {
    "execution": {
     "iopub.execute_input": "2023-01-23T17:40:40.7707Z",
     "iopub.status.busy": "2023-01-23T17:40:40.770251Z",
     "iopub.status.idle": "2023-01-23T17:40:40.778056Z",
     "shell.execute_reply": "2023-01-23T17:40:40.776857Z",
     "shell.execute_reply.started": "2023-01-23T17:40:40.770659Z"
    }
   },
   "outputs": [
    {
     "data": {
      "text/plain": [
       "0.6264282297322146"
      ]
     },
     "execution_count": 58,
     "metadata": {},
     "output_type": "execute_result"
    }
   ],
   "source": [
    "lr_poly_normal_score_train"
   ]
  },
  {
   "cell_type": "code",
   "execution_count": 59,
   "metadata": {
    "execution": {
     "iopub.execute_input": "2023-01-23T17:40:41.640716Z",
     "iopub.status.busy": "2023-01-23T17:40:41.64027Z",
     "iopub.status.idle": "2023-01-23T17:40:41.653611Z",
     "shell.execute_reply": "2023-01-23T17:40:41.651774Z",
     "shell.execute_reply.started": "2023-01-23T17:40:41.64068Z"
    }
   },
   "outputs": [],
   "source": [
    "lr_poly_normal_score_test = lr_poly.score(X_poly_test, y_test)"
   ]
  },
  {
   "cell_type": "code",
   "execution_count": 60,
   "metadata": {
    "execution": {
     "iopub.execute_input": "2023-01-23T17:40:41.885924Z",
     "iopub.status.busy": "2023-01-23T17:40:41.885217Z",
     "iopub.status.idle": "2023-01-23T17:40:41.893487Z",
     "shell.execute_reply": "2023-01-23T17:40:41.892207Z",
     "shell.execute_reply.started": "2023-01-23T17:40:41.885874Z"
    }
   },
   "outputs": [
    {
     "data": {
      "text/plain": [
       "0.6455608149080935"
      ]
     },
     "execution_count": 60,
     "metadata": {},
     "output_type": "execute_result"
    }
   ],
   "source": [
    "lr_poly_normal_score_test"
   ]
  },
  {
   "cell_type": "markdown",
   "metadata": {},
   "source": [
    "#### Checking for Models errors."
   ]
  },
  {
   "cell_type": "code",
   "execution_count": 61,
   "metadata": {
    "execution": {
     "iopub.execute_input": "2023-01-23T18:07:12.580927Z",
     "iopub.status.busy": "2023-01-23T18:07:12.580461Z",
     "iopub.status.idle": "2023-01-23T18:07:12.587869Z",
     "shell.execute_reply": "2023-01-23T18:07:12.58643Z",
     "shell.execute_reply.started": "2023-01-23T18:07:12.580892Z"
    }
   },
   "outputs": [],
   "source": [
    "previsoes = lr_poly.predict(X_poly_test)"
   ]
  },
  {
   "cell_type": "markdown",
   "metadata": {},
   "source": [
    "#### Looking at our Mean Absolut Error metric, we have the number of 217277, which tells us that it can err 217277 up or down, and when we look at our Root Mean Square Error we get the number of 323803."
   ]
  },
  {
   "cell_type": "code",
   "execution_count": 62,
   "metadata": {
    "execution": {
     "iopub.execute_input": "2023-01-23T18:07:24.919232Z",
     "iopub.status.busy": "2023-01-23T18:07:24.917784Z",
     "iopub.status.idle": "2023-01-23T18:07:24.926524Z",
     "shell.execute_reply": "2023-01-23T18:07:24.925164Z",
     "shell.execute_reply.started": "2023-01-23T18:07:24.919178Z"
    }
   },
   "outputs": [],
   "source": [
    "mae_poly_normal = mean_absolute_error(y_test, previsoes)"
   ]
  },
  {
   "cell_type": "code",
   "execution_count": 63,
   "metadata": {
    "execution": {
     "iopub.execute_input": "2023-01-23T18:07:26.760368Z",
     "iopub.status.busy": "2023-01-23T18:07:26.75999Z",
     "iopub.status.idle": "2023-01-23T18:07:26.766873Z",
     "shell.execute_reply": "2023-01-23T18:07:26.765692Z",
     "shell.execute_reply.started": "2023-01-23T18:07:26.760338Z"
    }
   },
   "outputs": [
    {
     "data": {
      "text/plain": [
       "0.40685885903400676"
      ]
     },
     "execution_count": 63,
     "metadata": {},
     "output_type": "execute_result"
    }
   ],
   "source": [
    "mae_poly_normal"
   ]
  },
  {
   "cell_type": "code",
   "execution_count": 64,
   "metadata": {
    "execution": {
     "iopub.execute_input": "2023-01-23T18:07:34.829246Z",
     "iopub.status.busy": "2023-01-23T18:07:34.828873Z",
     "iopub.status.idle": "2023-01-23T18:07:34.83676Z",
     "shell.execute_reply": "2023-01-23T18:07:34.835226Z",
     "shell.execute_reply.started": "2023-01-23T18:07:34.829217Z"
    }
   },
   "outputs": [],
   "source": [
    "rmse_poly_normal = np.sqrt(mean_squared_error(y_test, previsoes))"
   ]
  },
  {
   "cell_type": "code",
   "execution_count": 65,
   "metadata": {
    "execution": {
     "iopub.execute_input": "2023-01-23T18:07:37.557497Z",
     "iopub.status.busy": "2023-01-23T18:07:37.557082Z",
     "iopub.status.idle": "2023-01-23T18:07:37.564119Z",
     "shell.execute_reply": "2023-01-23T18:07:37.563286Z",
     "shell.execute_reply.started": "2023-01-23T18:07:37.557461Z"
    }
   },
   "outputs": [
    {
     "data": {
      "text/plain": [
       "0.6063337691406073"
      ]
     },
     "execution_count": 65,
     "metadata": {},
     "output_type": "execute_result"
    }
   ],
   "source": [
    "rmse_poly_normal"
   ]
  },
  {
   "cell_type": "markdown",
   "metadata": {},
   "source": [
    "#### Decision Tree"
   ]
  },
  {
   "cell_type": "code",
   "execution_count": 66,
   "metadata": {
    "execution": {
     "iopub.execute_input": "2023-01-23T17:40:43.215809Z",
     "iopub.status.busy": "2023-01-23T17:40:43.215375Z",
     "iopub.status.idle": "2023-01-23T17:40:43.222304Z",
     "shell.execute_reply": "2023-01-23T17:40:43.220573Z",
     "shell.execute_reply.started": "2023-01-23T17:40:43.215772Z"
    }
   },
   "outputs": [],
   "source": [
    "from sklearn.tree import DecisionTreeRegressor"
   ]
  },
  {
   "cell_type": "markdown",
   "metadata": {},
   "source": [
    "#### Applying GridSearch"
   ]
  },
  {
   "cell_type": "markdown",
   "metadata": {},
   "source": [
    "#### Here we are applying GridSearch to check which are the best metrics to use."
   ]
  },
  {
   "cell_type": "code",
   "execution_count": 67,
   "metadata": {
    "execution": {
     "iopub.execute_input": "2023-01-23T17:40:44.520852Z",
     "iopub.status.busy": "2023-01-23T17:40:44.52035Z",
     "iopub.status.idle": "2023-01-23T17:40:44.529073Z",
     "shell.execute_reply": "2023-01-23T17:40:44.527454Z",
     "shell.execute_reply.started": "2023-01-23T17:40:44.520813Z"
    }
   },
   "outputs": [],
   "source": [
    "min_split = np.array([2, 3, 4, 5, 6, 7])\n",
    "max_nvl = np.array([3, 4, 5, 6, 7, 9, 11])\n",
    "alg = ['squared_error', 'friedman_mse', 'absolute_error', 'poisson']\n",
    "values_grid = {'min_samples_split': min_split, 'max_depth': max_nvl, 'criterion': alg}"
   ]
  },
  {
   "cell_type": "code",
   "execution_count": 68,
   "metadata": {
    "execution": {
     "iopub.execute_input": "2023-01-23T17:40:45.729149Z",
     "iopub.status.busy": "2023-01-23T17:40:45.728693Z",
     "iopub.status.idle": "2023-01-23T17:40:45.735237Z",
     "shell.execute_reply": "2023-01-23T17:40:45.734098Z",
     "shell.execute_reply.started": "2023-01-23T17:40:45.72911Z"
    }
   },
   "outputs": [],
   "source": [
    "model = DecisionTreeRegressor()"
   ]
  },
  {
   "cell_type": "code",
   "execution_count": 69,
   "metadata": {
    "execution": {
     "iopub.execute_input": "2023-01-23T17:40:46.046717Z",
     "iopub.status.busy": "2023-01-23T17:40:46.04584Z",
     "iopub.status.idle": "2023-01-23T17:40:46.05176Z",
     "shell.execute_reply": "2023-01-23T17:40:46.050702Z",
     "shell.execute_reply.started": "2023-01-23T17:40:46.046677Z"
    }
   },
   "outputs": [],
   "source": [
    "gridDecisionTree = GridSearchCV(estimator = model, param_grid = values_grid, cv = 5, n_jobs = -1)"
   ]
  },
  {
   "cell_type": "code",
   "execution_count": 70,
   "metadata": {
    "execution": {
     "iopub.execute_input": "2023-01-23T17:40:46.801061Z",
     "iopub.status.busy": "2023-01-23T17:40:46.800659Z",
     "iopub.status.idle": "2023-01-23T17:40:50.452133Z",
     "shell.execute_reply": "2023-01-23T17:40:50.450776Z",
     "shell.execute_reply.started": "2023-01-23T17:40:46.80103Z"
    }
   },
   "outputs": [
    {
     "name": "stderr",
     "output_type": "stream",
     "text": [
      "C:\\Users\\TUSHAR GAURAV\\AppData\\Local\\Programs\\Python\\Python311\\Lib\\site-packages\\sklearn\\model_selection\\_validation.py:378: FitFailedWarning: \n",
      "210 fits failed out of a total of 840.\n",
      "The score on these train-test partitions for these parameters will be set to nan.\n",
      "If these failures are not expected, you can try to debug them by setting error_score='raise'.\n",
      "\n",
      "Below are more details about the failures:\n",
      "--------------------------------------------------------------------------------\n",
      "210 fits failed with the following error:\n",
      "Traceback (most recent call last):\n",
      "  File \"C:\\Users\\TUSHAR GAURAV\\AppData\\Local\\Programs\\Python\\Python311\\Lib\\site-packages\\sklearn\\model_selection\\_validation.py\", line 686, in _fit_and_score\n",
      "    estimator.fit(X_train, y_train, **fit_params)\n",
      "  File \"C:\\Users\\TUSHAR GAURAV\\AppData\\Local\\Programs\\Python\\Python311\\Lib\\site-packages\\sklearn\\tree\\_classes.py\", line 1247, in fit\n",
      "    super().fit(\n",
      "  File \"C:\\Users\\TUSHAR GAURAV\\AppData\\Local\\Programs\\Python\\Python311\\Lib\\site-packages\\sklearn\\tree\\_classes.py\", line 199, in fit\n",
      "    raise ValueError(\n",
      "ValueError: Some value(s) of y are negative which is not allowed for Poisson regression.\n",
      "\n",
      "  warnings.warn(some_fits_failed_message, FitFailedWarning)\n",
      "C:\\Users\\TUSHAR GAURAV\\AppData\\Local\\Programs\\Python\\Python311\\Lib\\site-packages\\sklearn\\model_selection\\_search.py:952: UserWarning: One or more of the test scores are non-finite: [0.50748372 0.50748372 0.50748372 0.50748372 0.50748372 0.50748372\n",
      " 0.49426948 0.49374842 0.4908202  0.49374842 0.49374842 0.50722754\n",
      " 0.49286418 0.49024657 0.49347563 0.48952005 0.49708444 0.51028535\n",
      " 0.48332604 0.48142783 0.47160499 0.49562338 0.50069137 0.51814908\n",
      " 0.49205682 0.46739938 0.47992654 0.48837431 0.48493521 0.50691578\n",
      " 0.43698357 0.44532815 0.43673991 0.4663944  0.46383341 0.48731342\n",
      " 0.37502895 0.38471896 0.40599023 0.42870289 0.43180263 0.45306213\n",
      " 0.50748372 0.50748372 0.50748372 0.50748372 0.50748372 0.50748372\n",
      " 0.49719771 0.49374842 0.4908202  0.49374842 0.49374842 0.50429931\n",
      " 0.49286418 0.49183499 0.49347563 0.48952005 0.49708444 0.51028535\n",
      " 0.4968602  0.48489407 0.48366374 0.50416095 0.50069137 0.52502686\n",
      " 0.48147944 0.47525993 0.49383024 0.49613256 0.4974958  0.5098717\n",
      " 0.44147129 0.43561153 0.44883437 0.46860741 0.47757205 0.49622335\n",
      " 0.37209085 0.40185711 0.41638476 0.42831509 0.43783398 0.45576907\n",
      " 0.49947428 0.49947428 0.49947428 0.49947428 0.49947428 0.49947428\n",
      " 0.50531939 0.50531939 0.50531939 0.50531939 0.50532652 0.50532652\n",
      " 0.52741772 0.52326735 0.52326735 0.52286712 0.52546936 0.52561381\n",
      " 0.51288163 0.50552938 0.50915474 0.51089171 0.50451503 0.51324009\n",
      " 0.46569887 0.50474048 0.51532892 0.51062709 0.50583362 0.51325084\n",
      " 0.49362317 0.47585049 0.49286298 0.47656807 0.48941387 0.49323244\n",
      " 0.39892573 0.44156853 0.44657028 0.45263473 0.45990212 0.47124284\n",
      "        nan        nan        nan        nan        nan        nan\n",
      "        nan        nan        nan        nan        nan        nan\n",
      "        nan        nan        nan        nan        nan        nan\n",
      "        nan        nan        nan        nan        nan        nan\n",
      "        nan        nan        nan        nan        nan        nan\n",
      "        nan        nan        nan        nan        nan        nan\n",
      "        nan        nan        nan        nan        nan        nan]\n",
      "  warnings.warn(\n"
     ]
    },
    {
     "data": {
      "text/html": [
       "<style>#sk-container-id-3 {color: black;background-color: white;}#sk-container-id-3 pre{padding: 0;}#sk-container-id-3 div.sk-toggleable {background-color: white;}#sk-container-id-3 label.sk-toggleable__label {cursor: pointer;display: block;width: 100%;margin-bottom: 0;padding: 0.3em;box-sizing: border-box;text-align: center;}#sk-container-id-3 label.sk-toggleable__label-arrow:before {content: \"▸\";float: left;margin-right: 0.25em;color: #696969;}#sk-container-id-3 label.sk-toggleable__label-arrow:hover:before {color: black;}#sk-container-id-3 div.sk-estimator:hover label.sk-toggleable__label-arrow:before {color: black;}#sk-container-id-3 div.sk-toggleable__content {max-height: 0;max-width: 0;overflow: hidden;text-align: left;background-color: #f0f8ff;}#sk-container-id-3 div.sk-toggleable__content pre {margin: 0.2em;color: black;border-radius: 0.25em;background-color: #f0f8ff;}#sk-container-id-3 input.sk-toggleable__control:checked~div.sk-toggleable__content {max-height: 200px;max-width: 100%;overflow: auto;}#sk-container-id-3 input.sk-toggleable__control:checked~label.sk-toggleable__label-arrow:before {content: \"▾\";}#sk-container-id-3 div.sk-estimator input.sk-toggleable__control:checked~label.sk-toggleable__label {background-color: #d4ebff;}#sk-container-id-3 div.sk-label input.sk-toggleable__control:checked~label.sk-toggleable__label {background-color: #d4ebff;}#sk-container-id-3 input.sk-hidden--visually {border: 0;clip: rect(1px 1px 1px 1px);clip: rect(1px, 1px, 1px, 1px);height: 1px;margin: -1px;overflow: hidden;padding: 0;position: absolute;width: 1px;}#sk-container-id-3 div.sk-estimator {font-family: monospace;background-color: #f0f8ff;border: 1px dotted black;border-radius: 0.25em;box-sizing: border-box;margin-bottom: 0.5em;}#sk-container-id-3 div.sk-estimator:hover {background-color: #d4ebff;}#sk-container-id-3 div.sk-parallel-item::after {content: \"\";width: 100%;border-bottom: 1px solid gray;flex-grow: 1;}#sk-container-id-3 div.sk-label:hover label.sk-toggleable__label {background-color: #d4ebff;}#sk-container-id-3 div.sk-serial::before {content: \"\";position: absolute;border-left: 1px solid gray;box-sizing: border-box;top: 0;bottom: 0;left: 50%;z-index: 0;}#sk-container-id-3 div.sk-serial {display: flex;flex-direction: column;align-items: center;background-color: white;padding-right: 0.2em;padding-left: 0.2em;position: relative;}#sk-container-id-3 div.sk-item {position: relative;z-index: 1;}#sk-container-id-3 div.sk-parallel {display: flex;align-items: stretch;justify-content: center;background-color: white;position: relative;}#sk-container-id-3 div.sk-item::before, #sk-container-id-3 div.sk-parallel-item::before {content: \"\";position: absolute;border-left: 1px solid gray;box-sizing: border-box;top: 0;bottom: 0;left: 50%;z-index: -1;}#sk-container-id-3 div.sk-parallel-item {display: flex;flex-direction: column;z-index: 1;position: relative;background-color: white;}#sk-container-id-3 div.sk-parallel-item:first-child::after {align-self: flex-end;width: 50%;}#sk-container-id-3 div.sk-parallel-item:last-child::after {align-self: flex-start;width: 50%;}#sk-container-id-3 div.sk-parallel-item:only-child::after {width: 0;}#sk-container-id-3 div.sk-dashed-wrapped {border: 1px dashed gray;margin: 0 0.4em 0.5em 0.4em;box-sizing: border-box;padding-bottom: 0.4em;background-color: white;}#sk-container-id-3 div.sk-label label {font-family: monospace;font-weight: bold;display: inline-block;line-height: 1.2em;}#sk-container-id-3 div.sk-label-container {text-align: center;}#sk-container-id-3 div.sk-container {/* jupyter's `normalize.less` sets `[hidden] { display: none; }` but bootstrap.min.css set `[hidden] { display: none !important; }` so we also need the `!important` here to be able to override the default hidden behavior on the sphinx rendered scikit-learn.org. See: https://github.com/scikit-learn/scikit-learn/issues/21755 */display: inline-block !important;position: relative;}#sk-container-id-3 div.sk-text-repr-fallback {display: none;}</style><div id=\"sk-container-id-3\" class=\"sk-top-container\"><div class=\"sk-text-repr-fallback\"><pre>GridSearchCV(cv=5, estimator=DecisionTreeRegressor(), n_jobs=-1,\n",
       "             param_grid={&#x27;criterion&#x27;: [&#x27;squared_error&#x27;, &#x27;friedman_mse&#x27;,\n",
       "                                       &#x27;absolute_error&#x27;, &#x27;poisson&#x27;],\n",
       "                         &#x27;max_depth&#x27;: array([ 3,  4,  5,  6,  7,  9, 11]),\n",
       "                         &#x27;min_samples_split&#x27;: array([2, 3, 4, 5, 6, 7])})</pre><b>In a Jupyter environment, please rerun this cell to show the HTML representation or trust the notebook. <br />On GitHub, the HTML representation is unable to render, please try loading this page with nbviewer.org.</b></div><div class=\"sk-container\" hidden><div class=\"sk-item sk-dashed-wrapped\"><div class=\"sk-label-container\"><div class=\"sk-label sk-toggleable\"><input class=\"sk-toggleable__control sk-hidden--visually\" id=\"sk-estimator-id-3\" type=\"checkbox\" ><label for=\"sk-estimator-id-3\" class=\"sk-toggleable__label sk-toggleable__label-arrow\">GridSearchCV</label><div class=\"sk-toggleable__content\"><pre>GridSearchCV(cv=5, estimator=DecisionTreeRegressor(), n_jobs=-1,\n",
       "             param_grid={&#x27;criterion&#x27;: [&#x27;squared_error&#x27;, &#x27;friedman_mse&#x27;,\n",
       "                                       &#x27;absolute_error&#x27;, &#x27;poisson&#x27;],\n",
       "                         &#x27;max_depth&#x27;: array([ 3,  4,  5,  6,  7,  9, 11]),\n",
       "                         &#x27;min_samples_split&#x27;: array([2, 3, 4, 5, 6, 7])})</pre></div></div></div><div class=\"sk-parallel\"><div class=\"sk-parallel-item\"><div class=\"sk-item\"><div class=\"sk-label-container\"><div class=\"sk-label sk-toggleable\"><input class=\"sk-toggleable__control sk-hidden--visually\" id=\"sk-estimator-id-4\" type=\"checkbox\" ><label for=\"sk-estimator-id-4\" class=\"sk-toggleable__label sk-toggleable__label-arrow\">estimator: DecisionTreeRegressor</label><div class=\"sk-toggleable__content\"><pre>DecisionTreeRegressor()</pre></div></div></div><div class=\"sk-serial\"><div class=\"sk-item\"><div class=\"sk-estimator sk-toggleable\"><input class=\"sk-toggleable__control sk-hidden--visually\" id=\"sk-estimator-id-5\" type=\"checkbox\" ><label for=\"sk-estimator-id-5\" class=\"sk-toggleable__label sk-toggleable__label-arrow\">DecisionTreeRegressor</label><div class=\"sk-toggleable__content\"><pre>DecisionTreeRegressor()</pre></div></div></div></div></div></div></div></div></div></div>"
      ],
      "text/plain": [
       "GridSearchCV(cv=5, estimator=DecisionTreeRegressor(), n_jobs=-1,\n",
       "             param_grid={'criterion': ['squared_error', 'friedman_mse',\n",
       "                                       'absolute_error', 'poisson'],\n",
       "                         'max_depth': array([ 3,  4,  5,  6,  7,  9, 11]),\n",
       "                         'min_samples_split': array([2, 3, 4, 5, 6, 7])})"
      ]
     },
     "execution_count": 70,
     "metadata": {},
     "output_type": "execute_result"
    }
   ],
   "source": [
    "gridDecisionTree.fit(X_train, y_train)"
   ]
  },
  {
   "cell_type": "markdown",
   "metadata": {},
   "source": [
    "#### Decision Tree - Grid"
   ]
  },
  {
   "cell_type": "code",
   "execution_count": 71,
   "metadata": {
    "execution": {
     "iopub.execute_input": "2023-01-23T17:40:50.455421Z",
     "iopub.status.busy": "2023-01-23T17:40:50.455061Z",
     "iopub.status.idle": "2023-01-23T17:40:50.462392Z",
     "shell.execute_reply": "2023-01-23T17:40:50.461104Z",
     "shell.execute_reply.started": "2023-01-23T17:40:50.45539Z"
    }
   },
   "outputs": [
    {
     "name": "stdout",
     "output_type": "stream",
     "text": [
      "Mín Split:  2\n",
      "Max Nvl:  5\n",
      "Algorithm:  absolute_error\n",
      "Score:  0.5274177150820345\n"
     ]
    }
   ],
   "source": [
    "print('Mín Split: ', gridDecisionTree.best_estimator_.min_samples_split)\n",
    "print('Max Nvl: ', gridDecisionTree.best_estimator_.max_depth)\n",
    "print('Algorithm: ', gridDecisionTree.best_estimator_.criterion)\n",
    "print('Score: ', gridDecisionTree.best_score_)"
   ]
  },
  {
   "cell_type": "markdown",
   "metadata": {},
   "source": [
    "#### Applying Decision Tree"
   ]
  },
  {
   "cell_type": "code",
   "execution_count": 72,
   "metadata": {
    "execution": {
     "iopub.execute_input": "2023-01-23T18:08:57.481895Z",
     "iopub.status.busy": "2023-01-23T18:08:57.480467Z",
     "iopub.status.idle": "2023-01-23T18:08:57.488095Z",
     "shell.execute_reply": "2023-01-23T18:08:57.486335Z",
     "shell.execute_reply.started": "2023-01-23T18:08:57.481849Z"
    }
   },
   "outputs": [],
   "source": [
    "decision_tree = DecisionTreeRegressor(min_samples_split = 2, max_depth =5, criterion = 'absolute_error')"
   ]
  },
  {
   "cell_type": "code",
   "execution_count": 73,
   "metadata": {
    "execution": {
     "iopub.execute_input": "2023-01-23T18:09:05.038465Z",
     "iopub.status.busy": "2023-01-23T18:09:05.038013Z",
     "iopub.status.idle": "2023-01-23T18:09:05.077004Z",
     "shell.execute_reply": "2023-01-23T18:09:05.075672Z",
     "shell.execute_reply.started": "2023-01-23T18:09:05.038428Z"
    }
   },
   "outputs": [
    {
     "data": {
      "text/html": [
       "<style>#sk-container-id-4 {color: black;background-color: white;}#sk-container-id-4 pre{padding: 0;}#sk-container-id-4 div.sk-toggleable {background-color: white;}#sk-container-id-4 label.sk-toggleable__label {cursor: pointer;display: block;width: 100%;margin-bottom: 0;padding: 0.3em;box-sizing: border-box;text-align: center;}#sk-container-id-4 label.sk-toggleable__label-arrow:before {content: \"▸\";float: left;margin-right: 0.25em;color: #696969;}#sk-container-id-4 label.sk-toggleable__label-arrow:hover:before {color: black;}#sk-container-id-4 div.sk-estimator:hover label.sk-toggleable__label-arrow:before {color: black;}#sk-container-id-4 div.sk-toggleable__content {max-height: 0;max-width: 0;overflow: hidden;text-align: left;background-color: #f0f8ff;}#sk-container-id-4 div.sk-toggleable__content pre {margin: 0.2em;color: black;border-radius: 0.25em;background-color: #f0f8ff;}#sk-container-id-4 input.sk-toggleable__control:checked~div.sk-toggleable__content {max-height: 200px;max-width: 100%;overflow: auto;}#sk-container-id-4 input.sk-toggleable__control:checked~label.sk-toggleable__label-arrow:before {content: \"▾\";}#sk-container-id-4 div.sk-estimator input.sk-toggleable__control:checked~label.sk-toggleable__label {background-color: #d4ebff;}#sk-container-id-4 div.sk-label input.sk-toggleable__control:checked~label.sk-toggleable__label {background-color: #d4ebff;}#sk-container-id-4 input.sk-hidden--visually {border: 0;clip: rect(1px 1px 1px 1px);clip: rect(1px, 1px, 1px, 1px);height: 1px;margin: -1px;overflow: hidden;padding: 0;position: absolute;width: 1px;}#sk-container-id-4 div.sk-estimator {font-family: monospace;background-color: #f0f8ff;border: 1px dotted black;border-radius: 0.25em;box-sizing: border-box;margin-bottom: 0.5em;}#sk-container-id-4 div.sk-estimator:hover {background-color: #d4ebff;}#sk-container-id-4 div.sk-parallel-item::after {content: \"\";width: 100%;border-bottom: 1px solid gray;flex-grow: 1;}#sk-container-id-4 div.sk-label:hover label.sk-toggleable__label {background-color: #d4ebff;}#sk-container-id-4 div.sk-serial::before {content: \"\";position: absolute;border-left: 1px solid gray;box-sizing: border-box;top: 0;bottom: 0;left: 50%;z-index: 0;}#sk-container-id-4 div.sk-serial {display: flex;flex-direction: column;align-items: center;background-color: white;padding-right: 0.2em;padding-left: 0.2em;position: relative;}#sk-container-id-4 div.sk-item {position: relative;z-index: 1;}#sk-container-id-4 div.sk-parallel {display: flex;align-items: stretch;justify-content: center;background-color: white;position: relative;}#sk-container-id-4 div.sk-item::before, #sk-container-id-4 div.sk-parallel-item::before {content: \"\";position: absolute;border-left: 1px solid gray;box-sizing: border-box;top: 0;bottom: 0;left: 50%;z-index: -1;}#sk-container-id-4 div.sk-parallel-item {display: flex;flex-direction: column;z-index: 1;position: relative;background-color: white;}#sk-container-id-4 div.sk-parallel-item:first-child::after {align-self: flex-end;width: 50%;}#sk-container-id-4 div.sk-parallel-item:last-child::after {align-self: flex-start;width: 50%;}#sk-container-id-4 div.sk-parallel-item:only-child::after {width: 0;}#sk-container-id-4 div.sk-dashed-wrapped {border: 1px dashed gray;margin: 0 0.4em 0.5em 0.4em;box-sizing: border-box;padding-bottom: 0.4em;background-color: white;}#sk-container-id-4 div.sk-label label {font-family: monospace;font-weight: bold;display: inline-block;line-height: 1.2em;}#sk-container-id-4 div.sk-label-container {text-align: center;}#sk-container-id-4 div.sk-container {/* jupyter's `normalize.less` sets `[hidden] { display: none; }` but bootstrap.min.css set `[hidden] { display: none !important; }` so we also need the `!important` here to be able to override the default hidden behavior on the sphinx rendered scikit-learn.org. See: https://github.com/scikit-learn/scikit-learn/issues/21755 */display: inline-block !important;position: relative;}#sk-container-id-4 div.sk-text-repr-fallback {display: none;}</style><div id=\"sk-container-id-4\" class=\"sk-top-container\"><div class=\"sk-text-repr-fallback\"><pre>DecisionTreeRegressor(criterion=&#x27;absolute_error&#x27;, max_depth=5)</pre><b>In a Jupyter environment, please rerun this cell to show the HTML representation or trust the notebook. <br />On GitHub, the HTML representation is unable to render, please try loading this page with nbviewer.org.</b></div><div class=\"sk-container\" hidden><div class=\"sk-item\"><div class=\"sk-estimator sk-toggleable\"><input class=\"sk-toggleable__control sk-hidden--visually\" id=\"sk-estimator-id-6\" type=\"checkbox\" checked><label for=\"sk-estimator-id-6\" class=\"sk-toggleable__label sk-toggleable__label-arrow\">DecisionTreeRegressor</label><div class=\"sk-toggleable__content\"><pre>DecisionTreeRegressor(criterion=&#x27;absolute_error&#x27;, max_depth=5)</pre></div></div></div></div></div>"
      ],
      "text/plain": [
       "DecisionTreeRegressor(criterion='absolute_error', max_depth=5)"
      ]
     },
     "execution_count": 73,
     "metadata": {},
     "output_type": "execute_result"
    }
   ],
   "source": [
    "decision_tree.fit(X_train, y_train)"
   ]
  },
  {
   "cell_type": "markdown",
   "metadata": {},
   "source": [
    "#### Looking at our scores in the training base and in the test base, in the training base we have 67,73% of accuracy, it isn't a good number, when we look at the test base we have 62,52%"
   ]
  },
  {
   "cell_type": "code",
   "execution_count": 74,
   "metadata": {
    "execution": {
     "iopub.execute_input": "2023-01-23T18:09:17.848808Z",
     "iopub.status.busy": "2023-01-23T18:09:17.848366Z",
     "iopub.status.idle": "2023-01-23T18:09:17.855551Z",
     "shell.execute_reply": "2023-01-23T18:09:17.854265Z",
     "shell.execute_reply.started": "2023-01-23T18:09:17.848773Z"
    }
   },
   "outputs": [],
   "source": [
    "lr_normal_decision_tree = decision_tree.score(X_train, y_train)"
   ]
  },
  {
   "cell_type": "code",
   "execution_count": 75,
   "metadata": {
    "execution": {
     "iopub.execute_input": "2023-01-23T18:09:20.969256Z",
     "iopub.status.busy": "2023-01-23T18:09:20.967954Z",
     "iopub.status.idle": "2023-01-23T18:09:20.977267Z",
     "shell.execute_reply": "2023-01-23T18:09:20.975846Z",
     "shell.execute_reply.started": "2023-01-23T18:09:20.969207Z"
    }
   },
   "outputs": [
    {
     "data": {
      "text/plain": [
       "0.6773980013063587"
      ]
     },
     "execution_count": 75,
     "metadata": {},
     "output_type": "execute_result"
    }
   ],
   "source": [
    "lr_normal_decision_tree"
   ]
  },
  {
   "cell_type": "code",
   "execution_count": 76,
   "metadata": {
    "execution": {
     "iopub.execute_input": "2023-01-23T18:09:29.619749Z",
     "iopub.status.busy": "2023-01-23T18:09:29.619301Z",
     "iopub.status.idle": "2023-01-23T18:09:29.626923Z",
     "shell.execute_reply": "2023-01-23T18:09:29.625538Z",
     "shell.execute_reply.started": "2023-01-23T18:09:29.619696Z"
    }
   },
   "outputs": [],
   "source": [
    "lr_normal_decision_tree_test = decision_tree.score(X_test, y_test)"
   ]
  },
  {
   "cell_type": "code",
   "execution_count": 77,
   "metadata": {
    "execution": {
     "iopub.execute_input": "2023-01-23T18:09:32.300405Z",
     "iopub.status.busy": "2023-01-23T18:09:32.300001Z",
     "iopub.status.idle": "2023-01-23T18:09:32.308678Z",
     "shell.execute_reply": "2023-01-23T18:09:32.307089Z",
     "shell.execute_reply.started": "2023-01-23T18:09:32.300372Z"
    }
   },
   "outputs": [
    {
     "data": {
      "text/plain": [
       "0.6252883155221488"
      ]
     },
     "execution_count": 77,
     "metadata": {},
     "output_type": "execute_result"
    }
   ],
   "source": [
    "lr_normal_decision_tree_test"
   ]
  },
  {
   "cell_type": "markdown",
   "metadata": {},
   "source": [
    "#### Checking for Models errors."
   ]
  },
  {
   "cell_type": "code",
   "execution_count": 78,
   "metadata": {
    "execution": {
     "iopub.execute_input": "2023-01-23T18:11:18.688531Z",
     "iopub.status.busy": "2023-01-23T18:11:18.688095Z",
     "iopub.status.idle": "2023-01-23T18:11:18.695033Z",
     "shell.execute_reply": "2023-01-23T18:11:18.69361Z",
     "shell.execute_reply.started": "2023-01-23T18:11:18.6885Z"
    }
   },
   "outputs": [],
   "source": [
    "previsoes = decision_tree.predict(X_test)"
   ]
  },
  {
   "cell_type": "markdown",
   "metadata": {},
   "source": [
    "#### Looking at our Mean Absolut Error metric, we have the number of 211715, which tells us that it can err 211715 up or down, and when we look at our Root Mean Square Error we get the number of 332912."
   ]
  },
  {
   "cell_type": "code",
   "execution_count": 79,
   "metadata": {
    "execution": {
     "iopub.execute_input": "2023-01-23T18:11:27.047122Z",
     "iopub.status.busy": "2023-01-23T18:11:27.04668Z",
     "iopub.status.idle": "2023-01-23T18:11:27.053582Z",
     "shell.execute_reply": "2023-01-23T18:11:27.052345Z",
     "shell.execute_reply.started": "2023-01-23T18:11:27.047085Z"
    }
   },
   "outputs": [],
   "source": [
    "mae_lr_normal_decision_tree  = mean_absolute_error(y_test, previsoes)"
   ]
  },
  {
   "cell_type": "code",
   "execution_count": 80,
   "metadata": {
    "execution": {
     "iopub.execute_input": "2023-01-23T18:11:29.284832Z",
     "iopub.status.busy": "2023-01-23T18:11:29.284421Z",
     "iopub.status.idle": "2023-01-23T18:11:29.291782Z",
     "shell.execute_reply": "2023-01-23T18:11:29.29054Z",
     "shell.execute_reply.started": "2023-01-23T18:11:29.284798Z"
    }
   },
   "outputs": [
    {
     "data": {
      "text/plain": [
       "0.3964719053101687"
      ]
     },
     "execution_count": 80,
     "metadata": {},
     "output_type": "execute_result"
    }
   ],
   "source": [
    "mae_lr_normal_decision_tree"
   ]
  },
  {
   "cell_type": "code",
   "execution_count": 81,
   "metadata": {
    "execution": {
     "iopub.execute_input": "2023-01-23T18:11:37.410797Z",
     "iopub.status.busy": "2023-01-23T18:11:37.410352Z",
     "iopub.status.idle": "2023-01-23T18:11:37.417455Z",
     "shell.execute_reply": "2023-01-23T18:11:37.416176Z",
     "shell.execute_reply.started": "2023-01-23T18:11:37.410761Z"
    }
   },
   "outputs": [],
   "source": [
    "rmse_lr_normal_decision_tree = np.sqrt(mean_squared_error(y_test, previsoes))"
   ]
  },
  {
   "cell_type": "code",
   "execution_count": 82,
   "metadata": {
    "execution": {
     "iopub.execute_input": "2023-01-23T18:11:39.998605Z",
     "iopub.status.busy": "2023-01-23T18:11:39.998175Z",
     "iopub.status.idle": "2023-01-23T18:11:40.00532Z",
     "shell.execute_reply": "2023-01-23T18:11:40.004464Z",
     "shell.execute_reply.started": "2023-01-23T18:11:39.998557Z"
    }
   },
   "outputs": [
    {
     "data": {
      "text/plain": [
       "0.6234326019869076"
      ]
     },
     "execution_count": 82,
     "metadata": {},
     "output_type": "execute_result"
    }
   ],
   "source": [
    "rmse_lr_normal_decision_tree"
   ]
  },
  {
   "cell_type": "markdown",
   "metadata": {},
   "source": [
    "#### Random Forest"
   ]
  },
  {
   "cell_type": "code",
   "execution_count": 83,
   "metadata": {
    "execution": {
     "iopub.execute_input": "2023-01-23T17:40:52.872841Z",
     "iopub.status.busy": "2023-01-23T17:40:52.871468Z",
     "iopub.status.idle": "2023-01-23T17:40:52.878653Z",
     "shell.execute_reply": "2023-01-23T17:40:52.877322Z",
     "shell.execute_reply.started": "2023-01-23T17:40:52.872795Z"
    }
   },
   "outputs": [],
   "source": [
    "from sklearn.ensemble import RandomForestRegressor\n",
    "regressor_rf = RandomForestRegressor(n_estimators = 100)"
   ]
  },
  {
   "cell_type": "code",
   "execution_count": 84,
   "metadata": {
    "execution": {
     "iopub.execute_input": "2023-01-23T17:40:53.27477Z",
     "iopub.status.busy": "2023-01-23T17:40:53.27432Z",
     "iopub.status.idle": "2023-01-23T17:40:53.69733Z",
     "shell.execute_reply": "2023-01-23T17:40:53.696163Z",
     "shell.execute_reply.started": "2023-01-23T17:40:53.274734Z"
    }
   },
   "outputs": [
    {
     "name": "stderr",
     "output_type": "stream",
     "text": [
      "C:\\Users\\TUSHAR GAURAV\\AppData\\Local\\Temp\\ipykernel_15856\\154324081.py:1: DataConversionWarning: A column-vector y was passed when a 1d array was expected. Please change the shape of y to (n_samples,), for example using ravel().\n",
      "  regressor_rf.fit(X_train, y_train)\n"
     ]
    },
    {
     "data": {
      "text/html": [
       "<style>#sk-container-id-5 {color: black;background-color: white;}#sk-container-id-5 pre{padding: 0;}#sk-container-id-5 div.sk-toggleable {background-color: white;}#sk-container-id-5 label.sk-toggleable__label {cursor: pointer;display: block;width: 100%;margin-bottom: 0;padding: 0.3em;box-sizing: border-box;text-align: center;}#sk-container-id-5 label.sk-toggleable__label-arrow:before {content: \"▸\";float: left;margin-right: 0.25em;color: #696969;}#sk-container-id-5 label.sk-toggleable__label-arrow:hover:before {color: black;}#sk-container-id-5 div.sk-estimator:hover label.sk-toggleable__label-arrow:before {color: black;}#sk-container-id-5 div.sk-toggleable__content {max-height: 0;max-width: 0;overflow: hidden;text-align: left;background-color: #f0f8ff;}#sk-container-id-5 div.sk-toggleable__content pre {margin: 0.2em;color: black;border-radius: 0.25em;background-color: #f0f8ff;}#sk-container-id-5 input.sk-toggleable__control:checked~div.sk-toggleable__content {max-height: 200px;max-width: 100%;overflow: auto;}#sk-container-id-5 input.sk-toggleable__control:checked~label.sk-toggleable__label-arrow:before {content: \"▾\";}#sk-container-id-5 div.sk-estimator input.sk-toggleable__control:checked~label.sk-toggleable__label {background-color: #d4ebff;}#sk-container-id-5 div.sk-label input.sk-toggleable__control:checked~label.sk-toggleable__label {background-color: #d4ebff;}#sk-container-id-5 input.sk-hidden--visually {border: 0;clip: rect(1px 1px 1px 1px);clip: rect(1px, 1px, 1px, 1px);height: 1px;margin: -1px;overflow: hidden;padding: 0;position: absolute;width: 1px;}#sk-container-id-5 div.sk-estimator {font-family: monospace;background-color: #f0f8ff;border: 1px dotted black;border-radius: 0.25em;box-sizing: border-box;margin-bottom: 0.5em;}#sk-container-id-5 div.sk-estimator:hover {background-color: #d4ebff;}#sk-container-id-5 div.sk-parallel-item::after {content: \"\";width: 100%;border-bottom: 1px solid gray;flex-grow: 1;}#sk-container-id-5 div.sk-label:hover label.sk-toggleable__label {background-color: #d4ebff;}#sk-container-id-5 div.sk-serial::before {content: \"\";position: absolute;border-left: 1px solid gray;box-sizing: border-box;top: 0;bottom: 0;left: 50%;z-index: 0;}#sk-container-id-5 div.sk-serial {display: flex;flex-direction: column;align-items: center;background-color: white;padding-right: 0.2em;padding-left: 0.2em;position: relative;}#sk-container-id-5 div.sk-item {position: relative;z-index: 1;}#sk-container-id-5 div.sk-parallel {display: flex;align-items: stretch;justify-content: center;background-color: white;position: relative;}#sk-container-id-5 div.sk-item::before, #sk-container-id-5 div.sk-parallel-item::before {content: \"\";position: absolute;border-left: 1px solid gray;box-sizing: border-box;top: 0;bottom: 0;left: 50%;z-index: -1;}#sk-container-id-5 div.sk-parallel-item {display: flex;flex-direction: column;z-index: 1;position: relative;background-color: white;}#sk-container-id-5 div.sk-parallel-item:first-child::after {align-self: flex-end;width: 50%;}#sk-container-id-5 div.sk-parallel-item:last-child::after {align-self: flex-start;width: 50%;}#sk-container-id-5 div.sk-parallel-item:only-child::after {width: 0;}#sk-container-id-5 div.sk-dashed-wrapped {border: 1px dashed gray;margin: 0 0.4em 0.5em 0.4em;box-sizing: border-box;padding-bottom: 0.4em;background-color: white;}#sk-container-id-5 div.sk-label label {font-family: monospace;font-weight: bold;display: inline-block;line-height: 1.2em;}#sk-container-id-5 div.sk-label-container {text-align: center;}#sk-container-id-5 div.sk-container {/* jupyter's `normalize.less` sets `[hidden] { display: none; }` but bootstrap.min.css set `[hidden] { display: none !important; }` so we also need the `!important` here to be able to override the default hidden behavior on the sphinx rendered scikit-learn.org. See: https://github.com/scikit-learn/scikit-learn/issues/21755 */display: inline-block !important;position: relative;}#sk-container-id-5 div.sk-text-repr-fallback {display: none;}</style><div id=\"sk-container-id-5\" class=\"sk-top-container\"><div class=\"sk-text-repr-fallback\"><pre>RandomForestRegressor()</pre><b>In a Jupyter environment, please rerun this cell to show the HTML representation or trust the notebook. <br />On GitHub, the HTML representation is unable to render, please try loading this page with nbviewer.org.</b></div><div class=\"sk-container\" hidden><div class=\"sk-item\"><div class=\"sk-estimator sk-toggleable\"><input class=\"sk-toggleable__control sk-hidden--visually\" id=\"sk-estimator-id-7\" type=\"checkbox\" checked><label for=\"sk-estimator-id-7\" class=\"sk-toggleable__label sk-toggleable__label-arrow\">RandomForestRegressor</label><div class=\"sk-toggleable__content\"><pre>RandomForestRegressor()</pre></div></div></div></div></div>"
      ],
      "text/plain": [
       "RandomForestRegressor()"
      ]
     },
     "execution_count": 84,
     "metadata": {},
     "output_type": "execute_result"
    }
   ],
   "source": [
    "regressor_rf.fit(X_train, y_train)"
   ]
  },
  {
   "cell_type": "markdown",
   "metadata": {},
   "source": [
    "#### Looking at our scores in the training base and in the test base, in the training base we have 95,35% of accuracy, it is a very good number, but when we look at the test base we have 72,72% it isn't a very good number but its better than the other models."
   ]
  },
  {
   "cell_type": "code",
   "execution_count": 85,
   "metadata": {
    "execution": {
     "iopub.execute_input": "2023-01-23T17:40:53.755911Z",
     "iopub.status.busy": "2023-01-23T17:40:53.755456Z",
     "iopub.status.idle": "2023-01-23T17:40:53.797142Z",
     "shell.execute_reply": "2023-01-23T17:40:53.795971Z",
     "shell.execute_reply.started": "2023-01-23T17:40:53.755875Z"
    }
   },
   "outputs": [],
   "source": [
    "lr_normal_rf = regressor_rf.score(X_train, y_train)"
   ]
  },
  {
   "cell_type": "code",
   "execution_count": 86,
   "metadata": {
    "execution": {
     "iopub.execute_input": "2023-01-23T17:40:55.125564Z",
     "iopub.status.busy": "2023-01-23T17:40:55.125164Z",
     "iopub.status.idle": "2023-01-23T17:40:55.133003Z",
     "shell.execute_reply": "2023-01-23T17:40:55.131855Z",
     "shell.execute_reply.started": "2023-01-23T17:40:55.125533Z"
    }
   },
   "outputs": [
    {
     "data": {
      "text/plain": [
       "0.9543924356443032"
      ]
     },
     "execution_count": 86,
     "metadata": {},
     "output_type": "execute_result"
    }
   ],
   "source": [
    "lr_normal_rf"
   ]
  },
  {
   "cell_type": "code",
   "execution_count": 87,
   "metadata": {
    "execution": {
     "iopub.execute_input": "2023-01-23T17:40:55.980721Z",
     "iopub.status.busy": "2023-01-23T17:40:55.980271Z",
     "iopub.status.idle": "2023-01-23T17:40:56.015273Z",
     "shell.execute_reply": "2023-01-23T17:40:56.014165Z",
     "shell.execute_reply.started": "2023-01-23T17:40:55.980686Z"
    }
   },
   "outputs": [],
   "source": [
    "lr_normal_rf_test = regressor_rf.score(X_test, y_test)"
   ]
  },
  {
   "cell_type": "code",
   "execution_count": 88,
   "metadata": {
    "execution": {
     "iopub.execute_input": "2023-01-23T17:40:56.560904Z",
     "iopub.status.busy": "2023-01-23T17:40:56.560186Z",
     "iopub.status.idle": "2023-01-23T17:40:56.569034Z",
     "shell.execute_reply": "2023-01-23T17:40:56.56757Z",
     "shell.execute_reply.started": "2023-01-23T17:40:56.560866Z"
    }
   },
   "outputs": [
    {
     "data": {
      "text/plain": [
       "0.7300939956046493"
      ]
     },
     "execution_count": 88,
     "metadata": {},
     "output_type": "execute_result"
    }
   ],
   "source": [
    "lr_normal_rf_test"
   ]
  },
  {
   "cell_type": "markdown",
   "metadata": {},
   "source": [
    "#### Checking for Models errors."
   ]
  },
  {
   "cell_type": "code",
   "execution_count": 89,
   "metadata": {
    "execution": {
     "iopub.execute_input": "2023-01-23T18:14:24.193992Z",
     "iopub.status.busy": "2023-01-23T18:14:24.193485Z",
     "iopub.status.idle": "2023-01-23T18:14:24.226052Z",
     "shell.execute_reply": "2023-01-23T18:14:24.224723Z",
     "shell.execute_reply.started": "2023-01-23T18:14:24.193956Z"
    }
   },
   "outputs": [],
   "source": [
    "previsoes = regressor_rf.predict(X_test)"
   ]
  },
  {
   "cell_type": "markdown",
   "metadata": {},
   "source": [
    "#### Looking at our Mean Absolut Error metric, we have the number of 181654, which tells us that it can err 181654 up or down, and when we look at our Root Mean Square Error we get the number of 284054."
   ]
  },
  {
   "cell_type": "code",
   "execution_count": 90,
   "metadata": {
    "execution": {
     "iopub.execute_input": "2023-01-23T18:14:34.680826Z",
     "iopub.status.busy": "2023-01-23T18:14:34.680415Z",
     "iopub.status.idle": "2023-01-23T18:14:34.687043Z",
     "shell.execute_reply": "2023-01-23T18:14:34.685767Z",
     "shell.execute_reply.started": "2023-01-23T18:14:34.680793Z"
    }
   },
   "outputs": [],
   "source": [
    "mae_lr_normal_rf  = mean_absolute_error(y_test, previsoes)"
   ]
  },
  {
   "cell_type": "code",
   "execution_count": 91,
   "metadata": {
    "execution": {
     "iopub.execute_input": "2023-01-23T18:14:36.379903Z",
     "iopub.status.busy": "2023-01-23T18:14:36.377402Z",
     "iopub.status.idle": "2023-01-23T18:14:36.386971Z",
     "shell.execute_reply": "2023-01-23T18:14:36.38567Z",
     "shell.execute_reply.started": "2023-01-23T18:14:36.379862Z"
    }
   },
   "outputs": [
    {
     "data": {
      "text/plain": [
       "0.3426757055580697"
      ]
     },
     "execution_count": 91,
     "metadata": {},
     "output_type": "execute_result"
    }
   ],
   "source": [
    "mae_lr_normal_rf"
   ]
  },
  {
   "cell_type": "code",
   "execution_count": 92,
   "metadata": {
    "execution": {
     "iopub.execute_input": "2023-01-23T18:14:44.745932Z",
     "iopub.status.busy": "2023-01-23T18:14:44.745492Z",
     "iopub.status.idle": "2023-01-23T18:14:44.752801Z",
     "shell.execute_reply": "2023-01-23T18:14:44.751463Z",
     "shell.execute_reply.started": "2023-01-23T18:14:44.745899Z"
    }
   },
   "outputs": [],
   "source": [
    "rmse_lr_normal_rf = np.sqrt(mean_squared_error(y_test, previsoes))"
   ]
  },
  {
   "cell_type": "code",
   "execution_count": 93,
   "metadata": {
    "execution": {
     "iopub.execute_input": "2023-01-23T18:14:50.21035Z",
     "iopub.status.busy": "2023-01-23T18:14:50.209887Z",
     "iopub.status.idle": "2023-01-23T18:14:50.217148Z",
     "shell.execute_reply": "2023-01-23T18:14:50.216119Z",
     "shell.execute_reply.started": "2023-01-23T18:14:50.210309Z"
    }
   },
   "outputs": [
    {
     "data": {
      "text/plain": [
       "0.5291114561654534"
      ]
     },
     "execution_count": 93,
     "metadata": {},
     "output_type": "execute_result"
    }
   ],
   "source": [
    "rmse_lr_normal_rf"
   ]
  },
  {
   "cell_type": "markdown",
   "metadata": {},
   "source": [
    "#### Checking the most important variables of the model"
   ]
  },
  {
   "cell_type": "code",
   "execution_count": 94,
   "metadata": {
    "execution": {
     "iopub.execute_input": "2023-01-23T18:16:44.685906Z",
     "iopub.status.busy": "2023-01-23T18:16:44.685459Z",
     "iopub.status.idle": "2023-01-23T18:16:44.693202Z",
     "shell.execute_reply": "2023-01-23T18:16:44.692013Z",
     "shell.execute_reply.started": "2023-01-23T18:16:44.68587Z"
    }
   },
   "outputs": [],
   "source": [
    "columns = df.drop('price', axis = 1).columns"
   ]
  },
  {
   "cell_type": "code",
   "execution_count": 95,
   "metadata": {
    "execution": {
     "iopub.execute_input": "2023-01-23T18:16:49.794736Z",
     "iopub.status.busy": "2023-01-23T18:16:49.794303Z",
     "iopub.status.idle": "2023-01-23T18:16:49.81534Z",
     "shell.execute_reply": "2023-01-23T18:16:49.814186Z",
     "shell.execute_reply.started": "2023-01-23T18:16:49.794703Z"
    }
   },
   "outputs": [],
   "source": [
    "feature_imp_random = pd.Series(regressor_rf.feature_importances_, index = columns).sort_values(ascending = False)"
   ]
  },
  {
   "cell_type": "code",
   "execution_count": 96,
   "metadata": {
    "execution": {
     "iopub.execute_input": "2023-01-23T18:16:53.621165Z",
     "iopub.status.busy": "2023-01-23T18:16:53.620743Z",
     "iopub.status.idle": "2023-01-23T18:16:53.629985Z",
     "shell.execute_reply": "2023-01-23T18:16:53.628671Z",
     "shell.execute_reply.started": "2023-01-23T18:16:53.621132Z"
    }
   },
   "outputs": [
    {
     "data": {
      "text/plain": [
       "size              0.684408\n",
       "zip_code          0.115657\n",
       "lot_size          0.100868\n",
       "baths             0.060298\n",
       "beds              0.033253\n",
       "lot_size_units    0.005516\n",
       "dtype: float64"
      ]
     },
     "execution_count": 96,
     "metadata": {},
     "output_type": "execute_result"
    }
   ],
   "source": [
    "feature_imp_random"
   ]
  },
  {
   "cell_type": "markdown",
   "metadata": {},
   "source": [
    "#### SVR (Support Vector Regression)"
   ]
  },
  {
   "cell_type": "code",
   "execution_count": 97,
   "metadata": {
    "execution": {
     "iopub.execute_input": "2023-01-23T17:41:49.081922Z",
     "iopub.status.busy": "2023-01-23T17:41:49.081495Z",
     "iopub.status.idle": "2023-01-23T17:41:49.087428Z",
     "shell.execute_reply": "2023-01-23T17:41:49.085806Z",
     "shell.execute_reply.started": "2023-01-23T17:41:49.081888Z"
    }
   },
   "outputs": [],
   "source": [
    "from sklearn.svm import SVR"
   ]
  },
  {
   "cell_type": "markdown",
   "metadata": {},
   "source": [
    "#### Linear"
   ]
  },
  {
   "cell_type": "code",
   "execution_count": 98,
   "metadata": {
    "execution": {
     "iopub.execute_input": "2023-01-23T17:41:49.520919Z",
     "iopub.status.busy": "2023-01-23T17:41:49.520439Z",
     "iopub.status.idle": "2023-01-23T17:41:49.526894Z",
     "shell.execute_reply": "2023-01-23T17:41:49.525527Z",
     "shell.execute_reply.started": "2023-01-23T17:41:49.520882Z"
    }
   },
   "outputs": [],
   "source": [
    "regressor_svr_linear = SVR(kernel = 'linear')"
   ]
  },
  {
   "cell_type": "code",
   "execution_count": 99,
   "metadata": {
    "execution": {
     "iopub.execute_input": "2023-01-23T17:41:49.769647Z",
     "iopub.status.busy": "2023-01-23T17:41:49.769217Z",
     "iopub.status.idle": "2023-01-23T17:41:49.899626Z",
     "shell.execute_reply": "2023-01-23T17:41:49.898414Z",
     "shell.execute_reply.started": "2023-01-23T17:41:49.769582Z"
    }
   },
   "outputs": [
    {
     "data": {
      "text/html": [
       "<style>#sk-container-id-6 {color: black;background-color: white;}#sk-container-id-6 pre{padding: 0;}#sk-container-id-6 div.sk-toggleable {background-color: white;}#sk-container-id-6 label.sk-toggleable__label {cursor: pointer;display: block;width: 100%;margin-bottom: 0;padding: 0.3em;box-sizing: border-box;text-align: center;}#sk-container-id-6 label.sk-toggleable__label-arrow:before {content: \"▸\";float: left;margin-right: 0.25em;color: #696969;}#sk-container-id-6 label.sk-toggleable__label-arrow:hover:before {color: black;}#sk-container-id-6 div.sk-estimator:hover label.sk-toggleable__label-arrow:before {color: black;}#sk-container-id-6 div.sk-toggleable__content {max-height: 0;max-width: 0;overflow: hidden;text-align: left;background-color: #f0f8ff;}#sk-container-id-6 div.sk-toggleable__content pre {margin: 0.2em;color: black;border-radius: 0.25em;background-color: #f0f8ff;}#sk-container-id-6 input.sk-toggleable__control:checked~div.sk-toggleable__content {max-height: 200px;max-width: 100%;overflow: auto;}#sk-container-id-6 input.sk-toggleable__control:checked~label.sk-toggleable__label-arrow:before {content: \"▾\";}#sk-container-id-6 div.sk-estimator input.sk-toggleable__control:checked~label.sk-toggleable__label {background-color: #d4ebff;}#sk-container-id-6 div.sk-label input.sk-toggleable__control:checked~label.sk-toggleable__label {background-color: #d4ebff;}#sk-container-id-6 input.sk-hidden--visually {border: 0;clip: rect(1px 1px 1px 1px);clip: rect(1px, 1px, 1px, 1px);height: 1px;margin: -1px;overflow: hidden;padding: 0;position: absolute;width: 1px;}#sk-container-id-6 div.sk-estimator {font-family: monospace;background-color: #f0f8ff;border: 1px dotted black;border-radius: 0.25em;box-sizing: border-box;margin-bottom: 0.5em;}#sk-container-id-6 div.sk-estimator:hover {background-color: #d4ebff;}#sk-container-id-6 div.sk-parallel-item::after {content: \"\";width: 100%;border-bottom: 1px solid gray;flex-grow: 1;}#sk-container-id-6 div.sk-label:hover label.sk-toggleable__label {background-color: #d4ebff;}#sk-container-id-6 div.sk-serial::before {content: \"\";position: absolute;border-left: 1px solid gray;box-sizing: border-box;top: 0;bottom: 0;left: 50%;z-index: 0;}#sk-container-id-6 div.sk-serial {display: flex;flex-direction: column;align-items: center;background-color: white;padding-right: 0.2em;padding-left: 0.2em;position: relative;}#sk-container-id-6 div.sk-item {position: relative;z-index: 1;}#sk-container-id-6 div.sk-parallel {display: flex;align-items: stretch;justify-content: center;background-color: white;position: relative;}#sk-container-id-6 div.sk-item::before, #sk-container-id-6 div.sk-parallel-item::before {content: \"\";position: absolute;border-left: 1px solid gray;box-sizing: border-box;top: 0;bottom: 0;left: 50%;z-index: -1;}#sk-container-id-6 div.sk-parallel-item {display: flex;flex-direction: column;z-index: 1;position: relative;background-color: white;}#sk-container-id-6 div.sk-parallel-item:first-child::after {align-self: flex-end;width: 50%;}#sk-container-id-6 div.sk-parallel-item:last-child::after {align-self: flex-start;width: 50%;}#sk-container-id-6 div.sk-parallel-item:only-child::after {width: 0;}#sk-container-id-6 div.sk-dashed-wrapped {border: 1px dashed gray;margin: 0 0.4em 0.5em 0.4em;box-sizing: border-box;padding-bottom: 0.4em;background-color: white;}#sk-container-id-6 div.sk-label label {font-family: monospace;font-weight: bold;display: inline-block;line-height: 1.2em;}#sk-container-id-6 div.sk-label-container {text-align: center;}#sk-container-id-6 div.sk-container {/* jupyter's `normalize.less` sets `[hidden] { display: none; }` but bootstrap.min.css set `[hidden] { display: none !important; }` so we also need the `!important` here to be able to override the default hidden behavior on the sphinx rendered scikit-learn.org. See: https://github.com/scikit-learn/scikit-learn/issues/21755 */display: inline-block !important;position: relative;}#sk-container-id-6 div.sk-text-repr-fallback {display: none;}</style><div id=\"sk-container-id-6\" class=\"sk-top-container\"><div class=\"sk-text-repr-fallback\"><pre>SVR(kernel=&#x27;linear&#x27;)</pre><b>In a Jupyter environment, please rerun this cell to show the HTML representation or trust the notebook. <br />On GitHub, the HTML representation is unable to render, please try loading this page with nbviewer.org.</b></div><div class=\"sk-container\" hidden><div class=\"sk-item\"><div class=\"sk-estimator sk-toggleable\"><input class=\"sk-toggleable__control sk-hidden--visually\" id=\"sk-estimator-id-8\" type=\"checkbox\" checked><label for=\"sk-estimator-id-8\" class=\"sk-toggleable__label sk-toggleable__label-arrow\">SVR</label><div class=\"sk-toggleable__content\"><pre>SVR(kernel=&#x27;linear&#x27;)</pre></div></div></div></div></div>"
      ],
      "text/plain": [
       "SVR(kernel='linear')"
      ]
     },
     "execution_count": 99,
     "metadata": {},
     "output_type": "execute_result"
    }
   ],
   "source": [
    "regressor_svr_linear.fit(X_train, y_train.ravel())"
   ]
  },
  {
   "cell_type": "markdown",
   "metadata": {},
   "source": [
    "#### Looking at our scores in the training base and in the test base, in the training base we have 59,14% of accuracy, it isn't a good number, when we look at the test base we have 62,50%"
   ]
  },
  {
   "cell_type": "code",
   "execution_count": 100,
   "metadata": {
    "execution": {
     "iopub.execute_input": "2023-01-23T17:41:50.105952Z",
     "iopub.status.busy": "2023-01-23T17:41:50.105467Z",
     "iopub.status.idle": "2023-01-23T17:41:50.138397Z",
     "shell.execute_reply": "2023-01-23T17:41:50.137143Z",
     "shell.execute_reply.started": "2023-01-23T17:41:50.105914Z"
    }
   },
   "outputs": [],
   "source": [
    "standard_svm_linear = regressor_svr_linear.score(X_train, y_train)"
   ]
  },
  {
   "cell_type": "code",
   "execution_count": 101,
   "metadata": {
    "execution": {
     "iopub.execute_input": "2023-01-23T17:41:50.927815Z",
     "iopub.status.busy": "2023-01-23T17:41:50.927347Z",
     "iopub.status.idle": "2023-01-23T17:41:50.935702Z",
     "shell.execute_reply": "2023-01-23T17:41:50.934378Z",
     "shell.execute_reply.started": "2023-01-23T17:41:50.927779Z"
    }
   },
   "outputs": [
    {
     "data": {
      "text/plain": [
       "0.5914971255275656"
      ]
     },
     "execution_count": 101,
     "metadata": {},
     "output_type": "execute_result"
    }
   ],
   "source": [
    "standard_svm_linear"
   ]
  },
  {
   "cell_type": "code",
   "execution_count": 102,
   "metadata": {
    "execution": {
     "iopub.execute_input": "2023-01-23T17:41:51.481082Z",
     "iopub.status.busy": "2023-01-23T17:41:51.480638Z",
     "iopub.status.idle": "2023-01-23T17:41:51.501209Z",
     "shell.execute_reply": "2023-01-23T17:41:51.500109Z",
     "shell.execute_reply.started": "2023-01-23T17:41:51.481047Z"
    }
   },
   "outputs": [],
   "source": [
    "standard_svm_linear_test = regressor_svr_linear.score(X_test, y_test)"
   ]
  },
  {
   "cell_type": "code",
   "execution_count": 103,
   "metadata": {
    "execution": {
     "iopub.execute_input": "2023-01-23T17:41:51.981658Z",
     "iopub.status.busy": "2023-01-23T17:41:51.981198Z",
     "iopub.status.idle": "2023-01-23T17:41:51.990218Z",
     "shell.execute_reply": "2023-01-23T17:41:51.988742Z",
     "shell.execute_reply.started": "2023-01-23T17:41:51.981621Z"
    }
   },
   "outputs": [
    {
     "data": {
      "text/plain": [
       "0.6250823490726319"
      ]
     },
     "execution_count": 103,
     "metadata": {},
     "output_type": "execute_result"
    }
   ],
   "source": [
    "standard_svm_linear_test"
   ]
  },
  {
   "cell_type": "markdown",
   "metadata": {},
   "source": [
    "#### Checking for Models errors."
   ]
  },
  {
   "cell_type": "code",
   "execution_count": 104,
   "metadata": {
    "execution": {
     "iopub.execute_input": "2023-01-23T18:18:22.148747Z",
     "iopub.status.busy": "2023-01-23T18:18:22.148325Z",
     "iopub.status.idle": "2023-01-23T18:18:22.164991Z",
     "shell.execute_reply": "2023-01-23T18:18:22.163774Z",
     "shell.execute_reply.started": "2023-01-23T18:18:22.148711Z"
    }
   },
   "outputs": [],
   "source": [
    "previsoes = regressor_svr_linear.predict(X_test)"
   ]
  },
  {
   "cell_type": "markdown",
   "metadata": {},
   "source": [
    "#### Looking at our Mean Absolut Error metric, we have the number of 211762, which tells us that it can err 211762 up or down, and when we look at our Root Mean Square Error we get the number of 333004."
   ]
  },
  {
   "cell_type": "code",
   "execution_count": 105,
   "metadata": {
    "execution": {
     "iopub.execute_input": "2023-01-23T18:18:28.641921Z",
     "iopub.status.busy": "2023-01-23T18:18:28.641425Z",
     "iopub.status.idle": "2023-01-23T18:18:28.648808Z",
     "shell.execute_reply": "2023-01-23T18:18:28.647516Z",
     "shell.execute_reply.started": "2023-01-23T18:18:28.641882Z"
    }
   },
   "outputs": [],
   "source": [
    "y_test_inverse = scaler.inverse_transform(y_test)\n",
    "previsoes_inverse = scaler.inverse_transform(previsoes.reshape(-1,1))"
   ]
  },
  {
   "cell_type": "markdown",
   "metadata": {},
   "source": [
    "#### Looking at our Mean Absolut Error metric, we have the number of 211762, which tells us that it can err 211762 up or down, and when we look at our Root Mean Square Error we get the number of 333004."
   ]
  },
  {
   "cell_type": "code",
   "execution_count": 106,
   "metadata": {
    "execution": {
     "iopub.execute_input": "2023-01-23T18:18:36.236512Z",
     "iopub.status.busy": "2023-01-23T18:18:36.236087Z",
     "iopub.status.idle": "2023-01-23T18:18:36.243197Z",
     "shell.execute_reply": "2023-01-23T18:18:36.241971Z",
     "shell.execute_reply.started": "2023-01-23T18:18:36.236475Z"
    }
   },
   "outputs": [],
   "source": [
    "mae_svr_linear_standard  = mean_absolute_error(y_test_inverse, previsoes_inverse)"
   ]
  },
  {
   "cell_type": "code",
   "execution_count": 107,
   "metadata": {
    "execution": {
     "iopub.execute_input": "2023-01-23T18:18:40.65582Z",
     "iopub.status.busy": "2023-01-23T18:18:40.655323Z",
     "iopub.status.idle": "2023-01-23T18:18:40.662318Z",
     "shell.execute_reply": "2023-01-23T18:18:40.661395Z",
     "shell.execute_reply.started": "2023-01-23T18:18:40.65578Z"
    }
   },
   "outputs": [
    {
     "data": {
      "text/plain": [
       "211762.3016253647"
      ]
     },
     "execution_count": 107,
     "metadata": {},
     "output_type": "execute_result"
    }
   ],
   "source": [
    "mae_svr_linear_standard"
   ]
  },
  {
   "cell_type": "code",
   "execution_count": 108,
   "metadata": {
    "execution": {
     "iopub.execute_input": "2023-01-23T18:18:50.58857Z",
     "iopub.status.busy": "2023-01-23T18:18:50.588112Z",
     "iopub.status.idle": "2023-01-23T18:18:50.595073Z",
     "shell.execute_reply": "2023-01-23T18:18:50.593832Z",
     "shell.execute_reply.started": "2023-01-23T18:18:50.588531Z"
    }
   },
   "outputs": [],
   "source": [
    "rmse_svm_linear_standard = np.sqrt(mean_squared_error(y_test_inverse, previsoes_inverse))"
   ]
  },
  {
   "cell_type": "code",
   "execution_count": 109,
   "metadata": {
    "execution": {
     "iopub.execute_input": "2023-01-23T18:18:53.169711Z",
     "iopub.status.busy": "2023-01-23T18:18:53.168396Z",
     "iopub.status.idle": "2023-01-23T18:18:53.176162Z",
     "shell.execute_reply": "2023-01-23T18:18:53.175209Z",
     "shell.execute_reply.started": "2023-01-23T18:18:53.169572Z"
    }
   },
   "outputs": [
    {
     "data": {
      "text/plain": [
       "333004.3640976099"
      ]
     },
     "execution_count": 109,
     "metadata": {},
     "output_type": "execute_result"
    }
   ],
   "source": [
    "rmse_svm_linear_standard"
   ]
  },
  {
   "cell_type": "markdown",
   "metadata": {},
   "source": [
    "#### Polynomial Kernel"
   ]
  },
  {
   "cell_type": "code",
   "execution_count": 110,
   "metadata": {
    "execution": {
     "iopub.execute_input": "2023-01-23T17:41:52.843262Z",
     "iopub.status.busy": "2023-01-23T17:41:52.842838Z",
     "iopub.status.idle": "2023-01-23T17:41:52.848095Z",
     "shell.execute_reply": "2023-01-23T17:41:52.847169Z",
     "shell.execute_reply.started": "2023-01-23T17:41:52.843228Z"
    }
   },
   "outputs": [],
   "source": [
    "regressor_svr_poly = SVR(kernel = 'poly', degree = 3)"
   ]
  },
  {
   "cell_type": "code",
   "execution_count": 111,
   "metadata": {
    "execution": {
     "iopub.execute_input": "2023-01-23T17:41:53.166786Z",
     "iopub.status.busy": "2023-01-23T17:41:53.166272Z",
     "iopub.status.idle": "2023-01-23T17:41:53.316864Z",
     "shell.execute_reply": "2023-01-23T17:41:53.315897Z",
     "shell.execute_reply.started": "2023-01-23T17:41:53.166708Z"
    }
   },
   "outputs": [
    {
     "data": {
      "text/html": [
       "<style>#sk-container-id-7 {color: black;background-color: white;}#sk-container-id-7 pre{padding: 0;}#sk-container-id-7 div.sk-toggleable {background-color: white;}#sk-container-id-7 label.sk-toggleable__label {cursor: pointer;display: block;width: 100%;margin-bottom: 0;padding: 0.3em;box-sizing: border-box;text-align: center;}#sk-container-id-7 label.sk-toggleable__label-arrow:before {content: \"▸\";float: left;margin-right: 0.25em;color: #696969;}#sk-container-id-7 label.sk-toggleable__label-arrow:hover:before {color: black;}#sk-container-id-7 div.sk-estimator:hover label.sk-toggleable__label-arrow:before {color: black;}#sk-container-id-7 div.sk-toggleable__content {max-height: 0;max-width: 0;overflow: hidden;text-align: left;background-color: #f0f8ff;}#sk-container-id-7 div.sk-toggleable__content pre {margin: 0.2em;color: black;border-radius: 0.25em;background-color: #f0f8ff;}#sk-container-id-7 input.sk-toggleable__control:checked~div.sk-toggleable__content {max-height: 200px;max-width: 100%;overflow: auto;}#sk-container-id-7 input.sk-toggleable__control:checked~label.sk-toggleable__label-arrow:before {content: \"▾\";}#sk-container-id-7 div.sk-estimator input.sk-toggleable__control:checked~label.sk-toggleable__label {background-color: #d4ebff;}#sk-container-id-7 div.sk-label input.sk-toggleable__control:checked~label.sk-toggleable__label {background-color: #d4ebff;}#sk-container-id-7 input.sk-hidden--visually {border: 0;clip: rect(1px 1px 1px 1px);clip: rect(1px, 1px, 1px, 1px);height: 1px;margin: -1px;overflow: hidden;padding: 0;position: absolute;width: 1px;}#sk-container-id-7 div.sk-estimator {font-family: monospace;background-color: #f0f8ff;border: 1px dotted black;border-radius: 0.25em;box-sizing: border-box;margin-bottom: 0.5em;}#sk-container-id-7 div.sk-estimator:hover {background-color: #d4ebff;}#sk-container-id-7 div.sk-parallel-item::after {content: \"\";width: 100%;border-bottom: 1px solid gray;flex-grow: 1;}#sk-container-id-7 div.sk-label:hover label.sk-toggleable__label {background-color: #d4ebff;}#sk-container-id-7 div.sk-serial::before {content: \"\";position: absolute;border-left: 1px solid gray;box-sizing: border-box;top: 0;bottom: 0;left: 50%;z-index: 0;}#sk-container-id-7 div.sk-serial {display: flex;flex-direction: column;align-items: center;background-color: white;padding-right: 0.2em;padding-left: 0.2em;position: relative;}#sk-container-id-7 div.sk-item {position: relative;z-index: 1;}#sk-container-id-7 div.sk-parallel {display: flex;align-items: stretch;justify-content: center;background-color: white;position: relative;}#sk-container-id-7 div.sk-item::before, #sk-container-id-7 div.sk-parallel-item::before {content: \"\";position: absolute;border-left: 1px solid gray;box-sizing: border-box;top: 0;bottom: 0;left: 50%;z-index: -1;}#sk-container-id-7 div.sk-parallel-item {display: flex;flex-direction: column;z-index: 1;position: relative;background-color: white;}#sk-container-id-7 div.sk-parallel-item:first-child::after {align-self: flex-end;width: 50%;}#sk-container-id-7 div.sk-parallel-item:last-child::after {align-self: flex-start;width: 50%;}#sk-container-id-7 div.sk-parallel-item:only-child::after {width: 0;}#sk-container-id-7 div.sk-dashed-wrapped {border: 1px dashed gray;margin: 0 0.4em 0.5em 0.4em;box-sizing: border-box;padding-bottom: 0.4em;background-color: white;}#sk-container-id-7 div.sk-label label {font-family: monospace;font-weight: bold;display: inline-block;line-height: 1.2em;}#sk-container-id-7 div.sk-label-container {text-align: center;}#sk-container-id-7 div.sk-container {/* jupyter's `normalize.less` sets `[hidden] { display: none; }` but bootstrap.min.css set `[hidden] { display: none !important; }` so we also need the `!important` here to be able to override the default hidden behavior on the sphinx rendered scikit-learn.org. See: https://github.com/scikit-learn/scikit-learn/issues/21755 */display: inline-block !important;position: relative;}#sk-container-id-7 div.sk-text-repr-fallback {display: none;}</style><div id=\"sk-container-id-7\" class=\"sk-top-container\"><div class=\"sk-text-repr-fallback\"><pre>SVR(kernel=&#x27;poly&#x27;)</pre><b>In a Jupyter environment, please rerun this cell to show the HTML representation or trust the notebook. <br />On GitHub, the HTML representation is unable to render, please try loading this page with nbviewer.org.</b></div><div class=\"sk-container\" hidden><div class=\"sk-item\"><div class=\"sk-estimator sk-toggleable\"><input class=\"sk-toggleable__control sk-hidden--visually\" id=\"sk-estimator-id-9\" type=\"checkbox\" checked><label for=\"sk-estimator-id-9\" class=\"sk-toggleable__label sk-toggleable__label-arrow\">SVR</label><div class=\"sk-toggleable__content\"><pre>SVR(kernel=&#x27;poly&#x27;)</pre></div></div></div></div></div>"
      ],
      "text/plain": [
       "SVR(kernel='poly')"
      ]
     },
     "execution_count": 111,
     "metadata": {},
     "output_type": "execute_result"
    }
   ],
   "source": [
    "regressor_svr_poly.fit(X_train, y_train.ravel())"
   ]
  },
  {
   "cell_type": "markdown",
   "metadata": {},
   "source": [
    "#### Looking at our scores in the training base and in the test base, in the training base we have 34,65% of accuracy, it isn't a good number, when we look at the test base we have 41,64%, probably the worst model that we have."
   ]
  },
  {
   "cell_type": "code",
   "execution_count": 112,
   "metadata": {
    "execution": {
     "iopub.execute_input": "2023-01-23T17:41:53.738248Z",
     "iopub.status.busy": "2023-01-23T17:41:53.737397Z",
     "iopub.status.idle": "2023-01-23T17:41:53.777994Z",
     "shell.execute_reply": "2023-01-23T17:41:53.776976Z",
     "shell.execute_reply.started": "2023-01-23T17:41:53.738206Z"
    }
   },
   "outputs": [],
   "source": [
    "standard_svm_poly = regressor_svr_poly.score(X_train, y_train)"
   ]
  },
  {
   "cell_type": "code",
   "execution_count": 113,
   "metadata": {
    "execution": {
     "iopub.execute_input": "2023-01-23T17:41:54.170614Z",
     "iopub.status.busy": "2023-01-23T17:41:54.170179Z",
     "iopub.status.idle": "2023-01-23T17:41:54.179522Z",
     "shell.execute_reply": "2023-01-23T17:41:54.177996Z",
     "shell.execute_reply.started": "2023-01-23T17:41:54.170564Z"
    }
   },
   "outputs": [
    {
     "data": {
      "text/plain": [
       "0.3465979105427921"
      ]
     },
     "execution_count": 113,
     "metadata": {},
     "output_type": "execute_result"
    }
   ],
   "source": [
    "standard_svm_poly"
   ]
  },
  {
   "cell_type": "code",
   "execution_count": 114,
   "metadata": {
    "execution": {
     "iopub.execute_input": "2023-01-23T17:41:55.019088Z",
     "iopub.status.busy": "2023-01-23T17:41:55.018671Z",
     "iopub.status.idle": "2023-01-23T17:41:55.040297Z",
     "shell.execute_reply": "2023-01-23T17:41:55.038961Z",
     "shell.execute_reply.started": "2023-01-23T17:41:55.019047Z"
    }
   },
   "outputs": [],
   "source": [
    "standard_svm_poly_test = regressor_svr_poly.score(X_test, y_test)"
   ]
  },
  {
   "cell_type": "code",
   "execution_count": 115,
   "metadata": {
    "execution": {
     "iopub.execute_input": "2023-01-23T17:41:55.227248Z",
     "iopub.status.busy": "2023-01-23T17:41:55.226822Z",
     "iopub.status.idle": "2023-01-23T17:41:55.236522Z",
     "shell.execute_reply": "2023-01-23T17:41:55.23512Z",
     "shell.execute_reply.started": "2023-01-23T17:41:55.227214Z"
    }
   },
   "outputs": [
    {
     "data": {
      "text/plain": [
       "0.4164355022280313"
      ]
     },
     "execution_count": 115,
     "metadata": {},
     "output_type": "execute_result"
    }
   ],
   "source": [
    "standard_svm_poly_test"
   ]
  },
  {
   "cell_type": "markdown",
   "metadata": {},
   "source": [
    "#### Checking for Models errors."
   ]
  },
  {
   "cell_type": "code",
   "execution_count": 116,
   "metadata": {
    "execution": {
     "iopub.execute_input": "2023-01-23T18:20:54.263886Z",
     "iopub.status.busy": "2023-01-23T18:20:54.263312Z",
     "iopub.status.idle": "2023-01-23T18:20:54.28562Z",
     "shell.execute_reply": "2023-01-23T18:20:54.284284Z",
     "shell.execute_reply.started": "2023-01-23T18:20:54.263847Z"
    }
   },
   "outputs": [],
   "source": [
    "previsoes = regressor_svr_poly.predict(X_test)"
   ]
  },
  {
   "cell_type": "code",
   "execution_count": 117,
   "metadata": {
    "execution": {
     "iopub.execute_input": "2023-01-23T18:21:01.038374Z",
     "iopub.status.busy": "2023-01-23T18:21:01.037959Z",
     "iopub.status.idle": "2023-01-23T18:21:01.046092Z",
     "shell.execute_reply": "2023-01-23T18:21:01.044452Z",
     "shell.execute_reply.started": "2023-01-23T18:21:01.038343Z"
    }
   },
   "outputs": [],
   "source": [
    "y_test_inverse = scaler.inverse_transform(y_test)\n",
    "previsoes_inverse = scaler.inverse_transform(previsoes.reshape(-1,1))"
   ]
  },
  {
   "cell_type": "markdown",
   "metadata": {},
   "source": [
    "#### Looking at our Mean Absolut Error metric, we have the number of 251400, which tells us that it can err 251400 up or down, and when we look at our Root Mean Square Error we get the number of 415457."
   ]
  },
  {
   "cell_type": "code",
   "execution_count": 118,
   "metadata": {
    "execution": {
     "iopub.execute_input": "2023-01-23T18:21:08.159219Z",
     "iopub.status.busy": "2023-01-23T18:21:08.158799Z",
     "iopub.status.idle": "2023-01-23T18:21:08.165785Z",
     "shell.execute_reply": "2023-01-23T18:21:08.164397Z",
     "shell.execute_reply.started": "2023-01-23T18:21:08.159188Z"
    }
   },
   "outputs": [],
   "source": [
    "mae_svr_poly_standard  = mean_absolute_error(y_test_inverse, previsoes_inverse)"
   ]
  },
  {
   "cell_type": "code",
   "execution_count": 119,
   "metadata": {
    "execution": {
     "iopub.execute_input": "2023-01-23T18:21:10.767812Z",
     "iopub.status.busy": "2023-01-23T18:21:10.767124Z",
     "iopub.status.idle": "2023-01-23T18:21:10.774521Z",
     "shell.execute_reply": "2023-01-23T18:21:10.77371Z",
     "shell.execute_reply.started": "2023-01-23T18:21:10.767766Z"
    }
   },
   "outputs": [
    {
     "data": {
      "text/plain": [
       "251400.13860302448"
      ]
     },
     "execution_count": 119,
     "metadata": {},
     "output_type": "execute_result"
    }
   ],
   "source": [
    "mae_svr_poly_standard"
   ]
  },
  {
   "cell_type": "code",
   "execution_count": 120,
   "metadata": {
    "execution": {
     "iopub.execute_input": "2023-01-23T18:21:19.73865Z",
     "iopub.status.busy": "2023-01-23T18:21:19.738228Z",
     "iopub.status.idle": "2023-01-23T18:21:19.746036Z",
     "shell.execute_reply": "2023-01-23T18:21:19.744506Z",
     "shell.execute_reply.started": "2023-01-23T18:21:19.738616Z"
    }
   },
   "outputs": [],
   "source": [
    "rmse_svm_poly_standard = np.sqrt(mean_squared_error(y_test_inverse, previsoes_inverse))"
   ]
  },
  {
   "cell_type": "code",
   "execution_count": 121,
   "metadata": {
    "execution": {
     "iopub.execute_input": "2023-01-23T18:21:23.80749Z",
     "iopub.status.busy": "2023-01-23T18:21:23.807071Z",
     "iopub.status.idle": "2023-01-23T18:21:23.814925Z",
     "shell.execute_reply": "2023-01-23T18:21:23.813649Z",
     "shell.execute_reply.started": "2023-01-23T18:21:23.807447Z"
    }
   },
   "outputs": [
    {
     "data": {
      "text/plain": [
       "415457.3177344011"
      ]
     },
     "execution_count": 121,
     "metadata": {},
     "output_type": "execute_result"
    }
   ],
   "source": [
    "rmse_svm_poly_standard"
   ]
  },
  {
   "cell_type": "markdown",
   "metadata": {},
   "source": [
    "#### Kernel RBF"
   ]
  },
  {
   "cell_type": "code",
   "execution_count": 122,
   "metadata": {
    "execution": {
     "iopub.execute_input": "2023-01-23T17:41:56.304869Z",
     "iopub.status.busy": "2023-01-23T17:41:56.30442Z",
     "iopub.status.idle": "2023-01-23T17:41:56.310656Z",
     "shell.execute_reply": "2023-01-23T17:41:56.309405Z",
     "shell.execute_reply.started": "2023-01-23T17:41:56.304833Z"
    }
   },
   "outputs": [],
   "source": [
    "regressor_svr_rbf = SVR(kernel = 'rbf')"
   ]
  },
  {
   "cell_type": "code",
   "execution_count": 123,
   "metadata": {
    "execution": {
     "iopub.execute_input": "2023-01-23T17:41:56.756026Z",
     "iopub.status.busy": "2023-01-23T17:41:56.75558Z",
     "iopub.status.idle": "2023-01-23T17:41:56.844053Z",
     "shell.execute_reply": "2023-01-23T17:41:56.842808Z",
     "shell.execute_reply.started": "2023-01-23T17:41:56.755989Z"
    }
   },
   "outputs": [
    {
     "data": {
      "text/html": [
       "<style>#sk-container-id-8 {color: black;background-color: white;}#sk-container-id-8 pre{padding: 0;}#sk-container-id-8 div.sk-toggleable {background-color: white;}#sk-container-id-8 label.sk-toggleable__label {cursor: pointer;display: block;width: 100%;margin-bottom: 0;padding: 0.3em;box-sizing: border-box;text-align: center;}#sk-container-id-8 label.sk-toggleable__label-arrow:before {content: \"▸\";float: left;margin-right: 0.25em;color: #696969;}#sk-container-id-8 label.sk-toggleable__label-arrow:hover:before {color: black;}#sk-container-id-8 div.sk-estimator:hover label.sk-toggleable__label-arrow:before {color: black;}#sk-container-id-8 div.sk-toggleable__content {max-height: 0;max-width: 0;overflow: hidden;text-align: left;background-color: #f0f8ff;}#sk-container-id-8 div.sk-toggleable__content pre {margin: 0.2em;color: black;border-radius: 0.25em;background-color: #f0f8ff;}#sk-container-id-8 input.sk-toggleable__control:checked~div.sk-toggleable__content {max-height: 200px;max-width: 100%;overflow: auto;}#sk-container-id-8 input.sk-toggleable__control:checked~label.sk-toggleable__label-arrow:before {content: \"▾\";}#sk-container-id-8 div.sk-estimator input.sk-toggleable__control:checked~label.sk-toggleable__label {background-color: #d4ebff;}#sk-container-id-8 div.sk-label input.sk-toggleable__control:checked~label.sk-toggleable__label {background-color: #d4ebff;}#sk-container-id-8 input.sk-hidden--visually {border: 0;clip: rect(1px 1px 1px 1px);clip: rect(1px, 1px, 1px, 1px);height: 1px;margin: -1px;overflow: hidden;padding: 0;position: absolute;width: 1px;}#sk-container-id-8 div.sk-estimator {font-family: monospace;background-color: #f0f8ff;border: 1px dotted black;border-radius: 0.25em;box-sizing: border-box;margin-bottom: 0.5em;}#sk-container-id-8 div.sk-estimator:hover {background-color: #d4ebff;}#sk-container-id-8 div.sk-parallel-item::after {content: \"\";width: 100%;border-bottom: 1px solid gray;flex-grow: 1;}#sk-container-id-8 div.sk-label:hover label.sk-toggleable__label {background-color: #d4ebff;}#sk-container-id-8 div.sk-serial::before {content: \"\";position: absolute;border-left: 1px solid gray;box-sizing: border-box;top: 0;bottom: 0;left: 50%;z-index: 0;}#sk-container-id-8 div.sk-serial {display: flex;flex-direction: column;align-items: center;background-color: white;padding-right: 0.2em;padding-left: 0.2em;position: relative;}#sk-container-id-8 div.sk-item {position: relative;z-index: 1;}#sk-container-id-8 div.sk-parallel {display: flex;align-items: stretch;justify-content: center;background-color: white;position: relative;}#sk-container-id-8 div.sk-item::before, #sk-container-id-8 div.sk-parallel-item::before {content: \"\";position: absolute;border-left: 1px solid gray;box-sizing: border-box;top: 0;bottom: 0;left: 50%;z-index: -1;}#sk-container-id-8 div.sk-parallel-item {display: flex;flex-direction: column;z-index: 1;position: relative;background-color: white;}#sk-container-id-8 div.sk-parallel-item:first-child::after {align-self: flex-end;width: 50%;}#sk-container-id-8 div.sk-parallel-item:last-child::after {align-self: flex-start;width: 50%;}#sk-container-id-8 div.sk-parallel-item:only-child::after {width: 0;}#sk-container-id-8 div.sk-dashed-wrapped {border: 1px dashed gray;margin: 0 0.4em 0.5em 0.4em;box-sizing: border-box;padding-bottom: 0.4em;background-color: white;}#sk-container-id-8 div.sk-label label {font-family: monospace;font-weight: bold;display: inline-block;line-height: 1.2em;}#sk-container-id-8 div.sk-label-container {text-align: center;}#sk-container-id-8 div.sk-container {/* jupyter's `normalize.less` sets `[hidden] { display: none; }` but bootstrap.min.css set `[hidden] { display: none !important; }` so we also need the `!important` here to be able to override the default hidden behavior on the sphinx rendered scikit-learn.org. See: https://github.com/scikit-learn/scikit-learn/issues/21755 */display: inline-block !important;position: relative;}#sk-container-id-8 div.sk-text-repr-fallback {display: none;}</style><div id=\"sk-container-id-8\" class=\"sk-top-container\"><div class=\"sk-text-repr-fallback\"><pre>SVR()</pre><b>In a Jupyter environment, please rerun this cell to show the HTML representation or trust the notebook. <br />On GitHub, the HTML representation is unable to render, please try loading this page with nbviewer.org.</b></div><div class=\"sk-container\" hidden><div class=\"sk-item\"><div class=\"sk-estimator sk-toggleable\"><input class=\"sk-toggleable__control sk-hidden--visually\" id=\"sk-estimator-id-10\" type=\"checkbox\" checked><label for=\"sk-estimator-id-10\" class=\"sk-toggleable__label sk-toggleable__label-arrow\">SVR</label><div class=\"sk-toggleable__content\"><pre>SVR()</pre></div></div></div></div></div>"
      ],
      "text/plain": [
       "SVR()"
      ]
     },
     "execution_count": 123,
     "metadata": {},
     "output_type": "execute_result"
    }
   ],
   "source": [
    "regressor_svr_rbf.fit(X_train, y_train.ravel())"
   ]
  },
  {
   "cell_type": "markdown",
   "metadata": {},
   "source": [
    "#### Looking at our scores in the training base and in the test base, in the training base we have 67,74% of accuracy, it isn't a good number, when we look at the test base we have 67,40%."
   ]
  },
  {
   "cell_type": "code",
   "execution_count": 124,
   "metadata": {
    "execution": {
     "iopub.execute_input": "2023-01-23T17:41:57.182443Z",
     "iopub.status.busy": "2023-01-23T17:41:57.182027Z",
     "iopub.status.idle": "2023-01-23T17:41:57.246734Z",
     "shell.execute_reply": "2023-01-23T17:41:57.245347Z",
     "shell.execute_reply.started": "2023-01-23T17:41:57.182408Z"
    }
   },
   "outputs": [],
   "source": [
    "standard_svm_rbf = regressor_svr_rbf.score(X_train, y_train)"
   ]
  },
  {
   "cell_type": "code",
   "execution_count": 125,
   "metadata": {
    "execution": {
     "iopub.execute_input": "2023-01-23T17:41:57.950871Z",
     "iopub.status.busy": "2023-01-23T17:41:57.950451Z",
     "iopub.status.idle": "2023-01-23T17:41:57.959115Z",
     "shell.execute_reply": "2023-01-23T17:41:57.957488Z",
     "shell.execute_reply.started": "2023-01-23T17:41:57.950838Z"
    }
   },
   "outputs": [
    {
     "data": {
      "text/plain": [
       "0.6774670814156933"
      ]
     },
     "execution_count": 125,
     "metadata": {},
     "output_type": "execute_result"
    }
   ],
   "source": [
    "standard_svm_rbf"
   ]
  },
  {
   "cell_type": "code",
   "execution_count": 126,
   "metadata": {
    "execution": {
     "iopub.execute_input": "2023-01-23T17:41:58.608386Z",
     "iopub.status.busy": "2023-01-23T17:41:58.607489Z",
     "iopub.status.idle": "2023-01-23T17:41:58.640145Z",
     "shell.execute_reply": "2023-01-23T17:41:58.639038Z",
     "shell.execute_reply.started": "2023-01-23T17:41:58.608343Z"
    }
   },
   "outputs": [],
   "source": [
    "standard_svm_rbf_test = regressor_svr_rbf.score(X_test, y_test)"
   ]
  },
  {
   "cell_type": "code",
   "execution_count": 127,
   "metadata": {
    "execution": {
     "iopub.execute_input": "2023-01-23T17:41:59.177438Z",
     "iopub.status.busy": "2023-01-23T17:41:59.177017Z",
     "iopub.status.idle": "2023-01-23T17:41:59.186432Z",
     "shell.execute_reply": "2023-01-23T17:41:59.184915Z",
     "shell.execute_reply.started": "2023-01-23T17:41:59.177404Z"
    }
   },
   "outputs": [
    {
     "data": {
      "text/plain": [
       "0.6740847427406618"
      ]
     },
     "execution_count": 127,
     "metadata": {},
     "output_type": "execute_result"
    }
   ],
   "source": [
    "standard_svm_rbf_test"
   ]
  },
  {
   "cell_type": "markdown",
   "metadata": {},
   "source": [
    "#### Checking for Models errors."
   ]
  },
  {
   "cell_type": "code",
   "execution_count": 128,
   "metadata": {
    "execution": {
     "iopub.execute_input": "2023-01-23T18:27:57.219736Z",
     "iopub.status.busy": "2023-01-23T18:27:57.21851Z",
     "iopub.status.idle": "2023-01-23T18:27:57.250086Z",
     "shell.execute_reply": "2023-01-23T18:27:57.249018Z",
     "shell.execute_reply.started": "2023-01-23T18:27:57.219674Z"
    }
   },
   "outputs": [],
   "source": [
    "previsoes = regressor_svr_rbf.predict(X_test)"
   ]
  },
  {
   "cell_type": "code",
   "execution_count": 129,
   "metadata": {
    "execution": {
     "iopub.execute_input": "2023-01-23T18:28:03.098495Z",
     "iopub.status.busy": "2023-01-23T18:28:03.098056Z",
     "iopub.status.idle": "2023-01-23T18:28:03.105155Z",
     "shell.execute_reply": "2023-01-23T18:28:03.103941Z",
     "shell.execute_reply.started": "2023-01-23T18:28:03.098446Z"
    }
   },
   "outputs": [],
   "source": [
    "y_test_inverse = scaler.inverse_transform(y_test)\n",
    "previsoes_inverse = scaler.inverse_transform(previsoes.reshape(-1,1))"
   ]
  },
  {
   "cell_type": "markdown",
   "metadata": {},
   "source": [
    "#### Looking at our Mean Absolut Error metric, we have the number of 193205, which tells us that it can err 193205 up or down, and when we look at our Root Mean Square Error we get the number of 310480."
   ]
  },
  {
   "cell_type": "code",
   "execution_count": 130,
   "metadata": {
    "execution": {
     "iopub.execute_input": "2023-01-23T18:28:13.775311Z",
     "iopub.status.busy": "2023-01-23T18:28:13.774918Z",
     "iopub.status.idle": "2023-01-23T18:28:13.781464Z",
     "shell.execute_reply": "2023-01-23T18:28:13.780072Z",
     "shell.execute_reply.started": "2023-01-23T18:28:13.775279Z"
    }
   },
   "outputs": [],
   "source": [
    "mae_svr_rbf_standard = mean_absolute_error(y_test_inverse, previsoes_inverse)"
   ]
  },
  {
   "cell_type": "code",
   "execution_count": 131,
   "metadata": {
    "execution": {
     "iopub.execute_input": "2023-01-23T18:28:18.648247Z",
     "iopub.status.busy": "2023-01-23T18:28:18.647859Z",
     "iopub.status.idle": "2023-01-23T18:28:18.656157Z",
     "shell.execute_reply": "2023-01-23T18:28:18.654622Z",
     "shell.execute_reply.started": "2023-01-23T18:28:18.648217Z"
    }
   },
   "outputs": [
    {
     "data": {
      "text/plain": [
       "193205.83076694535"
      ]
     },
     "execution_count": 131,
     "metadata": {},
     "output_type": "execute_result"
    }
   ],
   "source": [
    "mae_svr_rbf_standard"
   ]
  },
  {
   "cell_type": "code",
   "execution_count": 132,
   "metadata": {
    "execution": {
     "iopub.execute_input": "2023-01-23T18:28:28.018326Z",
     "iopub.status.busy": "2023-01-23T18:28:28.017929Z",
     "iopub.status.idle": "2023-01-23T18:28:28.025279Z",
     "shell.execute_reply": "2023-01-23T18:28:28.024106Z",
     "shell.execute_reply.started": "2023-01-23T18:28:28.018288Z"
    }
   },
   "outputs": [],
   "source": [
    "rmse_svm_rbf_standard = np.sqrt(mean_squared_error(y_test_inverse, previsoes_inverse))"
   ]
  },
  {
   "cell_type": "code",
   "execution_count": 133,
   "metadata": {
    "execution": {
     "iopub.execute_input": "2023-01-23T18:28:31.928545Z",
     "iopub.status.busy": "2023-01-23T18:28:31.92729Z",
     "iopub.status.idle": "2023-01-23T18:28:31.9359Z",
     "shell.execute_reply": "2023-01-23T18:28:31.934709Z",
     "shell.execute_reply.started": "2023-01-23T18:28:31.928503Z"
    }
   },
   "outputs": [
    {
     "data": {
      "text/plain": [
       "310480.4987327046"
      ]
     },
     "execution_count": 133,
     "metadata": {},
     "output_type": "execute_result"
    }
   ],
   "source": [
    "rmse_svm_rbf_standard"
   ]
  },
  {
   "cell_type": "markdown",
   "metadata": {},
   "source": [
    "#### RNA"
   ]
  },
  {
   "cell_type": "code",
   "execution_count": 134,
   "metadata": {
    "execution": {
     "iopub.execute_input": "2023-01-23T17:42:00.477339Z",
     "iopub.status.busy": "2023-01-23T17:42:00.476873Z",
     "iopub.status.idle": "2023-01-23T17:42:00.482962Z",
     "shell.execute_reply": "2023-01-23T17:42:00.481653Z",
     "shell.execute_reply.started": "2023-01-23T17:42:00.477301Z"
    }
   },
   "outputs": [],
   "source": [
    "from sklearn.neural_network import MLPRegressor"
   ]
  },
  {
   "cell_type": "code",
   "execution_count": 135,
   "metadata": {
    "execution": {
     "iopub.execute_input": "2023-01-23T17:42:00.825827Z",
     "iopub.status.busy": "2023-01-23T17:42:00.825337Z",
     "iopub.status.idle": "2023-01-23T17:42:00.832818Z",
     "shell.execute_reply": "2023-01-23T17:42:00.831539Z",
     "shell.execute_reply.started": "2023-01-23T17:42:00.825757Z"
    }
   },
   "outputs": [],
   "source": [
    "regressor_rna = MLPRegressor(max_iter = 1000, hidden_layer_sizes=(4, 4))"
   ]
  },
  {
   "cell_type": "code",
   "execution_count": 136,
   "metadata": {
    "execution": {
     "iopub.execute_input": "2023-01-23T17:42:02.016286Z",
     "iopub.status.busy": "2023-01-23T17:42:02.015861Z",
     "iopub.status.idle": "2023-01-23T17:42:03.107006Z",
     "shell.execute_reply": "2023-01-23T17:42:03.10561Z",
     "shell.execute_reply.started": "2023-01-23T17:42:02.016251Z"
    }
   },
   "outputs": [
    {
     "data": {
      "text/html": [
       "<style>#sk-container-id-9 {color: black;background-color: white;}#sk-container-id-9 pre{padding: 0;}#sk-container-id-9 div.sk-toggleable {background-color: white;}#sk-container-id-9 label.sk-toggleable__label {cursor: pointer;display: block;width: 100%;margin-bottom: 0;padding: 0.3em;box-sizing: border-box;text-align: center;}#sk-container-id-9 label.sk-toggleable__label-arrow:before {content: \"▸\";float: left;margin-right: 0.25em;color: #696969;}#sk-container-id-9 label.sk-toggleable__label-arrow:hover:before {color: black;}#sk-container-id-9 div.sk-estimator:hover label.sk-toggleable__label-arrow:before {color: black;}#sk-container-id-9 div.sk-toggleable__content {max-height: 0;max-width: 0;overflow: hidden;text-align: left;background-color: #f0f8ff;}#sk-container-id-9 div.sk-toggleable__content pre {margin: 0.2em;color: black;border-radius: 0.25em;background-color: #f0f8ff;}#sk-container-id-9 input.sk-toggleable__control:checked~div.sk-toggleable__content {max-height: 200px;max-width: 100%;overflow: auto;}#sk-container-id-9 input.sk-toggleable__control:checked~label.sk-toggleable__label-arrow:before {content: \"▾\";}#sk-container-id-9 div.sk-estimator input.sk-toggleable__control:checked~label.sk-toggleable__label {background-color: #d4ebff;}#sk-container-id-9 div.sk-label input.sk-toggleable__control:checked~label.sk-toggleable__label {background-color: #d4ebff;}#sk-container-id-9 input.sk-hidden--visually {border: 0;clip: rect(1px 1px 1px 1px);clip: rect(1px, 1px, 1px, 1px);height: 1px;margin: -1px;overflow: hidden;padding: 0;position: absolute;width: 1px;}#sk-container-id-9 div.sk-estimator {font-family: monospace;background-color: #f0f8ff;border: 1px dotted black;border-radius: 0.25em;box-sizing: border-box;margin-bottom: 0.5em;}#sk-container-id-9 div.sk-estimator:hover {background-color: #d4ebff;}#sk-container-id-9 div.sk-parallel-item::after {content: \"\";width: 100%;border-bottom: 1px solid gray;flex-grow: 1;}#sk-container-id-9 div.sk-label:hover label.sk-toggleable__label {background-color: #d4ebff;}#sk-container-id-9 div.sk-serial::before {content: \"\";position: absolute;border-left: 1px solid gray;box-sizing: border-box;top: 0;bottom: 0;left: 50%;z-index: 0;}#sk-container-id-9 div.sk-serial {display: flex;flex-direction: column;align-items: center;background-color: white;padding-right: 0.2em;padding-left: 0.2em;position: relative;}#sk-container-id-9 div.sk-item {position: relative;z-index: 1;}#sk-container-id-9 div.sk-parallel {display: flex;align-items: stretch;justify-content: center;background-color: white;position: relative;}#sk-container-id-9 div.sk-item::before, #sk-container-id-9 div.sk-parallel-item::before {content: \"\";position: absolute;border-left: 1px solid gray;box-sizing: border-box;top: 0;bottom: 0;left: 50%;z-index: -1;}#sk-container-id-9 div.sk-parallel-item {display: flex;flex-direction: column;z-index: 1;position: relative;background-color: white;}#sk-container-id-9 div.sk-parallel-item:first-child::after {align-self: flex-end;width: 50%;}#sk-container-id-9 div.sk-parallel-item:last-child::after {align-self: flex-start;width: 50%;}#sk-container-id-9 div.sk-parallel-item:only-child::after {width: 0;}#sk-container-id-9 div.sk-dashed-wrapped {border: 1px dashed gray;margin: 0 0.4em 0.5em 0.4em;box-sizing: border-box;padding-bottom: 0.4em;background-color: white;}#sk-container-id-9 div.sk-label label {font-family: monospace;font-weight: bold;display: inline-block;line-height: 1.2em;}#sk-container-id-9 div.sk-label-container {text-align: center;}#sk-container-id-9 div.sk-container {/* jupyter's `normalize.less` sets `[hidden] { display: none; }` but bootstrap.min.css set `[hidden] { display: none !important; }` so we also need the `!important` here to be able to override the default hidden behavior on the sphinx rendered scikit-learn.org. See: https://github.com/scikit-learn/scikit-learn/issues/21755 */display: inline-block !important;position: relative;}#sk-container-id-9 div.sk-text-repr-fallback {display: none;}</style><div id=\"sk-container-id-9\" class=\"sk-top-container\"><div class=\"sk-text-repr-fallback\"><pre>MLPRegressor(hidden_layer_sizes=(4, 4), max_iter=1000)</pre><b>In a Jupyter environment, please rerun this cell to show the HTML representation or trust the notebook. <br />On GitHub, the HTML representation is unable to render, please try loading this page with nbviewer.org.</b></div><div class=\"sk-container\" hidden><div class=\"sk-item\"><div class=\"sk-estimator sk-toggleable\"><input class=\"sk-toggleable__control sk-hidden--visually\" id=\"sk-estimator-id-11\" type=\"checkbox\" checked><label for=\"sk-estimator-id-11\" class=\"sk-toggleable__label sk-toggleable__label-arrow\">MLPRegressor</label><div class=\"sk-toggleable__content\"><pre>MLPRegressor(hidden_layer_sizes=(4, 4), max_iter=1000)</pre></div></div></div></div></div>"
      ],
      "text/plain": [
       "MLPRegressor(hidden_layer_sizes=(4, 4), max_iter=1000)"
      ]
     },
     "execution_count": 136,
     "metadata": {},
     "output_type": "execute_result"
    }
   ],
   "source": [
    "regressor_rna.fit(X_train, y_train.ravel())"
   ]
  },
  {
   "cell_type": "markdown",
   "metadata": {},
   "source": [
    "#### Looking at our scores in the training base and in the test base, in the training base we have 64,90% of accuracy, it isn't a good number, when we look at the test base we have 67,18%."
   ]
  },
  {
   "cell_type": "code",
   "execution_count": 137,
   "metadata": {
    "execution": {
     "iopub.execute_input": "2023-01-23T17:42:03.10965Z",
     "iopub.status.busy": "2023-01-23T17:42:03.109191Z",
     "iopub.status.idle": "2023-01-23T17:42:03.116464Z",
     "shell.execute_reply": "2023-01-23T17:42:03.114947Z",
     "shell.execute_reply.started": "2023-01-23T17:42:03.10961Z"
    }
   },
   "outputs": [],
   "source": [
    "standard_rna = regressor_rna.score(X_train, y_train)"
   ]
  },
  {
   "cell_type": "code",
   "execution_count": 138,
   "metadata": {
    "execution": {
     "iopub.execute_input": "2023-01-23T17:42:04.030701Z",
     "iopub.status.busy": "2023-01-23T17:42:04.03025Z",
     "iopub.status.idle": "2023-01-23T17:42:04.039986Z",
     "shell.execute_reply": "2023-01-23T17:42:04.037958Z",
     "shell.execute_reply.started": "2023-01-23T17:42:04.030658Z"
    }
   },
   "outputs": [
    {
     "data": {
      "text/plain": [
       "0.6217119801827515"
      ]
     },
     "execution_count": 138,
     "metadata": {},
     "output_type": "execute_result"
    }
   ],
   "source": [
    "standard_rna"
   ]
  },
  {
   "cell_type": "code",
   "execution_count": 139,
   "metadata": {
    "execution": {
     "iopub.execute_input": "2023-01-23T17:42:04.656484Z",
     "iopub.status.busy": "2023-01-23T17:42:04.655742Z",
     "iopub.status.idle": "2023-01-23T17:42:04.662757Z",
     "shell.execute_reply": "2023-01-23T17:42:04.661788Z",
     "shell.execute_reply.started": "2023-01-23T17:42:04.656442Z"
    }
   },
   "outputs": [],
   "source": [
    "standard_rna_test = regressor_rna.score(X_test, y_test)"
   ]
  },
  {
   "cell_type": "code",
   "execution_count": 140,
   "metadata": {
    "execution": {
     "iopub.execute_input": "2023-01-23T17:42:05.236781Z",
     "iopub.status.busy": "2023-01-23T17:42:05.236016Z",
     "iopub.status.idle": "2023-01-23T17:42:05.243999Z",
     "shell.execute_reply": "2023-01-23T17:42:05.242651Z",
     "shell.execute_reply.started": "2023-01-23T17:42:05.23674Z"
    }
   },
   "outputs": [
    {
     "data": {
      "text/plain": [
       "0.6576272938005471"
      ]
     },
     "execution_count": 140,
     "metadata": {},
     "output_type": "execute_result"
    }
   ],
   "source": [
    "standard_rna_test"
   ]
  },
  {
   "cell_type": "markdown",
   "metadata": {},
   "source": [
    "#### Checking for Models errors."
   ]
  },
  {
   "cell_type": "code",
   "execution_count": 141,
   "metadata": {
    "execution": {
     "iopub.execute_input": "2023-01-23T18:30:22.619067Z",
     "iopub.status.busy": "2023-01-23T18:30:22.617991Z",
     "iopub.status.idle": "2023-01-23T18:30:22.624964Z",
     "shell.execute_reply": "2023-01-23T18:30:22.623559Z",
     "shell.execute_reply.started": "2023-01-23T18:30:22.619028Z"
    }
   },
   "outputs": [],
   "source": [
    "previsoes = regressor_rna.predict(X_test)"
   ]
  },
  {
   "cell_type": "code",
   "execution_count": 142,
   "metadata": {
    "execution": {
     "iopub.execute_input": "2023-01-23T18:30:22.864285Z",
     "iopub.status.busy": "2023-01-23T18:30:22.863619Z",
     "iopub.status.idle": "2023-01-23T18:30:22.870417Z",
     "shell.execute_reply": "2023-01-23T18:30:22.869037Z",
     "shell.execute_reply.started": "2023-01-23T18:30:22.864251Z"
    }
   },
   "outputs": [],
   "source": [
    "y_test_inverse = scaler.inverse_transform(y_test)\n",
    "previsoes_inverse = scaler.inverse_transform(previsoes.reshape(-1,1))"
   ]
  },
  {
   "cell_type": "markdown",
   "metadata": {},
   "source": [
    "#### Looking at our Mean Absolut Error metric, we have the number of 204722, which tells us that it can err 204722 up or down, and when we look at our Root Mean Square Error we get the number of 311564."
   ]
  },
  {
   "cell_type": "code",
   "execution_count": 143,
   "metadata": {
    "execution": {
     "iopub.execute_input": "2023-01-23T18:30:34.930779Z",
     "iopub.status.busy": "2023-01-23T18:30:34.930294Z",
     "iopub.status.idle": "2023-01-23T18:30:34.93631Z",
     "shell.execute_reply": "2023-01-23T18:30:34.935435Z",
     "shell.execute_reply.started": "2023-01-23T18:30:34.93073Z"
    }
   },
   "outputs": [],
   "source": [
    "mae_rna_standard = mean_absolute_error(y_test_inverse, previsoes_inverse)"
   ]
  },
  {
   "cell_type": "code",
   "execution_count": 144,
   "metadata": {
    "execution": {
     "iopub.execute_input": "2023-01-23T18:30:39.87753Z",
     "iopub.status.busy": "2023-01-23T18:30:39.877143Z",
     "iopub.status.idle": "2023-01-23T18:30:39.885092Z",
     "shell.execute_reply": "2023-01-23T18:30:39.883792Z",
     "shell.execute_reply.started": "2023-01-23T18:30:39.877501Z"
    }
   },
   "outputs": [
    {
     "data": {
      "text/plain": [
       "214448.25071108178"
      ]
     },
     "execution_count": 144,
     "metadata": {},
     "output_type": "execute_result"
    }
   ],
   "source": [
    "mae_rna_standard"
   ]
  },
  {
   "cell_type": "code",
   "execution_count": 145,
   "metadata": {
    "execution": {
     "iopub.execute_input": "2023-01-23T18:30:49.730722Z",
     "iopub.status.busy": "2023-01-23T18:30:49.7303Z",
     "iopub.status.idle": "2023-01-23T18:30:49.736811Z",
     "shell.execute_reply": "2023-01-23T18:30:49.735657Z",
     "shell.execute_reply.started": "2023-01-23T18:30:49.730689Z"
    }
   },
   "outputs": [],
   "source": [
    "rmse_rna_standard = np.sqrt(mean_squared_error(y_test_inverse, previsoes_inverse))"
   ]
  },
  {
   "cell_type": "code",
   "execution_count": 146,
   "metadata": {
    "execution": {
     "iopub.execute_input": "2023-01-23T18:30:52.319881Z",
     "iopub.status.busy": "2023-01-23T18:30:52.319444Z",
     "iopub.status.idle": "2023-01-23T18:30:52.327737Z",
     "shell.execute_reply": "2023-01-23T18:30:52.326524Z",
     "shell.execute_reply.started": "2023-01-23T18:30:52.319847Z"
    }
   },
   "outputs": [
    {
     "data": {
      "text/plain": [
       "318222.98797025444"
      ]
     },
     "execution_count": 146,
     "metadata": {},
     "output_type": "execute_result"
    }
   ],
   "source": [
    "rmse_rna_standard"
   ]
  },
  {
   "cell_type": "markdown",
   "metadata": {},
   "source": [
    "#### ADABoost"
   ]
  },
  {
   "cell_type": "code",
   "execution_count": 147,
   "metadata": {
    "execution": {
     "iopub.execute_input": "2023-01-23T17:42:06.308845Z",
     "iopub.status.busy": "2023-01-23T17:42:06.308424Z",
     "iopub.status.idle": "2023-01-23T17:42:06.315492Z",
     "shell.execute_reply": "2023-01-23T17:42:06.314049Z",
     "shell.execute_reply.started": "2023-01-23T17:42:06.308812Z"
    }
   },
   "outputs": [],
   "source": [
    "from sklearn.ensemble import AdaBoostRegressor"
   ]
  },
  {
   "cell_type": "markdown",
   "metadata": {},
   "source": [
    "#### Applying GridSearch"
   ]
  },
  {
   "cell_type": "markdown",
   "metadata": {},
   "source": [
    "#### Here we are applying GridSearch to check which are the best metrics to use."
   ]
  },
  {
   "cell_type": "code",
   "execution_count": 148,
   "metadata": {
    "execution": {
     "iopub.execute_input": "2023-01-23T17:42:07.716925Z",
     "iopub.status.busy": "2023-01-23T17:42:07.716454Z",
     "iopub.status.idle": "2023-01-23T17:42:07.72369Z",
     "shell.execute_reply": "2023-01-23T17:42:07.722414Z",
     "shell.execute_reply.started": "2023-01-23T17:42:07.716886Z"
    }
   },
   "outputs": [],
   "source": [
    "n_estimators = np.array([500])\n",
    "learning_rate = np.array([1.0, 1.1, 0.01, 0.2, 0.3, 0.4])\n",
    "values_grid = {'n_estimators': n_estimators, 'learning_rate': learning_rate}"
   ]
  },
  {
   "cell_type": "code",
   "execution_count": 149,
   "metadata": {
    "execution": {
     "iopub.execute_input": "2023-01-23T17:42:08.103344Z",
     "iopub.status.busy": "2023-01-23T17:42:08.102925Z",
     "iopub.status.idle": "2023-01-23T17:42:08.109314Z",
     "shell.execute_reply": "2023-01-23T17:42:08.107958Z",
     "shell.execute_reply.started": "2023-01-23T17:42:08.103311Z"
    }
   },
   "outputs": [],
   "source": [
    "model = AdaBoostRegressor()"
   ]
  },
  {
   "cell_type": "code",
   "execution_count": 150,
   "metadata": {
    "execution": {
     "iopub.execute_input": "2023-01-23T17:42:08.841097Z",
     "iopub.status.busy": "2023-01-23T17:42:08.840669Z",
     "iopub.status.idle": "2023-01-23T17:42:08.847235Z",
     "shell.execute_reply": "2023-01-23T17:42:08.845793Z",
     "shell.execute_reply.started": "2023-01-23T17:42:08.841062Z"
    }
   },
   "outputs": [],
   "source": [
    "gridAdaBoost = GridSearchCV(estimator = model, param_grid = values_grid, cv = 5, n_jobs = 1)"
   ]
  },
  {
   "cell_type": "code",
   "execution_count": 151,
   "metadata": {
    "execution": {
     "iopub.execute_input": "2023-01-23T17:42:09.368228Z",
     "iopub.status.busy": "2023-01-23T17:42:09.36778Z",
     "iopub.status.idle": "2023-01-23T17:42:23.964081Z",
     "shell.execute_reply": "2023-01-23T17:42:23.962898Z",
     "shell.execute_reply.started": "2023-01-23T17:42:09.368191Z"
    }
   },
   "outputs": [
    {
     "data": {
      "text/html": [
       "<style>#sk-container-id-10 {color: black;background-color: white;}#sk-container-id-10 pre{padding: 0;}#sk-container-id-10 div.sk-toggleable {background-color: white;}#sk-container-id-10 label.sk-toggleable__label {cursor: pointer;display: block;width: 100%;margin-bottom: 0;padding: 0.3em;box-sizing: border-box;text-align: center;}#sk-container-id-10 label.sk-toggleable__label-arrow:before {content: \"▸\";float: left;margin-right: 0.25em;color: #696969;}#sk-container-id-10 label.sk-toggleable__label-arrow:hover:before {color: black;}#sk-container-id-10 div.sk-estimator:hover label.sk-toggleable__label-arrow:before {color: black;}#sk-container-id-10 div.sk-toggleable__content {max-height: 0;max-width: 0;overflow: hidden;text-align: left;background-color: #f0f8ff;}#sk-container-id-10 div.sk-toggleable__content pre {margin: 0.2em;color: black;border-radius: 0.25em;background-color: #f0f8ff;}#sk-container-id-10 input.sk-toggleable__control:checked~div.sk-toggleable__content {max-height: 200px;max-width: 100%;overflow: auto;}#sk-container-id-10 input.sk-toggleable__control:checked~label.sk-toggleable__label-arrow:before {content: \"▾\";}#sk-container-id-10 div.sk-estimator input.sk-toggleable__control:checked~label.sk-toggleable__label {background-color: #d4ebff;}#sk-container-id-10 div.sk-label input.sk-toggleable__control:checked~label.sk-toggleable__label {background-color: #d4ebff;}#sk-container-id-10 input.sk-hidden--visually {border: 0;clip: rect(1px 1px 1px 1px);clip: rect(1px, 1px, 1px, 1px);height: 1px;margin: -1px;overflow: hidden;padding: 0;position: absolute;width: 1px;}#sk-container-id-10 div.sk-estimator {font-family: monospace;background-color: #f0f8ff;border: 1px dotted black;border-radius: 0.25em;box-sizing: border-box;margin-bottom: 0.5em;}#sk-container-id-10 div.sk-estimator:hover {background-color: #d4ebff;}#sk-container-id-10 div.sk-parallel-item::after {content: \"\";width: 100%;border-bottom: 1px solid gray;flex-grow: 1;}#sk-container-id-10 div.sk-label:hover label.sk-toggleable__label {background-color: #d4ebff;}#sk-container-id-10 div.sk-serial::before {content: \"\";position: absolute;border-left: 1px solid gray;box-sizing: border-box;top: 0;bottom: 0;left: 50%;z-index: 0;}#sk-container-id-10 div.sk-serial {display: flex;flex-direction: column;align-items: center;background-color: white;padding-right: 0.2em;padding-left: 0.2em;position: relative;}#sk-container-id-10 div.sk-item {position: relative;z-index: 1;}#sk-container-id-10 div.sk-parallel {display: flex;align-items: stretch;justify-content: center;background-color: white;position: relative;}#sk-container-id-10 div.sk-item::before, #sk-container-id-10 div.sk-parallel-item::before {content: \"\";position: absolute;border-left: 1px solid gray;box-sizing: border-box;top: 0;bottom: 0;left: 50%;z-index: -1;}#sk-container-id-10 div.sk-parallel-item {display: flex;flex-direction: column;z-index: 1;position: relative;background-color: white;}#sk-container-id-10 div.sk-parallel-item:first-child::after {align-self: flex-end;width: 50%;}#sk-container-id-10 div.sk-parallel-item:last-child::after {align-self: flex-start;width: 50%;}#sk-container-id-10 div.sk-parallel-item:only-child::after {width: 0;}#sk-container-id-10 div.sk-dashed-wrapped {border: 1px dashed gray;margin: 0 0.4em 0.5em 0.4em;box-sizing: border-box;padding-bottom: 0.4em;background-color: white;}#sk-container-id-10 div.sk-label label {font-family: monospace;font-weight: bold;display: inline-block;line-height: 1.2em;}#sk-container-id-10 div.sk-label-container {text-align: center;}#sk-container-id-10 div.sk-container {/* jupyter's `normalize.less` sets `[hidden] { display: none; }` but bootstrap.min.css set `[hidden] { display: none !important; }` so we also need the `!important` here to be able to override the default hidden behavior on the sphinx rendered scikit-learn.org. See: https://github.com/scikit-learn/scikit-learn/issues/21755 */display: inline-block !important;position: relative;}#sk-container-id-10 div.sk-text-repr-fallback {display: none;}</style><div id=\"sk-container-id-10\" class=\"sk-top-container\"><div class=\"sk-text-repr-fallback\"><pre>GridSearchCV(cv=5, estimator=AdaBoostRegressor(), n_jobs=1,\n",
       "             param_grid={&#x27;learning_rate&#x27;: array([1.  , 1.1 , 0.01, 0.2 , 0.3 , 0.4 ]),\n",
       "                         &#x27;n_estimators&#x27;: array([500])})</pre><b>In a Jupyter environment, please rerun this cell to show the HTML representation or trust the notebook. <br />On GitHub, the HTML representation is unable to render, please try loading this page with nbviewer.org.</b></div><div class=\"sk-container\" hidden><div class=\"sk-item sk-dashed-wrapped\"><div class=\"sk-label-container\"><div class=\"sk-label sk-toggleable\"><input class=\"sk-toggleable__control sk-hidden--visually\" id=\"sk-estimator-id-12\" type=\"checkbox\" ><label for=\"sk-estimator-id-12\" class=\"sk-toggleable__label sk-toggleable__label-arrow\">GridSearchCV</label><div class=\"sk-toggleable__content\"><pre>GridSearchCV(cv=5, estimator=AdaBoostRegressor(), n_jobs=1,\n",
       "             param_grid={&#x27;learning_rate&#x27;: array([1.  , 1.1 , 0.01, 0.2 , 0.3 , 0.4 ]),\n",
       "                         &#x27;n_estimators&#x27;: array([500])})</pre></div></div></div><div class=\"sk-parallel\"><div class=\"sk-parallel-item\"><div class=\"sk-item\"><div class=\"sk-label-container\"><div class=\"sk-label sk-toggleable\"><input class=\"sk-toggleable__control sk-hidden--visually\" id=\"sk-estimator-id-13\" type=\"checkbox\" ><label for=\"sk-estimator-id-13\" class=\"sk-toggleable__label sk-toggleable__label-arrow\">estimator: AdaBoostRegressor</label><div class=\"sk-toggleable__content\"><pre>AdaBoostRegressor()</pre></div></div></div><div class=\"sk-serial\"><div class=\"sk-item\"><div class=\"sk-estimator sk-toggleable\"><input class=\"sk-toggleable__control sk-hidden--visually\" id=\"sk-estimator-id-14\" type=\"checkbox\" ><label for=\"sk-estimator-id-14\" class=\"sk-toggleable__label sk-toggleable__label-arrow\">AdaBoostRegressor</label><div class=\"sk-toggleable__content\"><pre>AdaBoostRegressor()</pre></div></div></div></div></div></div></div></div></div></div>"
      ],
      "text/plain": [
       "GridSearchCV(cv=5, estimator=AdaBoostRegressor(), n_jobs=1,\n",
       "             param_grid={'learning_rate': array([1.  , 1.1 , 0.01, 0.2 , 0.3 , 0.4 ]),\n",
       "                         'n_estimators': array([500])})"
      ]
     },
     "execution_count": 151,
     "metadata": {},
     "output_type": "execute_result"
    }
   ],
   "source": [
    "gridAdaBoost.fit(X_train, y_train.ravel())"
   ]
  },
  {
   "cell_type": "markdown",
   "metadata": {},
   "source": [
    "#### AdaBoost - Grid"
   ]
  },
  {
   "cell_type": "code",
   "execution_count": 152,
   "metadata": {
    "execution": {
     "iopub.execute_input": "2023-01-23T17:43:08.261318Z",
     "iopub.status.busy": "2023-01-23T17:43:08.260818Z",
     "iopub.status.idle": "2023-01-23T17:43:08.268739Z",
     "shell.execute_reply": "2023-01-23T17:43:08.267064Z",
     "shell.execute_reply.started": "2023-01-23T17:43:08.261282Z"
    }
   },
   "outputs": [
    {
     "name": "stdout",
     "output_type": "stream",
     "text": [
      "Learning Rate:  0.01\n",
      "Score:  0.5388290377417627\n"
     ]
    }
   ],
   "source": [
    "print('Learning Rate: ', gridAdaBoost.best_estimator_.learning_rate)\n",
    "print('Score: ', gridAdaBoost.best_score_)"
   ]
  },
  {
   "cell_type": "markdown",
   "metadata": {},
   "source": [
    "#### Running the Model"
   ]
  },
  {
   "cell_type": "code",
   "execution_count": 153,
   "metadata": {
    "execution": {
     "iopub.execute_input": "2023-01-23T18:32:15.209087Z",
     "iopub.status.busy": "2023-01-23T18:32:15.208638Z",
     "iopub.status.idle": "2023-01-23T18:32:15.215121Z",
     "shell.execute_reply": "2023-01-23T18:32:15.213793Z",
     "shell.execute_reply.started": "2023-01-23T18:32:15.209052Z"
    }
   },
   "outputs": [],
   "source": [
    "ada_boost = AdaBoostRegressor(learning_rate = 0.01, n_estimators = 500)"
   ]
  },
  {
   "cell_type": "code",
   "execution_count": 154,
   "metadata": {
    "execution": {
     "iopub.execute_input": "2023-01-23T18:32:20.666756Z",
     "iopub.status.busy": "2023-01-23T18:32:20.665737Z",
     "iopub.status.idle": "2023-01-23T18:32:21.926489Z",
     "shell.execute_reply": "2023-01-23T18:32:21.92538Z",
     "shell.execute_reply.started": "2023-01-23T18:32:20.666693Z"
    }
   },
   "outputs": [
    {
     "data": {
      "text/html": [
       "<style>#sk-container-id-11 {color: black;background-color: white;}#sk-container-id-11 pre{padding: 0;}#sk-container-id-11 div.sk-toggleable {background-color: white;}#sk-container-id-11 label.sk-toggleable__label {cursor: pointer;display: block;width: 100%;margin-bottom: 0;padding: 0.3em;box-sizing: border-box;text-align: center;}#sk-container-id-11 label.sk-toggleable__label-arrow:before {content: \"▸\";float: left;margin-right: 0.25em;color: #696969;}#sk-container-id-11 label.sk-toggleable__label-arrow:hover:before {color: black;}#sk-container-id-11 div.sk-estimator:hover label.sk-toggleable__label-arrow:before {color: black;}#sk-container-id-11 div.sk-toggleable__content {max-height: 0;max-width: 0;overflow: hidden;text-align: left;background-color: #f0f8ff;}#sk-container-id-11 div.sk-toggleable__content pre {margin: 0.2em;color: black;border-radius: 0.25em;background-color: #f0f8ff;}#sk-container-id-11 input.sk-toggleable__control:checked~div.sk-toggleable__content {max-height: 200px;max-width: 100%;overflow: auto;}#sk-container-id-11 input.sk-toggleable__control:checked~label.sk-toggleable__label-arrow:before {content: \"▾\";}#sk-container-id-11 div.sk-estimator input.sk-toggleable__control:checked~label.sk-toggleable__label {background-color: #d4ebff;}#sk-container-id-11 div.sk-label input.sk-toggleable__control:checked~label.sk-toggleable__label {background-color: #d4ebff;}#sk-container-id-11 input.sk-hidden--visually {border: 0;clip: rect(1px 1px 1px 1px);clip: rect(1px, 1px, 1px, 1px);height: 1px;margin: -1px;overflow: hidden;padding: 0;position: absolute;width: 1px;}#sk-container-id-11 div.sk-estimator {font-family: monospace;background-color: #f0f8ff;border: 1px dotted black;border-radius: 0.25em;box-sizing: border-box;margin-bottom: 0.5em;}#sk-container-id-11 div.sk-estimator:hover {background-color: #d4ebff;}#sk-container-id-11 div.sk-parallel-item::after {content: \"\";width: 100%;border-bottom: 1px solid gray;flex-grow: 1;}#sk-container-id-11 div.sk-label:hover label.sk-toggleable__label {background-color: #d4ebff;}#sk-container-id-11 div.sk-serial::before {content: \"\";position: absolute;border-left: 1px solid gray;box-sizing: border-box;top: 0;bottom: 0;left: 50%;z-index: 0;}#sk-container-id-11 div.sk-serial {display: flex;flex-direction: column;align-items: center;background-color: white;padding-right: 0.2em;padding-left: 0.2em;position: relative;}#sk-container-id-11 div.sk-item {position: relative;z-index: 1;}#sk-container-id-11 div.sk-parallel {display: flex;align-items: stretch;justify-content: center;background-color: white;position: relative;}#sk-container-id-11 div.sk-item::before, #sk-container-id-11 div.sk-parallel-item::before {content: \"\";position: absolute;border-left: 1px solid gray;box-sizing: border-box;top: 0;bottom: 0;left: 50%;z-index: -1;}#sk-container-id-11 div.sk-parallel-item {display: flex;flex-direction: column;z-index: 1;position: relative;background-color: white;}#sk-container-id-11 div.sk-parallel-item:first-child::after {align-self: flex-end;width: 50%;}#sk-container-id-11 div.sk-parallel-item:last-child::after {align-self: flex-start;width: 50%;}#sk-container-id-11 div.sk-parallel-item:only-child::after {width: 0;}#sk-container-id-11 div.sk-dashed-wrapped {border: 1px dashed gray;margin: 0 0.4em 0.5em 0.4em;box-sizing: border-box;padding-bottom: 0.4em;background-color: white;}#sk-container-id-11 div.sk-label label {font-family: monospace;font-weight: bold;display: inline-block;line-height: 1.2em;}#sk-container-id-11 div.sk-label-container {text-align: center;}#sk-container-id-11 div.sk-container {/* jupyter's `normalize.less` sets `[hidden] { display: none; }` but bootstrap.min.css set `[hidden] { display: none !important; }` so we also need the `!important` here to be able to override the default hidden behavior on the sphinx rendered scikit-learn.org. See: https://github.com/scikit-learn/scikit-learn/issues/21755 */display: inline-block !important;position: relative;}#sk-container-id-11 div.sk-text-repr-fallback {display: none;}</style><div id=\"sk-container-id-11\" class=\"sk-top-container\"><div class=\"sk-text-repr-fallback\"><pre>AdaBoostRegressor(learning_rate=0.01, n_estimators=500)</pre><b>In a Jupyter environment, please rerun this cell to show the HTML representation or trust the notebook. <br />On GitHub, the HTML representation is unable to render, please try loading this page with nbviewer.org.</b></div><div class=\"sk-container\" hidden><div class=\"sk-item\"><div class=\"sk-estimator sk-toggleable\"><input class=\"sk-toggleable__control sk-hidden--visually\" id=\"sk-estimator-id-15\" type=\"checkbox\" checked><label for=\"sk-estimator-id-15\" class=\"sk-toggleable__label sk-toggleable__label-arrow\">AdaBoostRegressor</label><div class=\"sk-toggleable__content\"><pre>AdaBoostRegressor(learning_rate=0.01, n_estimators=500)</pre></div></div></div></div></div>"
      ],
      "text/plain": [
       "AdaBoostRegressor(learning_rate=0.01, n_estimators=500)"
      ]
     },
     "execution_count": 154,
     "metadata": {},
     "output_type": "execute_result"
    }
   ],
   "source": [
    "ada_boost.fit(X_train, y_train.ravel())"
   ]
  },
  {
   "cell_type": "markdown",
   "metadata": {},
   "source": [
    "#### Looking at our scores in the training base and in the test base, in the training base we have 64,69% of accuracy, it isn't a good number, when we look at the test base we have 62,45%."
   ]
  },
  {
   "cell_type": "code",
   "execution_count": 155,
   "metadata": {
    "execution": {
     "iopub.execute_input": "2023-01-23T18:32:36.22131Z",
     "iopub.status.busy": "2023-01-23T18:32:36.220869Z",
     "iopub.status.idle": "2023-01-23T18:32:36.331937Z",
     "shell.execute_reply": "2023-01-23T18:32:36.330098Z",
     "shell.execute_reply.started": "2023-01-23T18:32:36.221274Z"
    }
   },
   "outputs": [],
   "source": [
    "lr_normal_ada_boost = ada_boost.score(X_train, y_train)"
   ]
  },
  {
   "cell_type": "code",
   "execution_count": 156,
   "metadata": {
    "execution": {
     "iopub.execute_input": "2023-01-23T18:32:39.645944Z",
     "iopub.status.busy": "2023-01-23T18:32:39.645489Z",
     "iopub.status.idle": "2023-01-23T18:32:39.652292Z",
     "shell.execute_reply": "2023-01-23T18:32:39.651322Z",
     "shell.execute_reply.started": "2023-01-23T18:32:39.645908Z"
    }
   },
   "outputs": [
    {
     "data": {
      "text/plain": [
       "0.6450889415462248"
      ]
     },
     "execution_count": 156,
     "metadata": {},
     "output_type": "execute_result"
    }
   ],
   "source": [
    "lr_normal_ada_boost"
   ]
  },
  {
   "cell_type": "code",
   "execution_count": 157,
   "metadata": {
    "execution": {
     "iopub.execute_input": "2023-01-23T18:32:48.65272Z",
     "iopub.status.busy": "2023-01-23T18:32:48.652016Z",
     "iopub.status.idle": "2023-01-23T18:32:48.720621Z",
     "shell.execute_reply": "2023-01-23T18:32:48.719406Z",
     "shell.execute_reply.started": "2023-01-23T18:32:48.652667Z"
    }
   },
   "outputs": [],
   "source": [
    "lr_normal_ada_boost_test = ada_boost.score(X_test, y_test)"
   ]
  },
  {
   "cell_type": "code",
   "execution_count": 158,
   "metadata": {
    "execution": {
     "iopub.execute_input": "2023-01-23T18:32:50.830929Z",
     "iopub.status.busy": "2023-01-23T18:32:50.830483Z",
     "iopub.status.idle": "2023-01-23T18:32:50.837868Z",
     "shell.execute_reply": "2023-01-23T18:32:50.836667Z",
     "shell.execute_reply.started": "2023-01-23T18:32:50.830896Z"
    }
   },
   "outputs": [
    {
     "data": {
      "text/plain": [
       "0.6211056170000293"
      ]
     },
     "execution_count": 158,
     "metadata": {},
     "output_type": "execute_result"
    }
   ],
   "source": [
    "lr_normal_ada_boost_test"
   ]
  },
  {
   "cell_type": "markdown",
   "metadata": {},
   "source": [
    "#### Checking for Models errors."
   ]
  },
  {
   "cell_type": "code",
   "execution_count": 159,
   "metadata": {
    "execution": {
     "iopub.execute_input": "2023-01-23T18:34:03.74031Z",
     "iopub.status.busy": "2023-01-23T18:34:03.739873Z",
     "iopub.status.idle": "2023-01-23T18:34:03.808825Z",
     "shell.execute_reply": "2023-01-23T18:34:03.807665Z",
     "shell.execute_reply.started": "2023-01-23T18:34:03.740278Z"
    }
   },
   "outputs": [],
   "source": [
    "previsoes = ada_boost.predict(X_test)"
   ]
  },
  {
   "cell_type": "code",
   "execution_count": 160,
   "metadata": {
    "execution": {
     "iopub.execute_input": "2023-01-23T18:34:12.610782Z",
     "iopub.status.busy": "2023-01-23T18:34:12.610311Z",
     "iopub.status.idle": "2023-01-23T18:34:12.616798Z",
     "shell.execute_reply": "2023-01-23T18:34:12.615975Z",
     "shell.execute_reply.started": "2023-01-23T18:34:12.610744Z"
    }
   },
   "outputs": [],
   "source": [
    "y_test_inverse = scaler.inverse_transform(y_test)\n",
    "previsoes_inverse = scaler.inverse_transform(previsoes.reshape(-1,1))"
   ]
  },
  {
   "cell_type": "markdown",
   "metadata": {},
   "source": [
    "#### Looking at our Mean Absolut Error metric, we have the number of 234107, which tells us that it can err 234107 up or down, and when we look at our Root Mean Square Error we get the number of 333238."
   ]
  },
  {
   "cell_type": "code",
   "execution_count": 161,
   "metadata": {
    "execution": {
     "iopub.execute_input": "2023-01-23T18:34:23.547422Z",
     "iopub.status.busy": "2023-01-23T18:34:23.546173Z",
     "iopub.status.idle": "2023-01-23T18:34:23.553209Z",
     "shell.execute_reply": "2023-01-23T18:34:23.552314Z",
     "shell.execute_reply.started": "2023-01-23T18:34:23.54737Z"
    }
   },
   "outputs": [],
   "source": [
    "mae_lr_normal_ada_boost  = mean_absolute_error(y_test_inverse, previsoes_inverse)"
   ]
  },
  {
   "cell_type": "code",
   "execution_count": 162,
   "metadata": {
    "execution": {
     "iopub.execute_input": "2023-01-23T18:34:25.5586Z",
     "iopub.status.busy": "2023-01-23T18:34:25.557731Z",
     "iopub.status.idle": "2023-01-23T18:34:25.56624Z",
     "shell.execute_reply": "2023-01-23T18:34:25.565152Z",
     "shell.execute_reply.started": "2023-01-23T18:34:25.558542Z"
    }
   },
   "outputs": [
    {
     "data": {
      "text/plain": [
       "235421.96390271327"
      ]
     },
     "execution_count": 162,
     "metadata": {},
     "output_type": "execute_result"
    }
   ],
   "source": [
    "mae_lr_normal_ada_boost"
   ]
  },
  {
   "cell_type": "code",
   "execution_count": 163,
   "metadata": {
    "execution": {
     "iopub.execute_input": "2023-01-23T18:34:38.529037Z",
     "iopub.status.busy": "2023-01-23T18:34:38.528531Z",
     "iopub.status.idle": "2023-01-23T18:34:38.534568Z",
     "shell.execute_reply": "2023-01-23T18:34:38.533661Z",
     "shell.execute_reply.started": "2023-01-23T18:34:38.529Z"
    }
   },
   "outputs": [],
   "source": [
    "rmse_ada_boost = np.sqrt(mean_squared_error(y_test_inverse, previsoes_inverse))"
   ]
  },
  {
   "cell_type": "code",
   "execution_count": 164,
   "metadata": {
    "execution": {
     "iopub.execute_input": "2023-01-23T18:34:44.588811Z",
     "iopub.status.busy": "2023-01-23T18:34:44.58789Z",
     "iopub.status.idle": "2023-01-23T18:34:44.596473Z",
     "shell.execute_reply": "2023-01-23T18:34:44.595384Z",
     "shell.execute_reply.started": "2023-01-23T18:34:44.588776Z"
    }
   },
   "outputs": [
    {
     "data": {
      "text/plain": [
       "334765.7855983728"
      ]
     },
     "execution_count": 164,
     "metadata": {},
     "output_type": "execute_result"
    }
   ],
   "source": [
    "rmse_ada_boost"
   ]
  },
  {
   "cell_type": "markdown",
   "metadata": {},
   "source": [
    "#### Gradient Boosting"
   ]
  },
  {
   "cell_type": "code",
   "execution_count": 165,
   "metadata": {
    "execution": {
     "iopub.execute_input": "2023-01-23T17:43:09.526615Z",
     "iopub.status.busy": "2023-01-23T17:43:09.525935Z",
     "iopub.status.idle": "2023-01-23T17:43:09.531283Z",
     "shell.execute_reply": "2023-01-23T17:43:09.530427Z",
     "shell.execute_reply.started": "2023-01-23T17:43:09.526555Z"
    }
   },
   "outputs": [],
   "source": [
    "from sklearn.ensemble import GradientBoostingRegressor"
   ]
  },
  {
   "cell_type": "markdown",
   "metadata": {},
   "source": [
    "#### Applying GridSearch"
   ]
  },
  {
   "cell_type": "markdown",
   "metadata": {},
   "source": [
    "#### Here we are applying GridSearch to check which are the best metrics to use."
   ]
  },
  {
   "cell_type": "code",
   "execution_count": 166,
   "metadata": {
    "execution": {
     "iopub.execute_input": "2023-01-23T17:43:10.376309Z",
     "iopub.status.busy": "2023-01-23T17:43:10.375604Z",
     "iopub.status.idle": "2023-01-23T17:43:10.383175Z",
     "shell.execute_reply": "2023-01-23T17:43:10.382013Z",
     "shell.execute_reply.started": "2023-01-23T17:43:10.376257Z"
    }
   },
   "outputs": [],
   "source": [
    "n_estimators = np.array([500])\n",
    "learning_rate = np.array([1.0, 1.1, 1.5, 1.7, 0.5, 0.4])\n",
    "criterion = np.array(['friedman_mse', 'squared_error'])\n",
    "values_grid = {'n_estimators': n_estimators, 'learning_rate': learning_rate, 'criterion': criterion}"
   ]
  },
  {
   "cell_type": "code",
   "execution_count": 167,
   "metadata": {
    "execution": {
     "iopub.execute_input": "2023-01-23T17:43:11.151248Z",
     "iopub.status.busy": "2023-01-23T17:43:11.150256Z",
     "iopub.status.idle": "2023-01-23T17:43:11.156346Z",
     "shell.execute_reply": "2023-01-23T17:43:11.154978Z",
     "shell.execute_reply.started": "2023-01-23T17:43:11.151209Z"
    }
   },
   "outputs": [],
   "source": [
    "model = GradientBoostingRegressor()"
   ]
  },
  {
   "cell_type": "code",
   "execution_count": 168,
   "metadata": {
    "execution": {
     "iopub.execute_input": "2023-01-23T17:43:11.528917Z",
     "iopub.status.busy": "2023-01-23T17:43:11.528463Z",
     "iopub.status.idle": "2023-01-23T17:43:11.534309Z",
     "shell.execute_reply": "2023-01-23T17:43:11.533404Z",
     "shell.execute_reply.started": "2023-01-23T17:43:11.528883Z"
    }
   },
   "outputs": [],
   "source": [
    "gridGradientBoost = GridSearchCV(estimator = model, param_grid = values_grid, cv = 5, n_jobs = 1)"
   ]
  },
  {
   "cell_type": "code",
   "execution_count": 169,
   "metadata": {
    "execution": {
     "iopub.execute_input": "2023-01-23T17:43:12.374416Z",
     "iopub.status.busy": "2023-01-23T17:43:12.373779Z",
     "iopub.status.idle": "2023-01-23T17:43:46.488839Z",
     "shell.execute_reply": "2023-01-23T17:43:46.487416Z",
     "shell.execute_reply.started": "2023-01-23T17:43:12.374378Z"
    }
   },
   "outputs": [
    {
     "data": {
      "text/html": [
       "<style>#sk-container-id-12 {color: black;background-color: white;}#sk-container-id-12 pre{padding: 0;}#sk-container-id-12 div.sk-toggleable {background-color: white;}#sk-container-id-12 label.sk-toggleable__label {cursor: pointer;display: block;width: 100%;margin-bottom: 0;padding: 0.3em;box-sizing: border-box;text-align: center;}#sk-container-id-12 label.sk-toggleable__label-arrow:before {content: \"▸\";float: left;margin-right: 0.25em;color: #696969;}#sk-container-id-12 label.sk-toggleable__label-arrow:hover:before {color: black;}#sk-container-id-12 div.sk-estimator:hover label.sk-toggleable__label-arrow:before {color: black;}#sk-container-id-12 div.sk-toggleable__content {max-height: 0;max-width: 0;overflow: hidden;text-align: left;background-color: #f0f8ff;}#sk-container-id-12 div.sk-toggleable__content pre {margin: 0.2em;color: black;border-radius: 0.25em;background-color: #f0f8ff;}#sk-container-id-12 input.sk-toggleable__control:checked~div.sk-toggleable__content {max-height: 200px;max-width: 100%;overflow: auto;}#sk-container-id-12 input.sk-toggleable__control:checked~label.sk-toggleable__label-arrow:before {content: \"▾\";}#sk-container-id-12 div.sk-estimator input.sk-toggleable__control:checked~label.sk-toggleable__label {background-color: #d4ebff;}#sk-container-id-12 div.sk-label input.sk-toggleable__control:checked~label.sk-toggleable__label {background-color: #d4ebff;}#sk-container-id-12 input.sk-hidden--visually {border: 0;clip: rect(1px 1px 1px 1px);clip: rect(1px, 1px, 1px, 1px);height: 1px;margin: -1px;overflow: hidden;padding: 0;position: absolute;width: 1px;}#sk-container-id-12 div.sk-estimator {font-family: monospace;background-color: #f0f8ff;border: 1px dotted black;border-radius: 0.25em;box-sizing: border-box;margin-bottom: 0.5em;}#sk-container-id-12 div.sk-estimator:hover {background-color: #d4ebff;}#sk-container-id-12 div.sk-parallel-item::after {content: \"\";width: 100%;border-bottom: 1px solid gray;flex-grow: 1;}#sk-container-id-12 div.sk-label:hover label.sk-toggleable__label {background-color: #d4ebff;}#sk-container-id-12 div.sk-serial::before {content: \"\";position: absolute;border-left: 1px solid gray;box-sizing: border-box;top: 0;bottom: 0;left: 50%;z-index: 0;}#sk-container-id-12 div.sk-serial {display: flex;flex-direction: column;align-items: center;background-color: white;padding-right: 0.2em;padding-left: 0.2em;position: relative;}#sk-container-id-12 div.sk-item {position: relative;z-index: 1;}#sk-container-id-12 div.sk-parallel {display: flex;align-items: stretch;justify-content: center;background-color: white;position: relative;}#sk-container-id-12 div.sk-item::before, #sk-container-id-12 div.sk-parallel-item::before {content: \"\";position: absolute;border-left: 1px solid gray;box-sizing: border-box;top: 0;bottom: 0;left: 50%;z-index: -1;}#sk-container-id-12 div.sk-parallel-item {display: flex;flex-direction: column;z-index: 1;position: relative;background-color: white;}#sk-container-id-12 div.sk-parallel-item:first-child::after {align-self: flex-end;width: 50%;}#sk-container-id-12 div.sk-parallel-item:last-child::after {align-self: flex-start;width: 50%;}#sk-container-id-12 div.sk-parallel-item:only-child::after {width: 0;}#sk-container-id-12 div.sk-dashed-wrapped {border: 1px dashed gray;margin: 0 0.4em 0.5em 0.4em;box-sizing: border-box;padding-bottom: 0.4em;background-color: white;}#sk-container-id-12 div.sk-label label {font-family: monospace;font-weight: bold;display: inline-block;line-height: 1.2em;}#sk-container-id-12 div.sk-label-container {text-align: center;}#sk-container-id-12 div.sk-container {/* jupyter's `normalize.less` sets `[hidden] { display: none; }` but bootstrap.min.css set `[hidden] { display: none !important; }` so we also need the `!important` here to be able to override the default hidden behavior on the sphinx rendered scikit-learn.org. See: https://github.com/scikit-learn/scikit-learn/issues/21755 */display: inline-block !important;position: relative;}#sk-container-id-12 div.sk-text-repr-fallback {display: none;}</style><div id=\"sk-container-id-12\" class=\"sk-top-container\"><div class=\"sk-text-repr-fallback\"><pre>GridSearchCV(cv=5, estimator=GradientBoostingRegressor(), n_jobs=1,\n",
       "             param_grid={&#x27;criterion&#x27;: array([&#x27;friedman_mse&#x27;, &#x27;squared_error&#x27;], dtype=&#x27;&lt;U13&#x27;),\n",
       "                         &#x27;learning_rate&#x27;: array([1. , 1.1, 1.5, 1.7, 0.5, 0.4]),\n",
       "                         &#x27;n_estimators&#x27;: array([500])})</pre><b>In a Jupyter environment, please rerun this cell to show the HTML representation or trust the notebook. <br />On GitHub, the HTML representation is unable to render, please try loading this page with nbviewer.org.</b></div><div class=\"sk-container\" hidden><div class=\"sk-item sk-dashed-wrapped\"><div class=\"sk-label-container\"><div class=\"sk-label sk-toggleable\"><input class=\"sk-toggleable__control sk-hidden--visually\" id=\"sk-estimator-id-16\" type=\"checkbox\" ><label for=\"sk-estimator-id-16\" class=\"sk-toggleable__label sk-toggleable__label-arrow\">GridSearchCV</label><div class=\"sk-toggleable__content\"><pre>GridSearchCV(cv=5, estimator=GradientBoostingRegressor(), n_jobs=1,\n",
       "             param_grid={&#x27;criterion&#x27;: array([&#x27;friedman_mse&#x27;, &#x27;squared_error&#x27;], dtype=&#x27;&lt;U13&#x27;),\n",
       "                         &#x27;learning_rate&#x27;: array([1. , 1.1, 1.5, 1.7, 0.5, 0.4]),\n",
       "                         &#x27;n_estimators&#x27;: array([500])})</pre></div></div></div><div class=\"sk-parallel\"><div class=\"sk-parallel-item\"><div class=\"sk-item\"><div class=\"sk-label-container\"><div class=\"sk-label sk-toggleable\"><input class=\"sk-toggleable__control sk-hidden--visually\" id=\"sk-estimator-id-17\" type=\"checkbox\" ><label for=\"sk-estimator-id-17\" class=\"sk-toggleable__label sk-toggleable__label-arrow\">estimator: GradientBoostingRegressor</label><div class=\"sk-toggleable__content\"><pre>GradientBoostingRegressor()</pre></div></div></div><div class=\"sk-serial\"><div class=\"sk-item\"><div class=\"sk-estimator sk-toggleable\"><input class=\"sk-toggleable__control sk-hidden--visually\" id=\"sk-estimator-id-18\" type=\"checkbox\" ><label for=\"sk-estimator-id-18\" class=\"sk-toggleable__label sk-toggleable__label-arrow\">GradientBoostingRegressor</label><div class=\"sk-toggleable__content\"><pre>GradientBoostingRegressor()</pre></div></div></div></div></div></div></div></div></div></div>"
      ],
      "text/plain": [
       "GridSearchCV(cv=5, estimator=GradientBoostingRegressor(), n_jobs=1,\n",
       "             param_grid={'criterion': array(['friedman_mse', 'squared_error'], dtype='<U13'),\n",
       "                         'learning_rate': array([1. , 1.1, 1.5, 1.7, 0.5, 0.4]),\n",
       "                         'n_estimators': array([500])})"
      ]
     },
     "execution_count": 169,
     "metadata": {},
     "output_type": "execute_result"
    }
   ],
   "source": [
    "gridGradientBoost.fit(X_train, y_train.ravel())"
   ]
  },
  {
   "cell_type": "markdown",
   "metadata": {},
   "source": [
    "#### Grid - Gradient Boosting"
   ]
  },
  {
   "cell_type": "code",
   "execution_count": 170,
   "metadata": {
    "execution": {
     "iopub.execute_input": "2023-01-23T17:43:46.491473Z",
     "iopub.status.busy": "2023-01-23T17:43:46.491011Z",
     "iopub.status.idle": "2023-01-23T17:43:46.498281Z",
     "shell.execute_reply": "2023-01-23T17:43:46.496953Z",
     "shell.execute_reply.started": "2023-01-23T17:43:46.491439Z"
    }
   },
   "outputs": [
    {
     "name": "stdout",
     "output_type": "stream",
     "text": [
      "Learning Rate:  0.4\n",
      "Criterion:  friedman_mse\n",
      "Score:  0.5710909880133047\n"
     ]
    }
   ],
   "source": [
    "print('Learning Rate: ', gridGradientBoost.best_estimator_.learning_rate)\n",
    "print('Criterion: ', gridGradientBoost.best_estimator_.criterion)\n",
    "print('Score: ', gridGradientBoost.best_score_)"
   ]
  },
  {
   "cell_type": "markdown",
   "metadata": {},
   "source": [
    "#### Running the Model"
   ]
  },
  {
   "cell_type": "code",
   "execution_count": 171,
   "metadata": {
    "execution": {
     "iopub.execute_input": "2023-01-23T18:36:04.349664Z",
     "iopub.status.busy": "2023-01-23T18:36:04.349153Z",
     "iopub.status.idle": "2023-01-23T18:36:04.355975Z",
     "shell.execute_reply": "2023-01-23T18:36:04.35461Z",
     "shell.execute_reply.started": "2023-01-23T18:36:04.349619Z"
    }
   },
   "outputs": [],
   "source": [
    "grad_boost = GradientBoostingRegressor(learning_rate = 0.4, n_estimators = 500, criterion = 'friedman_mse')"
   ]
  },
  {
   "cell_type": "code",
   "execution_count": 172,
   "metadata": {
    "execution": {
     "iopub.execute_input": "2023-01-23T18:36:14.50877Z",
     "iopub.status.busy": "2023-01-23T18:36:14.508348Z",
     "iopub.status.idle": "2023-01-23T18:36:15.155845Z",
     "shell.execute_reply": "2023-01-23T18:36:15.154703Z",
     "shell.execute_reply.started": "2023-01-23T18:36:14.508737Z"
    }
   },
   "outputs": [
    {
     "data": {
      "text/html": [
       "<style>#sk-container-id-13 {color: black;background-color: white;}#sk-container-id-13 pre{padding: 0;}#sk-container-id-13 div.sk-toggleable {background-color: white;}#sk-container-id-13 label.sk-toggleable__label {cursor: pointer;display: block;width: 100%;margin-bottom: 0;padding: 0.3em;box-sizing: border-box;text-align: center;}#sk-container-id-13 label.sk-toggleable__label-arrow:before {content: \"▸\";float: left;margin-right: 0.25em;color: #696969;}#sk-container-id-13 label.sk-toggleable__label-arrow:hover:before {color: black;}#sk-container-id-13 div.sk-estimator:hover label.sk-toggleable__label-arrow:before {color: black;}#sk-container-id-13 div.sk-toggleable__content {max-height: 0;max-width: 0;overflow: hidden;text-align: left;background-color: #f0f8ff;}#sk-container-id-13 div.sk-toggleable__content pre {margin: 0.2em;color: black;border-radius: 0.25em;background-color: #f0f8ff;}#sk-container-id-13 input.sk-toggleable__control:checked~div.sk-toggleable__content {max-height: 200px;max-width: 100%;overflow: auto;}#sk-container-id-13 input.sk-toggleable__control:checked~label.sk-toggleable__label-arrow:before {content: \"▾\";}#sk-container-id-13 div.sk-estimator input.sk-toggleable__control:checked~label.sk-toggleable__label {background-color: #d4ebff;}#sk-container-id-13 div.sk-label input.sk-toggleable__control:checked~label.sk-toggleable__label {background-color: #d4ebff;}#sk-container-id-13 input.sk-hidden--visually {border: 0;clip: rect(1px 1px 1px 1px);clip: rect(1px, 1px, 1px, 1px);height: 1px;margin: -1px;overflow: hidden;padding: 0;position: absolute;width: 1px;}#sk-container-id-13 div.sk-estimator {font-family: monospace;background-color: #f0f8ff;border: 1px dotted black;border-radius: 0.25em;box-sizing: border-box;margin-bottom: 0.5em;}#sk-container-id-13 div.sk-estimator:hover {background-color: #d4ebff;}#sk-container-id-13 div.sk-parallel-item::after {content: \"\";width: 100%;border-bottom: 1px solid gray;flex-grow: 1;}#sk-container-id-13 div.sk-label:hover label.sk-toggleable__label {background-color: #d4ebff;}#sk-container-id-13 div.sk-serial::before {content: \"\";position: absolute;border-left: 1px solid gray;box-sizing: border-box;top: 0;bottom: 0;left: 50%;z-index: 0;}#sk-container-id-13 div.sk-serial {display: flex;flex-direction: column;align-items: center;background-color: white;padding-right: 0.2em;padding-left: 0.2em;position: relative;}#sk-container-id-13 div.sk-item {position: relative;z-index: 1;}#sk-container-id-13 div.sk-parallel {display: flex;align-items: stretch;justify-content: center;background-color: white;position: relative;}#sk-container-id-13 div.sk-item::before, #sk-container-id-13 div.sk-parallel-item::before {content: \"\";position: absolute;border-left: 1px solid gray;box-sizing: border-box;top: 0;bottom: 0;left: 50%;z-index: -1;}#sk-container-id-13 div.sk-parallel-item {display: flex;flex-direction: column;z-index: 1;position: relative;background-color: white;}#sk-container-id-13 div.sk-parallel-item:first-child::after {align-self: flex-end;width: 50%;}#sk-container-id-13 div.sk-parallel-item:last-child::after {align-self: flex-start;width: 50%;}#sk-container-id-13 div.sk-parallel-item:only-child::after {width: 0;}#sk-container-id-13 div.sk-dashed-wrapped {border: 1px dashed gray;margin: 0 0.4em 0.5em 0.4em;box-sizing: border-box;padding-bottom: 0.4em;background-color: white;}#sk-container-id-13 div.sk-label label {font-family: monospace;font-weight: bold;display: inline-block;line-height: 1.2em;}#sk-container-id-13 div.sk-label-container {text-align: center;}#sk-container-id-13 div.sk-container {/* jupyter's `normalize.less` sets `[hidden] { display: none; }` but bootstrap.min.css set `[hidden] { display: none !important; }` so we also need the `!important` here to be able to override the default hidden behavior on the sphinx rendered scikit-learn.org. See: https://github.com/scikit-learn/scikit-learn/issues/21755 */display: inline-block !important;position: relative;}#sk-container-id-13 div.sk-text-repr-fallback {display: none;}</style><div id=\"sk-container-id-13\" class=\"sk-top-container\"><div class=\"sk-text-repr-fallback\"><pre>GradientBoostingRegressor(learning_rate=0.4, n_estimators=500)</pre><b>In a Jupyter environment, please rerun this cell to show the HTML representation or trust the notebook. <br />On GitHub, the HTML representation is unable to render, please try loading this page with nbviewer.org.</b></div><div class=\"sk-container\" hidden><div class=\"sk-item\"><div class=\"sk-estimator sk-toggleable\"><input class=\"sk-toggleable__control sk-hidden--visually\" id=\"sk-estimator-id-19\" type=\"checkbox\" checked><label for=\"sk-estimator-id-19\" class=\"sk-toggleable__label sk-toggleable__label-arrow\">GradientBoostingRegressor</label><div class=\"sk-toggleable__content\"><pre>GradientBoostingRegressor(learning_rate=0.4, n_estimators=500)</pre></div></div></div></div></div>"
      ],
      "text/plain": [
       "GradientBoostingRegressor(learning_rate=0.4, n_estimators=500)"
      ]
     },
     "execution_count": 172,
     "metadata": {},
     "output_type": "execute_result"
    }
   ],
   "source": [
    "grad_boost.fit(X_train, y_train.ravel())"
   ]
  },
  {
   "cell_type": "markdown",
   "metadata": {},
   "source": [
    "#### Looking at our scores in the training base and in the test base, in the training base we have 99,48% of accuracy, it is a very good number, but when we look at the test base and try to reply we have 69,13%."
   ]
  },
  {
   "cell_type": "code",
   "execution_count": 173,
   "metadata": {
    "execution": {
     "iopub.execute_input": "2023-01-23T18:36:22.955704Z",
     "iopub.status.busy": "2023-01-23T18:36:22.954422Z",
     "iopub.status.idle": "2023-01-23T18:36:22.969213Z",
     "shell.execute_reply": "2023-01-23T18:36:22.968094Z",
     "shell.execute_reply.started": "2023-01-23T18:36:22.955563Z"
    }
   },
   "outputs": [],
   "source": [
    "lr_normal_grad_boost = grad_boost.score(X_train, y_train)"
   ]
  },
  {
   "cell_type": "code",
   "execution_count": 174,
   "metadata": {
    "execution": {
     "iopub.execute_input": "2023-01-23T18:36:27.21856Z",
     "iopub.status.busy": "2023-01-23T18:36:27.217801Z",
     "iopub.status.idle": "2023-01-23T18:36:27.224891Z",
     "shell.execute_reply": "2023-01-23T18:36:27.223771Z",
     "shell.execute_reply.started": "2023-01-23T18:36:27.21852Z"
    }
   },
   "outputs": [
    {
     "data": {
      "text/plain": [
       "0.9948582838269058"
      ]
     },
     "execution_count": 174,
     "metadata": {},
     "output_type": "execute_result"
    }
   ],
   "source": [
    "lr_normal_grad_boost"
   ]
  },
  {
   "cell_type": "code",
   "execution_count": 175,
   "metadata": {
    "execution": {
     "iopub.execute_input": "2023-01-23T18:36:40.518365Z",
     "iopub.status.busy": "2023-01-23T18:36:40.517948Z",
     "iopub.status.idle": "2023-01-23T18:36:40.528404Z",
     "shell.execute_reply": "2023-01-23T18:36:40.527092Z",
     "shell.execute_reply.started": "2023-01-23T18:36:40.518333Z"
    }
   },
   "outputs": [],
   "source": [
    "lr_normal_grad_boost_test = grad_boost.score(X_test, y_test)"
   ]
  },
  {
   "cell_type": "code",
   "execution_count": 176,
   "metadata": {
    "execution": {
     "iopub.execute_input": "2023-01-23T18:36:45.846953Z",
     "iopub.status.busy": "2023-01-23T18:36:45.846471Z",
     "iopub.status.idle": "2023-01-23T18:36:45.853994Z",
     "shell.execute_reply": "2023-01-23T18:36:45.85288Z",
     "shell.execute_reply.started": "2023-01-23T18:36:45.846915Z"
    }
   },
   "outputs": [
    {
     "data": {
      "text/plain": [
       "0.6852893027661797"
      ]
     },
     "execution_count": 176,
     "metadata": {},
     "output_type": "execute_result"
    }
   ],
   "source": [
    "lr_normal_grad_boost_test"
   ]
  },
  {
   "cell_type": "markdown",
   "metadata": {},
   "source": [
    "#### Checking for model errors."
   ]
  },
  {
   "cell_type": "code",
   "execution_count": 177,
   "metadata": {
    "execution": {
     "iopub.execute_input": "2023-01-23T18:37:06.769616Z",
     "iopub.status.busy": "2023-01-23T18:37:06.768829Z",
     "iopub.status.idle": "2023-01-23T18:37:06.778747Z",
     "shell.execute_reply": "2023-01-23T18:37:06.777571Z",
     "shell.execute_reply.started": "2023-01-23T18:37:06.769561Z"
    }
   },
   "outputs": [],
   "source": [
    "previsoes = grad_boost.predict(X_test)"
   ]
  },
  {
   "cell_type": "code",
   "execution_count": 178,
   "metadata": {
    "execution": {
     "iopub.execute_input": "2023-01-23T18:37:15.70895Z",
     "iopub.status.busy": "2023-01-23T18:37:15.708136Z",
     "iopub.status.idle": "2023-01-23T18:37:15.714794Z",
     "shell.execute_reply": "2023-01-23T18:37:15.713204Z",
     "shell.execute_reply.started": "2023-01-23T18:37:15.708912Z"
    }
   },
   "outputs": [],
   "source": [
    "y_test_inverse = scaler.inverse_transform(y_test)\n",
    "previsoes_inverse = scaler.inverse_transform(previsoes.reshape(-1,1))"
   ]
  },
  {
   "cell_type": "markdown",
   "metadata": {},
   "source": [
    "#### Looking at our Mean Absolut Error metric, we have the number of 191637, which tells us that it can err 191637 up or down, and when we look at our Root Mean Square Error we get the number of 302148."
   ]
  },
  {
   "cell_type": "code",
   "execution_count": 179,
   "metadata": {
    "execution": {
     "iopub.execute_input": "2023-01-23T18:37:24.948963Z",
     "iopub.status.busy": "2023-01-23T18:37:24.9485Z",
     "iopub.status.idle": "2023-01-23T18:37:24.955049Z",
     "shell.execute_reply": "2023-01-23T18:37:24.953809Z",
     "shell.execute_reply.started": "2023-01-23T18:37:24.948928Z"
    }
   },
   "outputs": [],
   "source": [
    "mae_lr_normal_grad_boost  = mean_absolute_error(y_test_inverse, previsoes_inverse)"
   ]
  },
  {
   "cell_type": "code",
   "execution_count": 180,
   "metadata": {
    "execution": {
     "iopub.execute_input": "2023-01-23T18:37:31.759053Z",
     "iopub.status.busy": "2023-01-23T18:37:31.758641Z",
     "iopub.status.idle": "2023-01-23T18:37:31.767433Z",
     "shell.execute_reply": "2023-01-23T18:37:31.766488Z",
     "shell.execute_reply.started": "2023-01-23T18:37:31.759013Z"
    }
   },
   "outputs": [
    {
     "data": {
      "text/plain": [
       "194668.34658485174"
      ]
     },
     "execution_count": 180,
     "metadata": {},
     "output_type": "execute_result"
    }
   ],
   "source": [
    "mae_lr_normal_grad_boost"
   ]
  },
  {
   "cell_type": "code",
   "execution_count": 181,
   "metadata": {
    "execution": {
     "iopub.execute_input": "2023-01-23T18:37:45.939632Z",
     "iopub.status.busy": "2023-01-23T18:37:45.938809Z",
     "iopub.status.idle": "2023-01-23T18:37:45.946098Z",
     "shell.execute_reply": "2023-01-23T18:37:45.945099Z",
     "shell.execute_reply.started": "2023-01-23T18:37:45.939566Z"
    }
   },
   "outputs": [],
   "source": [
    "rmse_grad_boost = np.sqrt(mean_squared_error(y_test_inverse, previsoes_inverse))"
   ]
  },
  {
   "cell_type": "code",
   "execution_count": 182,
   "metadata": {
    "execution": {
     "iopub.execute_input": "2023-01-23T18:37:48.728097Z",
     "iopub.status.busy": "2023-01-23T18:37:48.727267Z",
     "iopub.status.idle": "2023-01-23T18:37:48.735704Z",
     "shell.execute_reply": "2023-01-23T18:37:48.734744Z",
     "shell.execute_reply.started": "2023-01-23T18:37:48.728051Z"
    }
   },
   "outputs": [
    {
     "data": {
      "text/plain": [
       "305096.8572040157"
      ]
     },
     "execution_count": 182,
     "metadata": {},
     "output_type": "execute_result"
    }
   ],
   "source": [
    "rmse_grad_boost"
   ]
  },
  {
   "cell_type": "markdown",
   "metadata": {},
   "source": [
    "#### Neural Network"
   ]
  },
  {
   "cell_type": "markdown",
   "metadata": {},
   "source": [
    "#### Here we are going to apply a neural network to try to predict the house price."
   ]
  },
  {
   "cell_type": "code",
   "execution_count": 183,
   "metadata": {
    "execution": {
     "iopub.execute_input": "2023-01-23T17:44:04.180529Z",
     "iopub.status.busy": "2023-01-23T17:44:04.180081Z",
     "iopub.status.idle": "2023-01-23T17:44:04.186227Z",
     "shell.execute_reply": "2023-01-23T17:44:04.18489Z",
     "shell.execute_reply.started": "2023-01-23T17:44:04.18049Z"
    }
   },
   "outputs": [],
   "source": [
    "df_neural = df"
   ]
  },
  {
   "cell_type": "code",
   "execution_count": 184,
   "metadata": {
    "execution": {
     "iopub.execute_input": "2023-01-23T17:44:28.898655Z",
     "iopub.status.busy": "2023-01-23T17:44:28.898232Z",
     "iopub.status.idle": "2023-01-23T17:44:28.904375Z",
     "shell.execute_reply": "2023-01-23T17:44:28.903417Z",
     "shell.execute_reply.started": "2023-01-23T17:44:28.898613Z"
    }
   },
   "outputs": [],
   "source": [
    "label_encoder_lot_size_units = LabelEncoder()\n",
    "label_encoder_zip_code = LabelEncoder()"
   ]
  },
  {
   "cell_type": "code",
   "execution_count": 185,
   "metadata": {
    "execution": {
     "iopub.execute_input": "2023-01-23T17:44:32.803744Z",
     "iopub.status.busy": "2023-01-23T17:44:32.803303Z",
     "iopub.status.idle": "2023-01-23T17:44:32.811271Z",
     "shell.execute_reply": "2023-01-23T17:44:32.809986Z",
     "shell.execute_reply.started": "2023-01-23T17:44:32.803707Z"
    }
   },
   "outputs": [],
   "source": [
    "df_neural['lot_size_units'] = label_encoder_lot_size_units.fit_transform(df_neural['lot_size_units'])\n",
    "df_neural['zip_code'] = label_encoder_zip_code.fit_transform(df_neural['zip_code'])"
   ]
  },
  {
   "cell_type": "code",
   "execution_count": 186,
   "metadata": {
    "execution": {
     "iopub.execute_input": "2023-01-23T17:44:37.178724Z",
     "iopub.status.busy": "2023-01-23T17:44:37.17827Z",
     "iopub.status.idle": "2023-01-23T17:44:37.18708Z",
     "shell.execute_reply": "2023-01-23T17:44:37.185426Z",
     "shell.execute_reply.started": "2023-01-23T17:44:37.178687Z"
    }
   },
   "outputs": [],
   "source": [
    "df_neural['beds'] = df_neural['beds'].astype('float32')\n",
    "df_neural['lot_size_units'] = df_neural['lot_size_units'].astype('float32')"
   ]
  },
  {
   "cell_type": "code",
   "execution_count": 187,
   "metadata": {
    "execution": {
     "iopub.execute_input": "2023-01-23T17:44:55.188987Z",
     "iopub.status.busy": "2023-01-23T17:44:55.188529Z",
     "iopub.status.idle": "2023-01-23T17:44:55.196727Z",
     "shell.execute_reply": "2023-01-23T17:44:55.195394Z",
     "shell.execute_reply.started": "2023-01-23T17:44:55.188952Z"
    }
   },
   "outputs": [],
   "source": [
    "X = df_neural.drop('price', axis = 1)"
   ]
  },
  {
   "cell_type": "code",
   "execution_count": 188,
   "metadata": {
    "execution": {
     "iopub.execute_input": "2023-01-23T17:44:56.241045Z",
     "iopub.status.busy": "2023-01-23T17:44:56.240295Z",
     "iopub.status.idle": "2023-01-23T17:44:56.247466Z",
     "shell.execute_reply": "2023-01-23T17:44:56.246438Z",
     "shell.execute_reply.started": "2023-01-23T17:44:56.240991Z"
    }
   },
   "outputs": [],
   "source": [
    "X = X.values"
   ]
  },
  {
   "cell_type": "code",
   "execution_count": 189,
   "metadata": {
    "execution": {
     "iopub.execute_input": "2023-01-23T17:44:56.545222Z",
     "iopub.status.busy": "2023-01-23T17:44:56.54479Z",
     "iopub.status.idle": "2023-01-23T17:44:56.549968Z",
     "shell.execute_reply": "2023-01-23T17:44:56.549014Z",
     "shell.execute_reply.started": "2023-01-23T17:44:56.545185Z"
    }
   },
   "outputs": [],
   "source": [
    "y = df_neural['price']"
   ]
  },
  {
   "cell_type": "code",
   "execution_count": 190,
   "metadata": {
    "execution": {
     "iopub.execute_input": "2023-01-23T17:44:59.356204Z",
     "iopub.status.busy": "2023-01-23T17:44:59.355799Z",
     "iopub.status.idle": "2023-01-23T17:44:59.364192Z",
     "shell.execute_reply": "2023-01-23T17:44:59.36291Z",
     "shell.execute_reply.started": "2023-01-23T17:44:59.356171Z"
    }
   },
   "outputs": [],
   "source": [
    "X_train, X_test, y_train, y_test = train_test_split(X, y, test_size = 0.3, random_state = 0)"
   ]
  },
  {
   "cell_type": "code",
   "execution_count": null,
   "metadata": {},
   "outputs": [],
   "source": []
  },
  {
   "cell_type": "code",
   "execution_count": null,
   "metadata": {},
   "outputs": [],
   "source": []
  },
  {
   "cell_type": "code",
   "execution_count": 192,
   "metadata": {
    "execution": {
     "iopub.execute_input": "2023-01-23T17:45:04.746061Z",
     "iopub.status.busy": "2023-01-23T17:45:04.745624Z",
     "iopub.status.idle": "2023-01-23T17:45:04.751862Z",
     "shell.execute_reply": "2023-01-23T17:45:04.750679Z",
     "shell.execute_reply.started": "2023-01-23T17:45:04.746027Z"
    }
   },
   "outputs": [
    {
     "name": "stdout",
     "output_type": "stream",
     "text": [
      "Requirement already satisfied: keras in c:\\users\\tushar gaurav\\appdata\\local\\programs\\python\\python311\\lib\\site-packages (2.12.0)\n",
      "Collecting tensorflow\n",
      "  Using cached tensorflow-2.12.0-cp311-cp311-win_amd64.whl (1.9 kB)\n",
      "Collecting tensorflow-intel==2.12.0 (from tensorflow)\n",
      "  Using cached tensorflow_intel-2.12.0-cp311-cp311-win_amd64.whl (272.9 MB)\n",
      "Collecting absl-py>=1.0.0 (from tensorflow-intel==2.12.0->tensorflow)\n",
      "  Using cached absl_py-1.4.0-py3-none-any.whl (126 kB)\n",
      "Collecting astunparse>=1.6.0 (from tensorflow-intel==2.12.0->tensorflow)\n",
      "  Using cached astunparse-1.6.3-py2.py3-none-any.whl (12 kB)\n",
      "Requirement already satisfied: flatbuffers>=2.0 in c:\\users\\tushar gaurav\\appdata\\local\\programs\\python\\python311\\lib\\site-packages (from tensorflow-intel==2.12.0->tensorflow) (23.5.9)\n",
      "Collecting gast<=0.4.0,>=0.2.1 (from tensorflow-intel==2.12.0->tensorflow)\n",
      "  Using cached gast-0.4.0-py3-none-any.whl (9.8 kB)\n",
      "Collecting google-pasta>=0.1.1 (from tensorflow-intel==2.12.0->tensorflow)\n",
      "  Using cached google_pasta-0.2.0-py3-none-any.whl (57 kB)\n",
      "Collecting h5py>=2.9.0 (from tensorflow-intel==2.12.0->tensorflow)\n",
      "  Using cached h5py-3.8.0-cp311-cp311-win_amd64.whl (2.6 MB)\n",
      "Collecting jax>=0.3.15 (from tensorflow-intel==2.12.0->tensorflow)\n",
      "  Downloading jax-0.4.10.tar.gz (1.3 MB)\n",
      "                                              0.0/1.3 MB ? eta -:--:--\n",
      "                                              0.0/1.3 MB ? eta -:--:--\n",
      "     --                                       0.1/1.3 MB 1.6 MB/s eta 0:00:01\n",
      "     -----                                    0.2/1.3 MB 1.5 MB/s eta 0:00:01\n",
      "     --------                                 0.3/1.3 MB 1.8 MB/s eta 0:00:01\n",
      "     ------------                             0.4/1.3 MB 2.0 MB/s eta 0:00:01\n",
      "     ----------------                         0.5/1.3 MB 2.1 MB/s eta 0:00:01\n",
      "     --------------------                     0.6/1.3 MB 2.3 MB/s eta 0:00:01\n",
      "     -----------------------                  0.8/1.3 MB 2.2 MB/s eta 0:00:01\n",
      "     ---------------------------              0.9/1.3 MB 2.3 MB/s eta 0:00:01\n",
      "     -------------------------------          1.0/1.3 MB 2.3 MB/s eta 0:00:01\n",
      "     ----------------------------------       1.1/1.3 MB 2.3 MB/s eta 0:00:01\n",
      "     ---------------------------------------  1.3/1.3 MB 2.4 MB/s eta 0:00:01\n",
      "     ---------------------------------------- 1.3/1.3 MB 2.3 MB/s eta 0:00:00\n",
      "  Installing build dependencies: started\n",
      "  Installing build dependencies: finished with status 'done'\n",
      "  Getting requirements to build wheel: started\n",
      "  Getting requirements to build wheel: finished with status 'done'\n",
      "  Preparing metadata (pyproject.toml): started\n",
      "  Preparing metadata (pyproject.toml): finished with status 'done'\n",
      "Requirement already satisfied: libclang>=13.0.0 in c:\\users\\tushar gaurav\\appdata\\local\\programs\\python\\python311\\lib\\site-packages (from tensorflow-intel==2.12.0->tensorflow) (16.0.0)\n",
      "Requirement already satisfied: numpy<1.24,>=1.22 in c:\\users\\tushar gaurav\\appdata\\local\\programs\\python\\python311\\lib\\site-packages (from tensorflow-intel==2.12.0->tensorflow) (1.23.5)\n",
      "Collecting opt-einsum>=2.3.2 (from tensorflow-intel==2.12.0->tensorflow)\n",
      "  Using cached opt_einsum-3.3.0-py3-none-any.whl (65 kB)\n",
      "Requirement already satisfied: packaging in c:\\users\\tushar gaurav\\appdata\\local\\programs\\python\\python311\\lib\\site-packages (from tensorflow-intel==2.12.0->tensorflow) (23.1)\n",
      "Requirement already satisfied: protobuf!=4.21.0,!=4.21.1,!=4.21.2,!=4.21.3,!=4.21.4,!=4.21.5,<5.0.0dev,>=3.20.3 in c:\\users\\tushar gaurav\\appdata\\local\\programs\\python\\python311\\lib\\site-packages (from tensorflow-intel==2.12.0->tensorflow) (4.23.0)\n",
      "Requirement already satisfied: setuptools in c:\\users\\tushar gaurav\\appdata\\local\\programs\\python\\python311\\lib\\site-packages (from tensorflow-intel==2.12.0->tensorflow) (65.5.0)\n",
      "Requirement already satisfied: six>=1.12.0 in c:\\users\\tushar gaurav\\appdata\\local\\programs\\python\\python311\\lib\\site-packages (from tensorflow-intel==2.12.0->tensorflow) (1.16.0)\n",
      "Requirement already satisfied: termcolor>=1.1.0 in c:\\users\\tushar gaurav\\appdata\\local\\programs\\python\\python311\\lib\\site-packages (from tensorflow-intel==2.12.0->tensorflow) (2.3.0)\n",
      "Requirement already satisfied: typing-extensions>=3.6.6 in c:\\users\\tushar gaurav\\appdata\\local\\programs\\python\\python311\\lib\\site-packages (from tensorflow-intel==2.12.0->tensorflow) (4.5.0)\n",
      "Requirement already satisfied: wrapt<1.15,>=1.11.0 in c:\\users\\tushar gaurav\\appdata\\local\\programs\\python\\python311\\lib\\site-packages (from tensorflow-intel==2.12.0->tensorflow) (1.14.1)\n",
      "Collecting grpcio<2.0,>=1.24.3 (from tensorflow-intel==2.12.0->tensorflow)\n",
      "  Using cached grpcio-1.54.0-cp311-cp311-win_amd64.whl (4.1 MB)\n",
      "Collecting tensorboard<2.13,>=2.12 (from tensorflow-intel==2.12.0->tensorflow)\n",
      "  Using cached tensorboard-2.12.3-py3-none-any.whl (5.6 MB)\n",
      "Requirement already satisfied: tensorflow-estimator<2.13,>=2.12.0 in c:\\users\\tushar gaurav\\appdata\\local\\programs\\python\\python311\\lib\\site-packages (from tensorflow-intel==2.12.0->tensorflow) (2.12.0)\n",
      "Requirement already satisfied: keras<2.13,>=2.12.0 in c:\\users\\tushar gaurav\\appdata\\local\\programs\\python\\python311\\lib\\site-packages (from tensorflow-intel==2.12.0->tensorflow) (2.12.0)\n",
      "Requirement already satisfied: tensorflow-io-gcs-filesystem>=0.23.1 in c:\\users\\tushar gaurav\\appdata\\local\\programs\\python\\python311\\lib\\site-packages (from tensorflow-intel==2.12.0->tensorflow) (0.31.0)\n",
      "Requirement already satisfied: wheel<1.0,>=0.23.0 in c:\\users\\tushar gaurav\\appdata\\local\\programs\\python\\python311\\lib\\site-packages (from astunparse>=1.6.0->tensorflow-intel==2.12.0->tensorflow) (0.40.0)\n",
      "Collecting ml-dtypes>=0.1.0 (from jax>=0.3.15->tensorflow-intel==2.12.0->tensorflow)\n",
      "  Using cached ml_dtypes-0.1.0-cp311-cp311-win_amd64.whl (120 kB)\n",
      "Requirement already satisfied: scipy>=1.7 in c:\\users\\tushar gaurav\\appdata\\local\\programs\\python\\python311\\lib\\site-packages (from jax>=0.3.15->tensorflow-intel==2.12.0->tensorflow) (1.10.1)\n",
      "Collecting google-auth<3,>=1.6.3 (from tensorboard<2.13,>=2.12->tensorflow-intel==2.12.0->tensorflow)\n",
      "  Using cached google_auth-2.18.0-py2.py3-none-any.whl (178 kB)\n",
      "Collecting google-auth-oauthlib<1.1,>=0.5 (from tensorboard<2.13,>=2.12->tensorflow-intel==2.12.0->tensorflow)\n",
      "  Using cached google_auth_oauthlib-1.0.0-py2.py3-none-any.whl (18 kB)\n",
      "Collecting markdown>=2.6.8 (from tensorboard<2.13,>=2.12->tensorflow-intel==2.12.0->tensorflow)\n",
      "  Using cached Markdown-3.4.3-py3-none-any.whl (93 kB)\n",
      "Requirement already satisfied: requests<3,>=2.21.0 in c:\\users\\tushar gaurav\\appdata\\local\\programs\\python\\python311\\lib\\site-packages (from tensorboard<2.13,>=2.12->tensorflow-intel==2.12.0->tensorflow) (2.28.2)\n",
      "Requirement already satisfied: tensorboard-data-server<0.8.0,>=0.7.0 in c:\\users\\tushar gaurav\\appdata\\local\\programs\\python\\python311\\lib\\site-packages (from tensorboard<2.13,>=2.12->tensorflow-intel==2.12.0->tensorflow) (0.7.0)\n",
      "Requirement already satisfied: werkzeug>=1.0.1 in c:\\users\\tushar gaurav\\appdata\\local\\programs\\python\\python311\\lib\\site-packages (from tensorboard<2.13,>=2.12->tensorflow-intel==2.12.0->tensorflow) (2.3.3)\n",
      "Collecting cachetools<6.0,>=2.0.0 (from google-auth<3,>=1.6.3->tensorboard<2.13,>=2.12->tensorflow-intel==2.12.0->tensorflow)\n",
      "  Using cached cachetools-5.3.0-py3-none-any.whl (9.3 kB)\n",
      "Collecting pyasn1-modules>=0.2.1 (from google-auth<3,>=1.6.3->tensorboard<2.13,>=2.12->tensorflow-intel==2.12.0->tensorflow)\n",
      "  Using cached pyasn1_modules-0.3.0-py2.py3-none-any.whl (181 kB)\n",
      "Requirement already satisfied: urllib3<2.0 in c:\\users\\tushar gaurav\\appdata\\local\\programs\\python\\python311\\lib\\site-packages (from google-auth<3,>=1.6.3->tensorboard<2.13,>=2.12->tensorflow-intel==2.12.0->tensorflow) (1.26.15)\n",
      "Collecting rsa<5,>=3.1.4 (from google-auth<3,>=1.6.3->tensorboard<2.13,>=2.12->tensorflow-intel==2.12.0->tensorflow)\n",
      "  Using cached rsa-4.9-py3-none-any.whl (34 kB)\n",
      "Collecting requests-oauthlib>=0.7.0 (from google-auth-oauthlib<1.1,>=0.5->tensorboard<2.13,>=2.12->tensorflow-intel==2.12.0->tensorflow)\n",
      "  Using cached requests_oauthlib-1.3.1-py2.py3-none-any.whl (23 kB)\n",
      "Requirement already satisfied: charset-normalizer<4,>=2 in c:\\users\\tushar gaurav\\appdata\\local\\programs\\python\\python311\\lib\\site-packages (from requests<3,>=2.21.0->tensorboard<2.13,>=2.12->tensorflow-intel==2.12.0->tensorflow) (3.1.0)\n",
      "Requirement already satisfied: idna<4,>=2.5 in c:\\users\\tushar gaurav\\appdata\\local\\programs\\python\\python311\\lib\\site-packages (from requests<3,>=2.21.0->tensorboard<2.13,>=2.12->tensorflow-intel==2.12.0->tensorflow) (3.4)\n",
      "Requirement already satisfied: certifi>=2017.4.17 in c:\\users\\tushar gaurav\\appdata\\local\\programs\\python\\python311\\lib\\site-packages (from requests<3,>=2.21.0->tensorboard<2.13,>=2.12->tensorflow-intel==2.12.0->tensorflow) (2022.12.7)\n",
      "Requirement already satisfied: MarkupSafe>=2.1.1 in c:\\users\\tushar gaurav\\appdata\\local\\programs\\python\\python311\\lib\\site-packages (from werkzeug>=1.0.1->tensorboard<2.13,>=2.12->tensorflow-intel==2.12.0->tensorflow) (2.1.2)\n",
      "Requirement already satisfied: pyasn1<0.6.0,>=0.4.6 in c:\\users\\tushar gaurav\\appdata\\local\\programs\\python\\python311\\lib\\site-packages (from pyasn1-modules>=0.2.1->google-auth<3,>=1.6.3->tensorboard<2.13,>=2.12->tensorflow-intel==2.12.0->tensorflow) (0.5.0)\n",
      "Requirement already satisfied: oauthlib>=3.0.0 in c:\\users\\tushar gaurav\\appdata\\local\\programs\\python\\python311\\lib\\site-packages (from requests-oauthlib>=0.7.0->google-auth-oauthlib<1.1,>=0.5->tensorboard<2.13,>=2.12->tensorflow-intel==2.12.0->tensorflow) (3.2.2)\n",
      "Building wheels for collected packages: jax\n",
      "  Building wheel for jax (pyproject.toml): started\n",
      "  Building wheel for jax (pyproject.toml): finished with status 'done'\n",
      "  Created wheel for jax: filename=jax-0.4.10-py3-none-any.whl size=1480617 sha256=9f943814bc55b29a8640ef78cdfc146990b214679d03dc6b6d1f1368abb2fb20\n",
      "  Stored in directory: c:\\users\\tushar gaurav\\appdata\\local\\pip\\cache\\wheels\\af\\ad\\a6\\2732752b23e24d5de10c9aabe0d73e31220fc2492af1fa19bd\n",
      "Successfully built jax\n",
      "Installing collected packages: rsa, pyasn1-modules, opt-einsum, ml-dtypes, markdown, h5py, grpcio, google-pasta, gast, cachetools, astunparse, absl-py, requests-oauthlib, jax, google-auth, google-auth-oauthlib, tensorboard, tensorflow-intel, tensorflow\n",
      "Successfully installed absl-py-1.4.0 astunparse-1.6.3 cachetools-5.3.0 gast-0.4.0 google-auth-2.18.0 google-auth-oauthlib-1.0.0 google-pasta-0.2.0 grpcio-1.54.0 h5py-3.8.0 jax-0.4.10 markdown-3.4.3 ml-dtypes-0.1.0 opt-einsum-3.3.0 pyasn1-modules-0.3.0 requests-oauthlib-1.3.1 rsa-4.9 tensorboard-2.12.3 tensorflow-2.12.0 tensorflow-intel-2.12.0\n"
     ]
    }
   ],
   "source": [
    "!pip install keras\n",
    "!pip install tensorflow\n",
    "import tensorflow as tf\n",
    "import keras\n",
    "from keras.models import Sequential\n",
    "from keras.layers import Dense, Dropout, Activation\n",
    "from keras import regularizers"
   ]
  },
  {
   "cell_type": "markdown",
   "metadata": {},
   "source": [
    "#### We will use 2 input networks and 1 output network."
   ]
  },
  {
   "cell_type": "code",
   "execution_count": 193,
   "metadata": {
    "execution": {
     "iopub.execute_input": "2023-01-23T17:45:35.498659Z",
     "iopub.status.busy": "2023-01-23T17:45:35.49819Z",
     "iopub.status.idle": "2023-01-23T17:45:35.54592Z",
     "shell.execute_reply": "2023-01-23T17:45:35.54482Z",
     "shell.execute_reply.started": "2023-01-23T17:45:35.498609Z"
    }
   },
   "outputs": [],
   "source": [
    "model = Sequential()\n",
    "model.add(Dense(128, input_dim = 6, kernel_initializer = 'normal', activation = 'relu'))\n",
    "model.add(Dropout(0.2))\n",
    "model.add(Dense(64, input_dim = 6, kernel_initializer = 'normal', activation = 'relu'))\n",
    "model.add(Dropout(0.2))\n",
    "model.add(Dense(1, activation = 'linear'))\n",
    "\n",
    "from tensorflow.keras.optimizers import Adam\n",
    "optimitzer = Adam()"
   ]
  },
  {
   "cell_type": "code",
   "execution_count": 194,
   "metadata": {
    "execution": {
     "iopub.execute_input": "2023-01-23T17:45:35.758638Z",
     "iopub.status.busy": "2023-01-23T17:45:35.758202Z",
     "iopub.status.idle": "2023-01-23T17:45:35.771664Z",
     "shell.execute_reply": "2023-01-23T17:45:35.77021Z",
     "shell.execute_reply.started": "2023-01-23T17:45:35.758574Z"
    }
   },
   "outputs": [],
   "source": [
    "model.compile(loss='mean_squared_error', optimizer = 'adam', metrics=['mae'])"
   ]
  },
  {
   "cell_type": "markdown",
   "metadata": {},
   "source": [
    "#### Let's use 300 Epochs and 500 data in the batch_size."
   ]
  },
  {
   "cell_type": "code",
   "execution_count": 195,
   "metadata": {
    "execution": {
     "iopub.execute_input": "2023-01-23T17:45:36.026548Z",
     "iopub.status.busy": "2023-01-23T17:45:36.025845Z",
     "iopub.status.idle": "2023-01-23T17:45:52.978962Z",
     "shell.execute_reply": "2023-01-23T17:45:52.977663Z",
     "shell.execute_reply.started": "2023-01-23T17:45:36.026509Z"
    }
   },
   "outputs": [
    {
     "name": "stdout",
     "output_type": "stream",
     "text": [
      "Epoch 1/300\n",
      "3/3 [==============================] - 2s 163ms/step - loss: 1285010620416.0000 - mae: 1002207.0000 - val_loss: 1283430940672.0000 - val_mae: 993822.2500\n",
      "Epoch 2/300\n",
      "3/3 [==============================] - 0s 42ms/step - loss: 1284465491968.0000 - mae: 1001965.3125 - val_loss: 1282921988096.0000 - val_mae: 993587.0625\n",
      "Epoch 3/300\n",
      "3/3 [==============================] - 0s 31ms/step - loss: 1283985637376.0000 - mae: 1001742.0000 - val_loss: 1282433220608.0000 - val_mae: 993361.3125\n",
      "Epoch 4/300\n",
      "3/3 [==============================] - 0s 34ms/step - loss: 1283470000128.0000 - mae: 1001509.3125 - val_loss: 1281934360576.0000 - val_mae: 993131.6875\n",
      "Epoch 5/300\n",
      "3/3 [==============================] - 0s 32ms/step - loss: 1282925395968.0000 - mae: 1001265.5000 - val_loss: 1281374552064.0000 - val_mae: 992873.1250\n",
      "Epoch 6/300\n",
      "3/3 [==============================] - 0s 33ms/step - loss: 1282315649024.0000 - mae: 1000980.5000 - val_loss: 1280729022464.0000 - val_mae: 992574.5000\n",
      "Epoch 7/300\n",
      "3/3 [==============================] - 0s 32ms/step - loss: 1281639317504.0000 - mae: 1000671.5625 - val_loss: 1279977455616.0000 - val_mae: 992228.3125\n",
      "Epoch 8/300\n",
      "3/3 [==============================] - 0s 35ms/step - loss: 1280811991040.0000 - mae: 1000294.2500 - val_loss: 1279087083520.0000 - val_mae: 991818.0000\n",
      "Epoch 9/300\n",
      "3/3 [==============================] - 0s 30ms/step - loss: 1279826853888.0000 - mae: 999857.8750 - val_loss: 1278028677120.0000 - val_mae: 991331.2500\n",
      "Epoch 10/300\n",
      "3/3 [==============================] - 0s 29ms/step - loss: 1278748000256.0000 - mae: 999362.8125 - val_loss: 1276781527040.0000 - val_mae: 990757.8750\n",
      "Epoch 11/300\n",
      "3/3 [==============================] - 0s 31ms/step - loss: 1277467688960.0000 - mae: 998777.1875 - val_loss: 1275316142080.0000 - val_mae: 990084.7500\n",
      "Epoch 12/300\n",
      "3/3 [==============================] - 0s 31ms/step - loss: 1275853537280.0000 - mae: 998048.0000 - val_loss: 1273606307840.0000 - val_mae: 989299.1250\n",
      "Epoch 13/300\n",
      "3/3 [==============================] - 0s 30ms/step - loss: 1274009354240.0000 - mae: 997225.1875 - val_loss: 1271623188480.0000 - val_mae: 988386.5625\n",
      "Epoch 14/300\n",
      "3/3 [==============================] - 0s 29ms/step - loss: 1271877468160.0000 - mae: 996239.8750 - val_loss: 1269332443136.0000 - val_mae: 987330.8125\n",
      "Epoch 15/300\n",
      "3/3 [==============================] - 0s 40ms/step - loss: 1269457879040.0000 - mae: 995153.6875 - val_loss: 1266704056320.0000 - val_mae: 986117.2500\n",
      "Epoch 16/300\n",
      "3/3 [==============================] - 0s 36ms/step - loss: 1266684657664.0000 - mae: 993866.7500 - val_loss: 1263701852160.0000 - val_mae: 984729.6875\n",
      "Epoch 17/300\n",
      "3/3 [==============================] - 0s 33ms/step - loss: 1263402876928.0000 - mae: 992390.6875 - val_loss: 1260301713408.0000 - val_mae: 983156.6875\n",
      "Epoch 18/300\n",
      "3/3 [==============================] - 0s 34ms/step - loss: 1260106940416.0000 - mae: 990849.1250 - val_loss: 1256467857408.0000 - val_mae: 981380.3750\n",
      "Epoch 19/300\n",
      "3/3 [==============================] - 0s 32ms/step - loss: 1255757840384.0000 - mae: 988936.9375 - val_loss: 1252157423616.0000 - val_mae: 979379.1250\n",
      "Epoch 20/300\n",
      "3/3 [==============================] - 0s 31ms/step - loss: 1251257352192.0000 - mae: 986888.2500 - val_loss: 1247335153664.0000 - val_mae: 977133.7500\n",
      "Epoch 21/300\n",
      "3/3 [==============================] - 0s 34ms/step - loss: 1246534959104.0000 - mae: 984573.0000 - val_loss: 1241986891776.0000 - val_mae: 974634.2500\n",
      "Epoch 22/300\n",
      "3/3 [==============================] - 0s 29ms/step - loss: 1240571838464.0000 - mae: 981905.1875 - val_loss: 1236093370368.0000 - val_mae: 971870.0000\n",
      "Epoch 23/300\n",
      "3/3 [==============================] - 0s 28ms/step - loss: 1234562187264.0000 - mae: 979090.9375 - val_loss: 1229589577728.0000 - val_mae: 968808.5000\n",
      "Epoch 24/300\n",
      "3/3 [==============================] - 0s 28ms/step - loss: 1227468046336.0000 - mae: 975879.6250 - val_loss: 1222483640320.0000 - val_mae: 965451.3750\n",
      "Epoch 25/300\n",
      "3/3 [==============================] - 0s 29ms/step - loss: 1219873341440.0000 - mae: 972299.6875 - val_loss: 1214731517952.0000 - val_mae: 961773.8125\n",
      "Epoch 26/300\n",
      "3/3 [==============================] - 0s 30ms/step - loss: 1212420194304.0000 - mae: 968777.9375 - val_loss: 1206324953088.0000 - val_mae: 957768.1250\n",
      "Epoch 27/300\n",
      "3/3 [==============================] - 0s 33ms/step - loss: 1203179749376.0000 - mae: 964425.8750 - val_loss: 1197184122880.0000 - val_mae: 953390.9375\n",
      "Epoch 28/300\n",
      "3/3 [==============================] - 0s 32ms/step - loss: 1193710977024.0000 - mae: 959926.6875 - val_loss: 1187277832192.0000 - val_mae: 948621.5000\n",
      "Epoch 29/300\n",
      "3/3 [==============================] - 0s 32ms/step - loss: 1183672303616.0000 - mae: 955132.1250 - val_loss: 1176616304640.0000 - val_mae: 943456.6875\n",
      "Epoch 30/300\n",
      "3/3 [==============================] - 0s 28ms/step - loss: 1172500119552.0000 - mae: 949712.8750 - val_loss: 1165254328320.0000 - val_mae: 937915.6875\n",
      "Epoch 31/300\n",
      "3/3 [==============================] - 0s 34ms/step - loss: 1160087601152.0000 - mae: 944068.5625 - val_loss: 1153117585408.0000 - val_mae: 931952.8125\n",
      "Epoch 32/300\n",
      "3/3 [==============================] - 0s 29ms/step - loss: 1148209725440.0000 - mae: 937981.5625 - val_loss: 1140145127424.0000 - val_mae: 925528.0000\n",
      "Epoch 33/300\n",
      "3/3 [==============================] - 0s 36ms/step - loss: 1134759378944.0000 - mae: 931357.3750 - val_loss: 1126377324544.0000 - val_mae: 918649.0000\n",
      "Epoch 34/300\n",
      "3/3 [==============================] - 0s 32ms/step - loss: 1119334301696.0000 - mae: 923875.1875 - val_loss: 1111770660864.0000 - val_mae: 911281.9375\n",
      "Epoch 35/300\n",
      "3/3 [==============================] - 0s 30ms/step - loss: 1106817712128.0000 - mae: 917414.9375 - val_loss: 1096342372352.0000 - val_mae: 903422.5000\n",
      "Epoch 36/300\n",
      "3/3 [==============================] - 0s 29ms/step - loss: 1089111326720.0000 - mae: 908550.6875 - val_loss: 1080150392832.0000 - val_mae: 895085.0625\n",
      "Epoch 37/300\n",
      "3/3 [==============================] - 0s 25ms/step - loss: 1071279308800.0000 - mae: 899545.7500 - val_loss: 1063088685056.0000 - val_mae: 886197.7500\n",
      "Epoch 38/300\n",
      "3/3 [==============================] - 0s 29ms/step - loss: 1056103071744.0000 - mae: 891644.1875 - val_loss: 1045221539840.0000 - val_mae: 876775.8125\n",
      "Epoch 39/300\n",
      "3/3 [==============================] - 0s 27ms/step - loss: 1037328449536.0000 - mae: 881538.3125 - val_loss: 1026607611904.0000 - val_mae: 866830.3125\n",
      "Epoch 40/300\n",
      "3/3 [==============================] - 0s 34ms/step - loss: 1017628459008.0000 - mae: 871597.3750 - val_loss: 1007225274368.0000 - val_mae: 856328.4375\n",
      "Epoch 41/300\n",
      "3/3 [==============================] - 0s 29ms/step - loss: 994914009088.0000 - mae: 859244.0625 - val_loss: 987120664576.0000 - val_mae: 845296.9375\n",
      "Epoch 42/300\n",
      "3/3 [==============================] - 0s 30ms/step - loss: 973324025856.0000 - mae: 847468.3125 - val_loss: 966289063936.0000 - val_mae: 833704.3750\n",
      "Epoch 43/300\n",
      "3/3 [==============================] - 0s 32ms/step - loss: 955028013056.0000 - mae: 837138.7500 - val_loss: 944825368576.0000 - val_mae: 821551.8125\n",
      "Epoch 44/300\n",
      "3/3 [==============================] - 0s 32ms/step - loss: 933017878528.0000 - mae: 824561.3125 - val_loss: 922600144896.0000 - val_mae: 808734.6250\n",
      "Epoch 45/300\n",
      "3/3 [==============================] - 0s 34ms/step - loss: 911383527424.0000 - mae: 811876.4375 - val_loss: 899800498176.0000 - val_mae: 795325.1875\n",
      "Epoch 46/300\n",
      "3/3 [==============================] - 0s 33ms/step - loss: 884275675136.0000 - mae: 796166.0000 - val_loss: 876597280768.0000 - val_mae: 781412.1875\n",
      "Epoch 47/300\n",
      "3/3 [==============================] - 0s 31ms/step - loss: 862166056960.0000 - mae: 782855.5000 - val_loss: 853023653888.0000 - val_mae: 767041.5000\n",
      "Epoch 48/300\n",
      "3/3 [==============================] - 0s 31ms/step - loss: 836617830400.0000 - mae: 768263.1875 - val_loss: 829114875904.0000 - val_mae: 752174.7500\n",
      "Epoch 49/300\n",
      "3/3 [==============================] - 0s 30ms/step - loss: 812809781248.0000 - mae: 752634.4375 - val_loss: 805089050624.0000 - val_mae: 737031.3125\n",
      "Epoch 50/300\n",
      "3/3 [==============================] - 0s 25ms/step - loss: 790915645440.0000 - mae: 739157.8125 - val_loss: 780991201280.0000 - val_mae: 721602.7500\n",
      "Epoch 51/300\n",
      "3/3 [==============================] - 0s 26ms/step - loss: 764924067840.0000 - mae: 721298.6875 - val_loss: 756702707712.0000 - val_mae: 705989.3750\n",
      "Epoch 52/300\n",
      "3/3 [==============================] - 0s 23ms/step - loss: 736509034496.0000 - mae: 704573.5625 - val_loss: 732502884352.0000 - val_mae: 690060.6875\n",
      "Epoch 53/300\n",
      "3/3 [==============================] - 0s 25ms/step - loss: 719082553344.0000 - mae: 690757.3750 - val_loss: 708287791104.0000 - val_mae: 673849.6875\n",
      "Epoch 54/300\n",
      "3/3 [==============================] - 0s 24ms/step - loss: 690726830080.0000 - mae: 674037.6250 - val_loss: 684379799552.0000 - val_mae: 657818.1875\n",
      "Epoch 55/300\n",
      "3/3 [==============================] - 0s 23ms/step - loss: 666680623104.0000 - mae: 656268.4375 - val_loss: 660761542656.0000 - val_mae: 642123.0000\n",
      "Epoch 56/300\n",
      "3/3 [==============================] - 0s 24ms/step - loss: 640021954560.0000 - mae: 638060.4375 - val_loss: 637532700672.0000 - val_mae: 626413.1250\n",
      "Epoch 57/300\n",
      "3/3 [==============================] - 0s 25ms/step - loss: 612928323584.0000 - mae: 621660.1250 - val_loss: 614758154240.0000 - val_mae: 610860.6875\n",
      "Epoch 58/300\n",
      "3/3 [==============================] - 0s 26ms/step - loss: 595662667776.0000 - mae: 608139.8750 - val_loss: 592502063104.0000 - val_mae: 595619.4375\n",
      "Epoch 59/300\n",
      "3/3 [==============================] - 0s 25ms/step - loss: 570700922880.0000 - mae: 591223.8750 - val_loss: 570983186432.0000 - val_mae: 580765.8125\n",
      "Epoch 60/300\n",
      "3/3 [==============================] - 0s 22ms/step - loss: 552604860416.0000 - mae: 577510.0625 - val_loss: 550295568384.0000 - val_mae: 566713.3750\n",
      "Epoch 61/300\n",
      "3/3 [==============================] - 0s 27ms/step - loss: 534012067840.0000 - mae: 563027.9375 - val_loss: 530415255552.0000 - val_mae: 553149.5000\n",
      "Epoch 62/300\n",
      "3/3 [==============================] - 0s 25ms/step - loss: 512732266496.0000 - mae: 550147.1250 - val_loss: 511320588288.0000 - val_mae: 540346.1875\n",
      "Epoch 63/300\n",
      "3/3 [==============================] - 0s 26ms/step - loss: 490723966976.0000 - mae: 536490.0000 - val_loss: 493324042240.0000 - val_mae: 528371.3750\n",
      "Epoch 64/300\n",
      "3/3 [==============================] - 0s 24ms/step - loss: 472880545792.0000 - mae: 525045.1875 - val_loss: 476357328896.0000 - val_mae: 517111.7812\n",
      "Epoch 65/300\n",
      "3/3 [==============================] - 0s 26ms/step - loss: 454308921344.0000 - mae: 514792.0000 - val_loss: 460440272896.0000 - val_mae: 507036.1562\n",
      "Epoch 66/300\n",
      "3/3 [==============================] - 0s 29ms/step - loss: 447540494336.0000 - mae: 506996.1250 - val_loss: 445921296384.0000 - val_mae: 497883.0000\n",
      "Epoch 67/300\n",
      "3/3 [==============================] - 0s 25ms/step - loss: 427497947136.0000 - mae: 494223.3125 - val_loss: 432695869440.0000 - val_mae: 490013.0000\n",
      "Epoch 68/300\n",
      "3/3 [==============================] - 0s 22ms/step - loss: 415316770816.0000 - mae: 486962.0312 - val_loss: 420661198848.0000 - val_mae: 482954.1250\n",
      "Epoch 69/300\n",
      "3/3 [==============================] - 0s 22ms/step - loss: 401888280576.0000 - mae: 479220.8750 - val_loss: 409748144128.0000 - val_mae: 476654.8438\n",
      "Epoch 70/300\n",
      "3/3 [==============================] - 0s 24ms/step - loss: 391046922240.0000 - mae: 469771.2188 - val_loss: 399815966720.0000 - val_mae: 471208.1875\n",
      "Epoch 71/300\n",
      "3/3 [==============================] - 0s 21ms/step - loss: 382343151616.0000 - mae: 468425.5312 - val_loss: 390992429056.0000 - val_mae: 466333.3750\n",
      "Epoch 72/300\n",
      "3/3 [==============================] - 0s 21ms/step - loss: 376495865856.0000 - mae: 462458.2188 - val_loss: 383124733952.0000 - val_mae: 461979.4062\n",
      "Epoch 73/300\n",
      "3/3 [==============================] - 0s 21ms/step - loss: 363685085184.0000 - mae: 458850.2812 - val_loss: 376267243520.0000 - val_mae: 458426.9375\n",
      "Epoch 74/300\n",
      "3/3 [==============================] - 0s 24ms/step - loss: 372248838144.0000 - mae: 462150.3438 - val_loss: 370269847552.0000 - val_mae: 455592.3438\n",
      "Epoch 75/300\n",
      "3/3 [==============================] - 0s 26ms/step - loss: 358595461120.0000 - mae: 454425.9688 - val_loss: 365064716288.0000 - val_mae: 453136.7812\n",
      "Epoch 76/300\n",
      "3/3 [==============================] - 0s 26ms/step - loss: 351187927040.0000 - mae: 450839.2812 - val_loss: 360573304832.0000 - val_mae: 451083.6562\n",
      "Epoch 77/300\n",
      "3/3 [==============================] - 0s 26ms/step - loss: 346476478464.0000 - mae: 448796.7500 - val_loss: 356673486848.0000 - val_mae: 449365.0938\n",
      "Epoch 78/300\n",
      "3/3 [==============================] - 0s 25ms/step - loss: 346974846976.0000 - mae: 445609.5312 - val_loss: 353327153152.0000 - val_mae: 447893.4688\n",
      "Epoch 79/300\n",
      "3/3 [==============================] - 0s 24ms/step - loss: 339918159872.0000 - mae: 444612.9375 - val_loss: 350355488768.0000 - val_mae: 446592.2812\n",
      "Epoch 80/300\n",
      "3/3 [==============================] - 0s 24ms/step - loss: 348338651136.0000 - mae: 448438.9062 - val_loss: 347727921152.0000 - val_mae: 445410.5000\n",
      "Epoch 81/300\n",
      "3/3 [==============================] - 0s 24ms/step - loss: 335740829696.0000 - mae: 443540.9062 - val_loss: 345433899008.0000 - val_mae: 444376.9062\n",
      "Epoch 82/300\n",
      "3/3 [==============================] - 0s 25ms/step - loss: 344895291392.0000 - mae: 445700.5625 - val_loss: 343323934720.0000 - val_mae: 443435.1250\n",
      "Epoch 83/300\n",
      "3/3 [==============================] - 0s 27ms/step - loss: 335446540288.0000 - mae: 441593.8125 - val_loss: 341423161344.0000 - val_mae: 442531.3750\n",
      "Epoch 84/300\n",
      "3/3 [==============================] - 0s 27ms/step - loss: 331622055936.0000 - mae: 440955.3750 - val_loss: 339632488448.0000 - val_mae: 441701.1562\n",
      "Epoch 85/300\n",
      "3/3 [==============================] - 0s 22ms/step - loss: 332443811840.0000 - mae: 438631.0312 - val_loss: 337989599232.0000 - val_mae: 440866.3750\n",
      "Epoch 86/300\n",
      "3/3 [==============================] - 0s 28ms/step - loss: 325131206656.0000 - mae: 437670.4062 - val_loss: 336398254080.0000 - val_mae: 440033.8125\n",
      "Epoch 87/300\n",
      "3/3 [==============================] - 0s 27ms/step - loss: 327100071936.0000 - mae: 434370.9062 - val_loss: 334864646144.0000 - val_mae: 439215.3125\n",
      "Epoch 88/300\n",
      "3/3 [==============================] - 0s 27ms/step - loss: 321892417536.0000 - mae: 432151.8125 - val_loss: 333386022912.0000 - val_mae: 438421.7188\n",
      "Epoch 89/300\n",
      "3/3 [==============================] - 0s 23ms/step - loss: 315606466560.0000 - mae: 429517.0938 - val_loss: 331962056704.0000 - val_mae: 437566.4688\n",
      "Epoch 90/300\n",
      "3/3 [==============================] - 0s 23ms/step - loss: 321950154752.0000 - mae: 431811.5625 - val_loss: 330605658112.0000 - val_mae: 436697.9062\n",
      "Epoch 91/300\n",
      "3/3 [==============================] - 0s 23ms/step - loss: 326843531264.0000 - mae: 436678.9375 - val_loss: 329273737216.0000 - val_mae: 435807.1875\n",
      "Epoch 92/300\n",
      "3/3 [==============================] - 0s 29ms/step - loss: 319796576256.0000 - mae: 431672.9062 - val_loss: 327911309312.0000 - val_mae: 434883.1562\n",
      "Epoch 93/300\n",
      "3/3 [==============================] - 0s 26ms/step - loss: 312056643584.0000 - mae: 425996.3750 - val_loss: 326562643968.0000 - val_mae: 433970.1875\n",
      "Epoch 94/300\n",
      "3/3 [==============================] - 0s 24ms/step - loss: 312970149888.0000 - mae: 428413.8125 - val_loss: 325224890368.0000 - val_mae: 433033.9375\n",
      "Epoch 95/300\n",
      "3/3 [==============================] - 0s 25ms/step - loss: 309688139776.0000 - mae: 426721.7500 - val_loss: 323905683456.0000 - val_mae: 432050.5625\n",
      "Epoch 96/300\n",
      "3/3 [==============================] - 0s 29ms/step - loss: 314983743488.0000 - mae: 429096.8438 - val_loss: 322594504704.0000 - val_mae: 431042.7500\n",
      "Epoch 97/300\n",
      "3/3 [==============================] - 0s 27ms/step - loss: 314129252352.0000 - mae: 430327.4062 - val_loss: 321251999744.0000 - val_mae: 430012.1250\n",
      "Epoch 98/300\n",
      "3/3 [==============================] - 0s 26ms/step - loss: 312678842368.0000 - mae: 425284.2500 - val_loss: 319922470912.0000 - val_mae: 428948.5625\n",
      "Epoch 99/300\n",
      "3/3 [==============================] - 0s 27ms/step - loss: 310847864832.0000 - mae: 423657.5000 - val_loss: 318620172288.0000 - val_mae: 427871.5000\n",
      "Epoch 100/300\n",
      "3/3 [==============================] - 0s 28ms/step - loss: 311289446400.0000 - mae: 424176.7188 - val_loss: 317310205952.0000 - val_mae: 426809.8125\n",
      "Epoch 101/300\n",
      "3/3 [==============================] - 0s 26ms/step - loss: 310536732672.0000 - mae: 424703.8750 - val_loss: 315964030976.0000 - val_mae: 425805.4062\n",
      "Epoch 102/300\n",
      "3/3 [==============================] - 0s 22ms/step - loss: 308781875200.0000 - mae: 423767.4688 - val_loss: 314571390976.0000 - val_mae: 424802.2500\n",
      "Epoch 103/300\n",
      "3/3 [==============================] - 0s 20ms/step - loss: 308809924608.0000 - mae: 423137.8438 - val_loss: 313200803840.0000 - val_mae: 423769.0938\n",
      "Epoch 104/300\n",
      "3/3 [==============================] - 0s 23ms/step - loss: 313485131776.0000 - mae: 421841.2500 - val_loss: 311839588352.0000 - val_mae: 422707.0312\n",
      "Epoch 105/300\n",
      "3/3 [==============================] - 0s 25ms/step - loss: 298497212416.0000 - mae: 417054.0000 - val_loss: 310469951488.0000 - val_mae: 421650.8438\n",
      "Epoch 106/300\n",
      "3/3 [==============================] - 0s 25ms/step - loss: 301836402688.0000 - mae: 417603.8438 - val_loss: 309109325824.0000 - val_mae: 420589.3750\n",
      "Epoch 107/300\n",
      "3/3 [==============================] - 0s 24ms/step - loss: 298728325120.0000 - mae: 413946.6875 - val_loss: 307713802240.0000 - val_mae: 419541.2812\n",
      "Epoch 108/300\n",
      "3/3 [==============================] - 0s 24ms/step - loss: 300129255424.0000 - mae: 414340.2812 - val_loss: 306317557760.0000 - val_mae: 418483.6250\n",
      "Epoch 109/300\n",
      "3/3 [==============================] - 0s 25ms/step - loss: 294341541888.0000 - mae: 413076.2812 - val_loss: 304913055744.0000 - val_mae: 417457.7188\n",
      "Epoch 110/300\n",
      "3/3 [==============================] - 0s 24ms/step - loss: 301500760064.0000 - mae: 412032.4375 - val_loss: 303524544512.0000 - val_mae: 416418.7812\n",
      "Epoch 111/300\n",
      "3/3 [==============================] - 0s 28ms/step - loss: 294508822528.0000 - mae: 410577.6875 - val_loss: 302141112320.0000 - val_mae: 415359.8125\n",
      "Epoch 112/300\n",
      "3/3 [==============================] - 0s 25ms/step - loss: 290797780992.0000 - mae: 412877.7812 - val_loss: 300764332032.0000 - val_mae: 414233.0938\n",
      "Epoch 113/300\n",
      "3/3 [==============================] - 0s 28ms/step - loss: 296518713344.0000 - mae: 414855.0312 - val_loss: 299406458880.0000 - val_mae: 413081.6250\n",
      "Epoch 114/300\n",
      "3/3 [==============================] - 0s 24ms/step - loss: 291996663808.0000 - mae: 407865.3438 - val_loss: 298046783488.0000 - val_mae: 411903.1875\n",
      "Epoch 115/300\n",
      "3/3 [==============================] - 0s 24ms/step - loss: 290031763456.0000 - mae: 409159.5000 - val_loss: 296690679808.0000 - val_mae: 410730.2188\n",
      "Epoch 116/300\n",
      "3/3 [==============================] - 0s 28ms/step - loss: 288680509440.0000 - mae: 405653.5312 - val_loss: 295313473536.0000 - val_mae: 409587.5625\n",
      "Epoch 117/300\n",
      "3/3 [==============================] - 0s 25ms/step - loss: 288032587776.0000 - mae: 408971.6562 - val_loss: 293949472768.0000 - val_mae: 408436.4688\n",
      "Epoch 118/300\n",
      "3/3 [==============================] - 0s 24ms/step - loss: 287706808320.0000 - mae: 407330.4062 - val_loss: 292598317056.0000 - val_mae: 407301.7500\n",
      "Epoch 119/300\n",
      "3/3 [==============================] - 0s 19ms/step - loss: 283828224000.0000 - mae: 405742.2188 - val_loss: 291249586176.0000 - val_mae: 406168.2188\n",
      "Epoch 120/300\n",
      "3/3 [==============================] - 0s 22ms/step - loss: 285738467328.0000 - mae: 404539.1250 - val_loss: 289893842944.0000 - val_mae: 404976.0938\n",
      "Epoch 121/300\n",
      "3/3 [==============================] - 0s 20ms/step - loss: 284368437248.0000 - mae: 401500.0312 - val_loss: 288532824064.0000 - val_mae: 403788.4375\n",
      "Epoch 122/300\n",
      "3/3 [==============================] - 0s 21ms/step - loss: 276834615296.0000 - mae: 400328.5000 - val_loss: 287203786752.0000 - val_mae: 402589.4062\n",
      "Epoch 123/300\n",
      "3/3 [==============================] - 0s 22ms/step - loss: 286561304576.0000 - mae: 404497.5000 - val_loss: 285853908992.0000 - val_mae: 401429.3750\n",
      "Epoch 124/300\n",
      "3/3 [==============================] - 0s 26ms/step - loss: 276217987072.0000 - mae: 395822.9375 - val_loss: 284510322688.0000 - val_mae: 400251.5938\n",
      "Epoch 125/300\n",
      "3/3 [==============================] - 0s 23ms/step - loss: 274515869696.0000 - mae: 399141.9062 - val_loss: 283118567424.0000 - val_mae: 399055.3438\n",
      "Epoch 126/300\n",
      "3/3 [==============================] - 0s 23ms/step - loss: 276077772800.0000 - mae: 399509.5938 - val_loss: 281697255424.0000 - val_mae: 397828.5938\n",
      "Epoch 127/300\n",
      "3/3 [==============================] - 0s 26ms/step - loss: 276393623552.0000 - mae: 397963.2188 - val_loss: 280284987392.0000 - val_mae: 396608.1250\n",
      "Epoch 128/300\n",
      "3/3 [==============================] - 0s 26ms/step - loss: 272946315264.0000 - mae: 395472.9062 - val_loss: 278858334208.0000 - val_mae: 395418.5625\n",
      "Epoch 129/300\n",
      "3/3 [==============================] - 0s 25ms/step - loss: 275673874432.0000 - mae: 400042.6562 - val_loss: 277437939712.0000 - val_mae: 394201.0938\n",
      "Epoch 130/300\n",
      "3/3 [==============================] - 0s 25ms/step - loss: 273093492736.0000 - mae: 393891.2500 - val_loss: 276046086144.0000 - val_mae: 392937.5938\n",
      "Epoch 131/300\n",
      "3/3 [==============================] - 0s 24ms/step - loss: 268946538496.0000 - mae: 391923.4062 - val_loss: 274651660288.0000 - val_mae: 391678.2500\n",
      "Epoch 132/300\n",
      "3/3 [==============================] - 0s 25ms/step - loss: 275262865408.0000 - mae: 395405.1875 - val_loss: 273248239616.0000 - val_mae: 390427.0938\n",
      "Epoch 133/300\n",
      "3/3 [==============================] - 0s 27ms/step - loss: 270140751872.0000 - mae: 389095.7188 - val_loss: 271829532672.0000 - val_mae: 389173.3438\n",
      "Epoch 134/300\n",
      "3/3 [==============================] - 0s 25ms/step - loss: 264780218368.0000 - mae: 387218.2812 - val_loss: 270433845248.0000 - val_mae: 387920.9062\n",
      "Epoch 135/300\n",
      "3/3 [==============================] - 0s 27ms/step - loss: 268184223744.0000 - mae: 392327.8125 - val_loss: 269044023296.0000 - val_mae: 386658.4688\n",
      "Epoch 136/300\n",
      "3/3 [==============================] - 0s 23ms/step - loss: 269531447296.0000 - mae: 390244.1250 - val_loss: 267646435328.0000 - val_mae: 385416.1875\n",
      "Epoch 137/300\n",
      "3/3 [==============================] - 0s 23ms/step - loss: 260027121664.0000 - mae: 383598.4688 - val_loss: 266223861760.0000 - val_mae: 384197.3438\n",
      "Epoch 138/300\n",
      "3/3 [==============================] - 0s 23ms/step - loss: 257896595456.0000 - mae: 382683.4062 - val_loss: 264780382208.0000 - val_mae: 382990.0312\n",
      "Epoch 139/300\n",
      "3/3 [==============================] - 0s 21ms/step - loss: 264971206656.0000 - mae: 389226.9062 - val_loss: 263267794944.0000 - val_mae: 381789.0938\n",
      "Epoch 140/300\n",
      "3/3 [==============================] - 0s 23ms/step - loss: 259731357696.0000 - mae: 380330.2188 - val_loss: 261802033152.0000 - val_mae: 380526.4375\n",
      "Epoch 141/300\n",
      "3/3 [==============================] - 0s 22ms/step - loss: 256612171776.0000 - mae: 379723.1562 - val_loss: 260338532352.0000 - val_mae: 379266.5312\n",
      "Epoch 142/300\n",
      "3/3 [==============================] - 0s 22ms/step - loss: 257142784000.0000 - mae: 380943.3125 - val_loss: 258886385664.0000 - val_mae: 378013.2812\n",
      "Epoch 143/300\n",
      "3/3 [==============================] - 0s 25ms/step - loss: 254883381248.0000 - mae: 381083.5000 - val_loss: 257411170304.0000 - val_mae: 376735.9062\n",
      "Epoch 144/300\n",
      "3/3 [==============================] - 0s 28ms/step - loss: 259197222912.0000 - mae: 381175.4062 - val_loss: 255911460864.0000 - val_mae: 375439.6875\n",
      "Epoch 145/300\n",
      "3/3 [==============================] - 0s 25ms/step - loss: 254663196672.0000 - mae: 376981.7500 - val_loss: 254381506560.0000 - val_mae: 374124.4375\n",
      "Epoch 146/300\n",
      "3/3 [==============================] - 0s 22ms/step - loss: 257722613760.0000 - mae: 379358.2812 - val_loss: 252880289792.0000 - val_mae: 372805.9688\n",
      "Epoch 147/300\n",
      "3/3 [==============================] - 0s 29ms/step - loss: 248369364992.0000 - mae: 373798.5625 - val_loss: 251410448384.0000 - val_mae: 371451.7188\n",
      "Epoch 148/300\n",
      "3/3 [==============================] - 0s 26ms/step - loss: 253949411328.0000 - mae: 383155.5938 - val_loss: 249970458624.0000 - val_mae: 370089.4688\n",
      "Epoch 149/300\n",
      "3/3 [==============================] - 0s 24ms/step - loss: 251956674560.0000 - mae: 376503.7812 - val_loss: 248532451328.0000 - val_mae: 368725.7812\n",
      "Epoch 150/300\n",
      "3/3 [==============================] - 0s 23ms/step - loss: 236995788800.0000 - mae: 363895.9062 - val_loss: 247086825472.0000 - val_mae: 367369.1562\n",
      "Epoch 151/300\n",
      "3/3 [==============================] - 0s 25ms/step - loss: 245143306240.0000 - mae: 371189.7812 - val_loss: 245601468416.0000 - val_mae: 366040.7812\n",
      "Epoch 152/300\n",
      "3/3 [==============================] - 0s 28ms/step - loss: 241665327104.0000 - mae: 366402.1250 - val_loss: 244126941184.0000 - val_mae: 364730.9062\n",
      "Epoch 153/300\n",
      "3/3 [==============================] - 0s 24ms/step - loss: 241007591424.0000 - mae: 369843.9375 - val_loss: 242612092928.0000 - val_mae: 363411.7500\n",
      "Epoch 154/300\n",
      "3/3 [==============================] - 0s 20ms/step - loss: 240987996160.0000 - mae: 366688.3750 - val_loss: 241168105472.0000 - val_mae: 362054.6875\n",
      "Epoch 155/300\n",
      "3/3 [==============================] - 0s 22ms/step - loss: 238419394560.0000 - mae: 364091.7500 - val_loss: 239729475584.0000 - val_mae: 360675.4062\n",
      "Epoch 156/300\n",
      "3/3 [==============================] - 0s 20ms/step - loss: 236533268480.0000 - mae: 361125.8750 - val_loss: 238323236864.0000 - val_mae: 359314.6562\n",
      "Epoch 157/300\n",
      "3/3 [==============================] - 0s 20ms/step - loss: 239424028672.0000 - mae: 365500.7188 - val_loss: 236876005376.0000 - val_mae: 357955.4062\n",
      "Epoch 158/300\n",
      "3/3 [==============================] - 0s 21ms/step - loss: 236158599168.0000 - mae: 361491.5938 - val_loss: 235414257664.0000 - val_mae: 356609.5938\n",
      "Epoch 159/300\n",
      "3/3 [==============================] - 0s 22ms/step - loss: 235550244864.0000 - mae: 361003.9375 - val_loss: 233926524928.0000 - val_mae: 355252.4062\n",
      "Epoch 160/300\n",
      "3/3 [==============================] - 0s 21ms/step - loss: 236790611968.0000 - mae: 358482.3750 - val_loss: 232426471424.0000 - val_mae: 353874.0625\n",
      "Epoch 161/300\n",
      "3/3 [==============================] - 0s 22ms/step - loss: 229922471936.0000 - mae: 357945.3438 - val_loss: 230990626816.0000 - val_mae: 352487.8125\n",
      "Epoch 162/300\n",
      "3/3 [==============================] - 0s 24ms/step - loss: 225660420096.0000 - mae: 353589.0000 - val_loss: 229544247296.0000 - val_mae: 351087.1250\n",
      "Epoch 163/300\n",
      "3/3 [==============================] - 0s 26ms/step - loss: 223758876672.0000 - mae: 353247.2188 - val_loss: 228130177024.0000 - val_mae: 349679.5312\n",
      "Epoch 164/300\n",
      "3/3 [==============================] - 0s 26ms/step - loss: 228038508544.0000 - mae: 352818.1562 - val_loss: 226665168896.0000 - val_mae: 348289.4688\n",
      "Epoch 165/300\n",
      "3/3 [==============================] - 0s 25ms/step - loss: 224007061504.0000 - mae: 352551.8750 - val_loss: 225203257344.0000 - val_mae: 346918.2188\n",
      "Epoch 166/300\n",
      "3/3 [==============================] - 0s 23ms/step - loss: 231358218240.0000 - mae: 355222.2500 - val_loss: 223706759168.0000 - val_mae: 345559.0000\n",
      "Epoch 167/300\n",
      "3/3 [==============================] - 0s 25ms/step - loss: 227674521600.0000 - mae: 350514.9688 - val_loss: 222218108928.0000 - val_mae: 344177.6875\n",
      "Epoch 168/300\n",
      "3/3 [==============================] - 0s 25ms/step - loss: 219137163264.0000 - mae: 350463.0000 - val_loss: 220784574464.0000 - val_mae: 342813.7188\n",
      "Epoch 169/300\n",
      "3/3 [==============================] - 0s 24ms/step - loss: 223892111360.0000 - mae: 349866.9688 - val_loss: 219339276288.0000 - val_mae: 341482.3750\n",
      "Epoch 170/300\n",
      "3/3 [==============================] - 0s 23ms/step - loss: 219334967296.0000 - mae: 351627.7500 - val_loss: 217892012032.0000 - val_mae: 340176.0625\n",
      "Epoch 171/300\n",
      "3/3 [==============================] - 0s 21ms/step - loss: 218766983168.0000 - mae: 347623.5000 - val_loss: 216394252288.0000 - val_mae: 338843.2188\n",
      "Epoch 172/300\n",
      "3/3 [==============================] - 0s 25ms/step - loss: 214220521472.0000 - mae: 342559.9688 - val_loss: 214921854976.0000 - val_mae: 337472.6562\n",
      "Epoch 173/300\n",
      "3/3 [==============================] - 0s 21ms/step - loss: 221455450112.0000 - mae: 347471.5938 - val_loss: 213461172224.0000 - val_mae: 336092.1875\n",
      "Epoch 174/300\n",
      "3/3 [==============================] - 0s 22ms/step - loss: 218279182336.0000 - mae: 344759.1875 - val_loss: 212022067200.0000 - val_mae: 334693.2188\n",
      "Epoch 175/300\n",
      "3/3 [==============================] - 0s 22ms/step - loss: 213710929920.0000 - mae: 342507.5938 - val_loss: 210591989760.0000 - val_mae: 333250.9375\n",
      "Epoch 176/300\n",
      "3/3 [==============================] - 0s 22ms/step - loss: 211423199232.0000 - mae: 342700.1875 - val_loss: 209196498944.0000 - val_mae: 331819.8438\n",
      "Epoch 177/300\n",
      "3/3 [==============================] - 0s 20ms/step - loss: 205838303232.0000 - mae: 337444.8438 - val_loss: 207762341888.0000 - val_mae: 330415.9062\n",
      "Epoch 178/300\n",
      "3/3 [==============================] - 0s 24ms/step - loss: 210691686400.0000 - mae: 340644.9688 - val_loss: 206311325696.0000 - val_mae: 328950.7500\n",
      "Epoch 179/300\n",
      "3/3 [==============================] - 0s 23ms/step - loss: 202866032640.0000 - mae: 337034.5312 - val_loss: 204840960000.0000 - val_mae: 327436.0312\n",
      "Epoch 180/300\n",
      "3/3 [==============================] - 0s 22ms/step - loss: 211443073024.0000 - mae: 339002.2500 - val_loss: 203354750976.0000 - val_mae: 325941.0000\n",
      "Epoch 181/300\n",
      "3/3 [==============================] - 0s 25ms/step - loss: 212741079040.0000 - mae: 339907.0625 - val_loss: 201887449088.0000 - val_mae: 324453.6250\n",
      "Epoch 182/300\n",
      "3/3 [==============================] - 0s 28ms/step - loss: 198753861632.0000 - mae: 328025.5625 - val_loss: 200430796800.0000 - val_mae: 323023.6562\n",
      "Epoch 183/300\n",
      "3/3 [==============================] - 0s 25ms/step - loss: 199933296640.0000 - mae: 329472.4688 - val_loss: 198962069504.0000 - val_mae: 321623.2812\n",
      "Epoch 184/300\n",
      "3/3 [==============================] - 0s 24ms/step - loss: 202246258688.0000 - mae: 333715.8125 - val_loss: 197468454912.0000 - val_mae: 320235.1875\n",
      "Epoch 185/300\n",
      "3/3 [==============================] - 0s 26ms/step - loss: 205419282432.0000 - mae: 335976.2812 - val_loss: 196050223104.0000 - val_mae: 318770.0625\n",
      "Epoch 186/300\n",
      "3/3 [==============================] - 0s 24ms/step - loss: 198202884096.0000 - mae: 325352.0625 - val_loss: 194611232768.0000 - val_mae: 317316.3438\n",
      "Epoch 187/300\n",
      "3/3 [==============================] - 0s 25ms/step - loss: 202255466496.0000 - mae: 330229.3125 - val_loss: 193181122560.0000 - val_mae: 315869.9688\n",
      "Epoch 188/300\n",
      "3/3 [==============================] - 0s 25ms/step - loss: 193478295552.0000 - mae: 325567.7188 - val_loss: 191749521408.0000 - val_mae: 314395.5625\n",
      "Epoch 189/300\n",
      "3/3 [==============================] - 0s 23ms/step - loss: 199207305216.0000 - mae: 327200.3438 - val_loss: 190324555776.0000 - val_mae: 312979.0312\n",
      "Epoch 190/300\n",
      "3/3 [==============================] - 0s 24ms/step - loss: 196366106624.0000 - mae: 324767.0000 - val_loss: 188947841024.0000 - val_mae: 311575.3125\n",
      "Epoch 191/300\n",
      "3/3 [==============================] - 0s 23ms/step - loss: 191148851200.0000 - mae: 317978.3750 - val_loss: 187571994624.0000 - val_mae: 310232.9062\n",
      "Epoch 192/300\n",
      "3/3 [==============================] - 0s 21ms/step - loss: 190539956224.0000 - mae: 320374.0000 - val_loss: 186244694016.0000 - val_mae: 308894.0625\n",
      "Epoch 193/300\n",
      "3/3 [==============================] - 0s 22ms/step - loss: 193753546752.0000 - mae: 320923.4688 - val_loss: 184974491648.0000 - val_mae: 307478.7188\n",
      "Epoch 194/300\n",
      "3/3 [==============================] - 0s 22ms/step - loss: 189955473408.0000 - mae: 317316.7812 - val_loss: 183696687104.0000 - val_mae: 306047.5312\n",
      "Epoch 195/300\n",
      "3/3 [==============================] - 0s 21ms/step - loss: 189597876224.0000 - mae: 319910.5938 - val_loss: 182414376960.0000 - val_mae: 304633.4375\n",
      "Epoch 196/300\n",
      "3/3 [==============================] - 0s 22ms/step - loss: 197244796928.0000 - mae: 322967.5625 - val_loss: 181190885376.0000 - val_mae: 303222.9688\n",
      "Epoch 197/300\n",
      "3/3 [==============================] - 0s 23ms/step - loss: 184892424192.0000 - mae: 313385.1875 - val_loss: 179993444352.0000 - val_mae: 301831.0625\n",
      "Epoch 198/300\n",
      "3/3 [==============================] - 0s 22ms/step - loss: 184917377024.0000 - mae: 314487.8750 - val_loss: 178726223872.0000 - val_mae: 300459.0000\n",
      "Epoch 199/300\n",
      "3/3 [==============================] - 0s 24ms/step - loss: 186196983808.0000 - mae: 315987.2188 - val_loss: 177409540096.0000 - val_mae: 299116.7188\n",
      "Epoch 200/300\n",
      "3/3 [==============================] - 0s 25ms/step - loss: 177103667200.0000 - mae: 308351.8750 - val_loss: 176051142656.0000 - val_mae: 297863.5000\n",
      "Epoch 201/300\n",
      "3/3 [==============================] - 0s 27ms/step - loss: 186043580416.0000 - mae: 313627.2188 - val_loss: 174725595136.0000 - val_mae: 296670.3750\n",
      "Epoch 202/300\n",
      "3/3 [==============================] - 0s 25ms/step - loss: 179661406208.0000 - mae: 309960.2812 - val_loss: 173437747200.0000 - val_mae: 295480.5312\n",
      "Epoch 203/300\n",
      "3/3 [==============================] - 0s 22ms/step - loss: 178343247872.0000 - mae: 309371.4062 - val_loss: 172133892096.0000 - val_mae: 294234.4375\n",
      "Epoch 204/300\n",
      "3/3 [==============================] - 0s 24ms/step - loss: 180522565632.0000 - mae: 312125.1875 - val_loss: 170851713024.0000 - val_mae: 292931.4688\n",
      "Epoch 205/300\n",
      "3/3 [==============================] - 0s 24ms/step - loss: 178958385152.0000 - mae: 309618.1562 - val_loss: 169632940032.0000 - val_mae: 291595.1875\n",
      "Epoch 206/300\n",
      "3/3 [==============================] - 0s 24ms/step - loss: 176419110912.0000 - mae: 303641.1250 - val_loss: 168408285184.0000 - val_mae: 290331.5312\n",
      "Epoch 207/300\n",
      "3/3 [==============================] - 0s 24ms/step - loss: 175882764288.0000 - mae: 304490.0938 - val_loss: 167203045376.0000 - val_mae: 289045.7812\n",
      "Epoch 208/300\n",
      "3/3 [==============================] - 0s 24ms/step - loss: 175663923200.0000 - mae: 304912.7188 - val_loss: 166037176320.0000 - val_mae: 287767.0625\n",
      "Epoch 209/300\n",
      "3/3 [==============================] - 0s 22ms/step - loss: 169685958656.0000 - mae: 300508.6875 - val_loss: 164912218112.0000 - val_mae: 286458.4375\n",
      "Epoch 210/300\n",
      "3/3 [==============================] - 0s 23ms/step - loss: 169752297472.0000 - mae: 300730.2812 - val_loss: 163760373760.0000 - val_mae: 285139.0000\n",
      "Epoch 211/300\n",
      "3/3 [==============================] - 0s 20ms/step - loss: 175580758016.0000 - mae: 302050.9062 - val_loss: 162668609536.0000 - val_mae: 283786.5312\n",
      "Epoch 212/300\n",
      "3/3 [==============================] - 0s 22ms/step - loss: 175266988032.0000 - mae: 302252.9062 - val_loss: 161575419904.0000 - val_mae: 282429.0938\n",
      "Epoch 213/300\n",
      "3/3 [==============================] - 0s 25ms/step - loss: 169543712768.0000 - mae: 294961.3750 - val_loss: 160477085696.0000 - val_mae: 281100.6250\n",
      "Epoch 214/300\n",
      "3/3 [==============================] - 0s 25ms/step - loss: 169822781440.0000 - mae: 299717.5000 - val_loss: 159436996608.0000 - val_mae: 279811.1875\n",
      "Epoch 215/300\n",
      "3/3 [==============================] - 0s 22ms/step - loss: 164899258368.0000 - mae: 293101.5000 - val_loss: 158409621504.0000 - val_mae: 278558.8750\n",
      "Epoch 216/300\n",
      "3/3 [==============================] - 0s 26ms/step - loss: 170040524800.0000 - mae: 298279.3750 - val_loss: 157331701760.0000 - val_mae: 277354.5625\n",
      "Epoch 217/300\n",
      "3/3 [==============================] - 0s 23ms/step - loss: 165836783616.0000 - mae: 294993.4375 - val_loss: 156219654144.0000 - val_mae: 276212.0000\n",
      "Epoch 218/300\n",
      "3/3 [==============================] - 0s 25ms/step - loss: 164323180544.0000 - mae: 290498.1875 - val_loss: 155108179968.0000 - val_mae: 275117.3438\n",
      "Epoch 219/300\n",
      "3/3 [==============================] - 0s 26ms/step - loss: 163547463680.0000 - mae: 293857.6875 - val_loss: 154030555136.0000 - val_mae: 274073.3750\n",
      "Epoch 220/300\n",
      "3/3 [==============================] - 0s 26ms/step - loss: 161167671296.0000 - mae: 291341.3750 - val_loss: 152981848064.0000 - val_mae: 273053.9375\n",
      "Epoch 221/300\n",
      "3/3 [==============================] - 0s 25ms/step - loss: 159158992896.0000 - mae: 285944.5312 - val_loss: 152065163264.0000 - val_mae: 271968.1250\n",
      "Epoch 222/300\n",
      "3/3 [==============================] - 0s 25ms/step - loss: 168086667264.0000 - mae: 296810.0625 - val_loss: 151136878592.0000 - val_mae: 270872.3750\n",
      "Epoch 223/300\n",
      "3/3 [==============================] - 0s 23ms/step - loss: 159189893120.0000 - mae: 290876.0938 - val_loss: 150141976576.0000 - val_mae: 269793.1875\n",
      "Epoch 224/300\n",
      "3/3 [==============================] - 0s 27ms/step - loss: 161862303744.0000 - mae: 288713.1562 - val_loss: 149218738176.0000 - val_mae: 268706.1250\n",
      "Epoch 225/300\n",
      "3/3 [==============================] - 0s 25ms/step - loss: 151202856960.0000 - mae: 282901.7500 - val_loss: 148306706432.0000 - val_mae: 267651.9375\n",
      "Epoch 226/300\n",
      "3/3 [==============================] - 0s 21ms/step - loss: 163025764352.0000 - mae: 288578.3438 - val_loss: 147414007808.0000 - val_mae: 266596.7812\n",
      "Epoch 227/300\n",
      "3/3 [==============================] - 0s 21ms/step - loss: 158443536384.0000 - mae: 287850.4688 - val_loss: 146533859328.0000 - val_mae: 265529.2500\n",
      "Epoch 228/300\n",
      "3/3 [==============================] - 0s 22ms/step - loss: 155031977984.0000 - mae: 280996.0312 - val_loss: 145575362560.0000 - val_mae: 264512.6875\n",
      "Epoch 229/300\n",
      "3/3 [==============================] - 0s 22ms/step - loss: 150744793088.0000 - mae: 280467.2188 - val_loss: 144698720256.0000 - val_mae: 263510.0000\n",
      "Epoch 230/300\n",
      "3/3 [==============================] - 0s 22ms/step - loss: 158056841216.0000 - mae: 283767.9062 - val_loss: 143850471424.0000 - val_mae: 262567.0000\n",
      "Epoch 231/300\n",
      "3/3 [==============================] - 0s 23ms/step - loss: 158107222016.0000 - mae: 283751.5000 - val_loss: 143072722944.0000 - val_mae: 261616.5781\n",
      "Epoch 232/300\n",
      "3/3 [==============================] - 0s 22ms/step - loss: 151150133248.0000 - mae: 278893.3438 - val_loss: 142247936000.0000 - val_mae: 260675.1719\n",
      "Epoch 233/300\n",
      "3/3 [==============================] - 0s 21ms/step - loss: 154305200128.0000 - mae: 276518.3438 - val_loss: 141409222656.0000 - val_mae: 259785.8125\n",
      "Epoch 234/300\n",
      "3/3 [==============================] - 0s 23ms/step - loss: 156436987904.0000 - mae: 279046.5000 - val_loss: 140560023552.0000 - val_mae: 258928.4375\n",
      "Epoch 235/300\n",
      "3/3 [==============================] - 0s 25ms/step - loss: 156153085952.0000 - mae: 282066.7500 - val_loss: 139791220736.0000 - val_mae: 258074.5938\n",
      "Epoch 236/300\n",
      "3/3 [==============================] - 0s 26ms/step - loss: 152061558784.0000 - mae: 280233.7188 - val_loss: 139167514624.0000 - val_mae: 257182.4219\n",
      "Epoch 237/300\n",
      "3/3 [==============================] - 0s 26ms/step - loss: 153197281280.0000 - mae: 277852.3125 - val_loss: 138598711296.0000 - val_mae: 256331.8594\n",
      "Epoch 238/300\n",
      "3/3 [==============================] - 0s 23ms/step - loss: 154181664768.0000 - mae: 277573.7812 - val_loss: 138047815680.0000 - val_mae: 255513.1406\n",
      "Epoch 239/300\n",
      "3/3 [==============================] - 0s 24ms/step - loss: 153399001088.0000 - mae: 277521.7500 - val_loss: 137471803392.0000 - val_mae: 254731.3750\n",
      "Epoch 240/300\n",
      "3/3 [==============================] - 0s 27ms/step - loss: 156644245504.0000 - mae: 280890.2812 - val_loss: 136959975424.0000 - val_mae: 253964.3281\n",
      "Epoch 241/300\n",
      "3/3 [==============================] - 0s 27ms/step - loss: 152425381888.0000 - mae: 275649.2812 - val_loss: 136426012672.0000 - val_mae: 253228.7812\n",
      "Epoch 242/300\n",
      "3/3 [==============================] - 0s 26ms/step - loss: 146334580736.0000 - mae: 272521.9062 - val_loss: 135907024896.0000 - val_mae: 252534.2188\n",
      "Epoch 243/300\n",
      "3/3 [==============================] - 0s 25ms/step - loss: 150782033920.0000 - mae: 272990.5312 - val_loss: 135311507456.0000 - val_mae: 251873.7812\n",
      "Epoch 244/300\n",
      "3/3 [==============================] - 0s 21ms/step - loss: 149472395264.0000 - mae: 273247.4688 - val_loss: 134677037056.0000 - val_mae: 251238.0000\n",
      "Epoch 245/300\n",
      "3/3 [==============================] - 0s 21ms/step - loss: 150941515776.0000 - mae: 273806.1562 - val_loss: 134079127552.0000 - val_mae: 250638.4531\n",
      "Epoch 246/300\n",
      "3/3 [==============================] - 0s 23ms/step - loss: 144713564160.0000 - mae: 273893.5312 - val_loss: 133479424000.0000 - val_mae: 250028.9062\n",
      "Epoch 247/300\n",
      "3/3 [==============================] - 0s 20ms/step - loss: 160084508672.0000 - mae: 280908.2500 - val_loss: 132920352768.0000 - val_mae: 249423.7188\n",
      "Epoch 248/300\n",
      "3/3 [==============================] - 0s 21ms/step - loss: 146554667008.0000 - mae: 271808.9688 - val_loss: 132402585600.0000 - val_mae: 248839.4062\n",
      "Epoch 249/300\n",
      "3/3 [==============================] - 0s 19ms/step - loss: 146418270208.0000 - mae: 268079.2188 - val_loss: 131855876096.0000 - val_mae: 248276.9219\n",
      "Epoch 250/300\n",
      "3/3 [==============================] - 0s 22ms/step - loss: 146835374080.0000 - mae: 269861.6875 - val_loss: 131309592576.0000 - val_mae: 247748.9219\n",
      "Epoch 251/300\n",
      "3/3 [==============================] - 0s 22ms/step - loss: 146114641920.0000 - mae: 270429.7812 - val_loss: 130735087616.0000 - val_mae: 247220.3594\n",
      "Epoch 252/300\n",
      "3/3 [==============================] - 0s 26ms/step - loss: 145857789952.0000 - mae: 269373.8750 - val_loss: 130294784000.0000 - val_mae: 246683.6250\n",
      "Epoch 253/300\n",
      "3/3 [==============================] - 0s 28ms/step - loss: 147857162240.0000 - mae: 273142.0938 - val_loss: 129798512640.0000 - val_mae: 246178.5156\n",
      "Epoch 254/300\n",
      "3/3 [==============================] - 0s 28ms/step - loss: 145058054144.0000 - mae: 270008.2812 - val_loss: 129285496832.0000 - val_mae: 245697.9531\n",
      "Epoch 255/300\n",
      "3/3 [==============================] - 0s 24ms/step - loss: 145018142720.0000 - mae: 271469.4688 - val_loss: 128853573632.0000 - val_mae: 245223.2812\n",
      "Epoch 256/300\n",
      "3/3 [==============================] - 0s 26ms/step - loss: 140339871744.0000 - mae: 262792.5938 - val_loss: 128473014272.0000 - val_mae: 244787.0312\n",
      "Epoch 257/300\n",
      "3/3 [==============================] - 0s 23ms/step - loss: 148257964032.0000 - mae: 271984.4375 - val_loss: 128101384192.0000 - val_mae: 244399.7656\n",
      "Epoch 258/300\n",
      "3/3 [==============================] - 0s 27ms/step - loss: 152083808256.0000 - mae: 275605.0000 - val_loss: 127835037696.0000 - val_mae: 244049.2188\n",
      "Epoch 259/300\n",
      "3/3 [==============================] - 0s 27ms/step - loss: 144127049728.0000 - mae: 268237.9688 - val_loss: 127621496832.0000 - val_mae: 243726.0469\n",
      "Epoch 260/300\n",
      "3/3 [==============================] - 0s 24ms/step - loss: 144285859840.0000 - mae: 265789.8438 - val_loss: 127354961920.0000 - val_mae: 243407.2656\n",
      "Epoch 261/300\n",
      "3/3 [==============================] - 0s 24ms/step - loss: 142545010688.0000 - mae: 266083.5938 - val_loss: 126892523520.0000 - val_mae: 243039.9062\n",
      "Epoch 262/300\n",
      "3/3 [==============================] - 0s 24ms/step - loss: 146765791232.0000 - mae: 265488.8125 - val_loss: 126434107392.0000 - val_mae: 242667.0625\n",
      "Epoch 263/300\n",
      "3/3 [==============================] - 0s 23ms/step - loss: 136321212416.0000 - mae: 263255.3125 - val_loss: 125927612416.0000 - val_mae: 242291.2812\n",
      "Epoch 264/300\n",
      "3/3 [==============================] - 0s 23ms/step - loss: 140618776576.0000 - mae: 264116.4375 - val_loss: 125391929344.0000 - val_mae: 241926.2500\n",
      "Epoch 265/300\n",
      "3/3 [==============================] - 0s 22ms/step - loss: 138788421632.0000 - mae: 266087.2500 - val_loss: 124842000384.0000 - val_mae: 241572.1719\n",
      "Epoch 266/300\n",
      "3/3 [==============================] - 0s 24ms/step - loss: 151330881536.0000 - mae: 272900.8438 - val_loss: 124390031360.0000 - val_mae: 241237.3906\n",
      "Epoch 267/300\n",
      "3/3 [==============================] - 0s 21ms/step - loss: 137848717312.0000 - mae: 263668.9375 - val_loss: 124027191296.0000 - val_mae: 240932.9062\n",
      "Epoch 268/300\n",
      "3/3 [==============================] - 0s 23ms/step - loss: 137085632512.0000 - mae: 259553.5938 - val_loss: 123657527296.0000 - val_mae: 240631.2188\n",
      "Epoch 269/300\n",
      "3/3 [==============================] - 0s 24ms/step - loss: 147633651712.0000 - mae: 266142.1875 - val_loss: 123413905408.0000 - val_mae: 240376.6719\n",
      "Epoch 270/300\n",
      "3/3 [==============================] - 0s 23ms/step - loss: 134201483264.0000 - mae: 260551.5156 - val_loss: 123205746688.0000 - val_mae: 240142.2344\n",
      "Epoch 271/300\n",
      "3/3 [==============================] - 0s 25ms/step - loss: 144924770304.0000 - mae: 265549.9688 - val_loss: 123037384704.0000 - val_mae: 239924.9844\n",
      "Epoch 272/300\n",
      "3/3 [==============================] - 0s 21ms/step - loss: 141009633280.0000 - mae: 263989.7188 - val_loss: 122911473664.0000 - val_mae: 239713.4219\n",
      "Epoch 273/300\n",
      "3/3 [==============================] - 0s 23ms/step - loss: 138442457088.0000 - mae: 262224.6875 - val_loss: 122756964352.0000 - val_mae: 239502.0625\n",
      "Epoch 274/300\n",
      "3/3 [==============================] - 0s 24ms/step - loss: 140801916928.0000 - mae: 265080.2812 - val_loss: 122507190272.0000 - val_mae: 239266.7812\n",
      "Epoch 275/300\n",
      "3/3 [==============================] - 0s 25ms/step - loss: 142628274176.0000 - mae: 267467.2188 - val_loss: 122224418816.0000 - val_mae: 239028.3438\n",
      "Epoch 276/300\n",
      "3/3 [==============================] - 0s 25ms/step - loss: 145387683840.0000 - mae: 266678.7188 - val_loss: 121929932800.0000 - val_mae: 238792.5312\n",
      "Epoch 277/300\n",
      "3/3 [==============================] - 0s 26ms/step - loss: 138620534784.0000 - mae: 264311.8125 - val_loss: 121615351808.0000 - val_mae: 238543.7656\n",
      "Epoch 278/300\n",
      "3/3 [==============================] - 0s 24ms/step - loss: 150502080512.0000 - mae: 267395.4375 - val_loss: 121324822528.0000 - val_mae: 238300.1250\n",
      "Epoch 279/300\n",
      "3/3 [==============================] - 0s 26ms/step - loss: 135947411456.0000 - mae: 262731.9688 - val_loss: 121009070080.0000 - val_mae: 238057.4219\n",
      "Epoch 280/300\n",
      "3/3 [==============================] - 0s 21ms/step - loss: 140870172672.0000 - mae: 265100.2188 - val_loss: 120750809088.0000 - val_mae: 237855.2812\n",
      "Epoch 281/300\n",
      "3/3 [==============================] - 0s 21ms/step - loss: 142683766784.0000 - mae: 265465.7188 - val_loss: 120522235904.0000 - val_mae: 237657.4531\n",
      "Epoch 282/300\n",
      "3/3 [==============================] - 0s 20ms/step - loss: 137397362688.0000 - mae: 263439.6250 - val_loss: 120284250112.0000 - val_mae: 237461.7812\n",
      "Epoch 283/300\n",
      "3/3 [==============================] - 0s 21ms/step - loss: 136906235904.0000 - mae: 261754.6562 - val_loss: 120059969536.0000 - val_mae: 237272.2969\n",
      "Epoch 284/300\n",
      "3/3 [==============================] - 0s 23ms/step - loss: 143874457600.0000 - mae: 266193.9375 - val_loss: 119823089664.0000 - val_mae: 237085.4844\n",
      "Epoch 285/300\n",
      "3/3 [==============================] - 0s 21ms/step - loss: 149955100672.0000 - mae: 270694.5625 - val_loss: 119638188032.0000 - val_mae: 236909.5000\n",
      "Epoch 286/300\n",
      "3/3 [==============================] - 0s 21ms/step - loss: 139913478144.0000 - mae: 263268.3750 - val_loss: 119468171264.0000 - val_mae: 236740.9375\n",
      "Epoch 287/300\n",
      "3/3 [==============================] - 0s 28ms/step - loss: 137178767360.0000 - mae: 259005.2500 - val_loss: 119240753152.0000 - val_mae: 236549.7969\n",
      "Epoch 288/300\n",
      "3/3 [==============================] - 0s 24ms/step - loss: 144849764352.0000 - mae: 267890.4688 - val_loss: 119092469760.0000 - val_mae: 236391.3125\n",
      "Epoch 289/300\n",
      "3/3 [==============================] - 0s 25ms/step - loss: 137798582272.0000 - mae: 264702.7812 - val_loss: 118930137088.0000 - val_mae: 236230.5625\n",
      "Epoch 290/300\n",
      "3/3 [==============================] - 0s 25ms/step - loss: 137963323392.0000 - mae: 262809.8438 - val_loss: 118754557952.0000 - val_mae: 236062.4531\n",
      "Epoch 291/300\n",
      "3/3 [==============================] - 0s 25ms/step - loss: 133712683008.0000 - mae: 259214.5312 - val_loss: 118635880448.0000 - val_mae: 235921.5938\n",
      "Epoch 292/300\n",
      "3/3 [==============================] - 0s 24ms/step - loss: 144611688448.0000 - mae: 265962.7188 - val_loss: 118551920640.0000 - val_mae: 235795.5156\n",
      "Epoch 293/300\n",
      "3/3 [==============================] - 0s 23ms/step - loss: 138212491264.0000 - mae: 261119.6719 - val_loss: 118527819776.0000 - val_mae: 235724.7031\n",
      "Epoch 294/300\n",
      "3/3 [==============================] - 0s 24ms/step - loss: 141193248768.0000 - mae: 265905.1250 - val_loss: 118488711168.0000 - val_mae: 235652.6406\n",
      "Epoch 295/300\n",
      "3/3 [==============================] - 0s 27ms/step - loss: 139963564032.0000 - mae: 264013.2500 - val_loss: 118455238656.0000 - val_mae: 235589.7344\n",
      "Epoch 296/300\n",
      "3/3 [==============================] - 0s 22ms/step - loss: 141681082368.0000 - mae: 265202.3438 - val_loss: 118366593024.0000 - val_mae: 235498.7812\n",
      "Epoch 297/300\n",
      "3/3 [==============================] - 0s 19ms/step - loss: 134436339712.0000 - mae: 259121.9375 - val_loss: 118265102336.0000 - val_mae: 235405.7188\n",
      "Epoch 298/300\n",
      "3/3 [==============================] - 0s 22ms/step - loss: 139734532096.0000 - mae: 266123.3125 - val_loss: 118096445440.0000 - val_mae: 235276.3906\n",
      "Epoch 299/300\n",
      "3/3 [==============================] - 0s 23ms/step - loss: 137121382400.0000 - mae: 259979.6406 - val_loss: 117961613312.0000 - val_mae: 235168.9844\n",
      "Epoch 300/300\n",
      "3/3 [==============================] - 0s 23ms/step - loss: 135704911872.0000 - mae: 258049.8438 - val_loss: 117782339584.0000 - val_mae: 235043.4062\n"
     ]
    },
    {
     "data": {
      "text/plain": [
       "<keras.callbacks.History at 0x174f5aefa50>"
      ]
     },
     "execution_count": 195,
     "metadata": {},
     "output_type": "execute_result"
    }
   ],
   "source": [
    "model.fit(X_train, y_train, epochs = 300, batch_size = 500, validation_data = (X_test, y_test), verbose = 1)"
   ]
  },
  {
   "cell_type": "markdown",
   "metadata": {},
   "source": [
    "#### Looking at the neural network we managed to arrive at the MAE of 234234.3594, which is worse than our best Machine Learning model."
   ]
  },
  {
   "cell_type": "markdown",
   "metadata": {},
   "source": [
    "#### Checking key variables to predict the outcome."
   ]
  },
  {
   "cell_type": "markdown",
   "metadata": {},
   "source": [
    "#### CHI-2"
   ]
  },
  {
   "cell_type": "code",
   "execution_count": 196,
   "metadata": {
    "_kg_hide-input": true,
    "execution": {
     "iopub.execute_input": "2023-01-23T18:42:17.460294Z",
     "iopub.status.busy": "2023-01-23T18:42:17.459839Z",
     "iopub.status.idle": "2023-01-23T18:42:17.491527Z",
     "shell.execute_reply": "2023-01-23T18:42:17.489905Z",
     "shell.execute_reply.started": "2023-01-23T18:42:17.46026Z"
    }
   },
   "outputs": [],
   "source": [
    "from sklearn.feature_selection import SelectKBest\n",
    "from sklearn.feature_selection import chi2\n",
    "\n",
    "features = X\n",
    "target = y\n",
    "\n",
    "best_features = SelectKBest(score_func = chi2,k = 'all')\n",
    "fit = best_features.fit(features,target)\n",
    "\n",
    "featureScores = pd.DataFrame(data = fit.scores_,index = list(columns),columns = ['Chi Squared Score']) "
   ]
  },
  {
   "cell_type": "code",
   "execution_count": 197,
   "metadata": {
    "execution": {
     "iopub.execute_input": "2023-01-23T18:42:45.240152Z",
     "iopub.status.busy": "2023-01-23T18:42:45.239733Z",
     "iopub.status.idle": "2023-01-23T18:42:45.25231Z",
     "shell.execute_reply": "2023-01-23T18:42:45.251272Z",
     "shell.execute_reply.started": "2023-01-23T18:42:45.24012Z"
    }
   },
   "outputs": [
    {
     "data": {
      "text/html": [
       "<div>\n",
       "<style scoped>\n",
       "    .dataframe tbody tr th:only-of-type {\n",
       "        vertical-align: middle;\n",
       "    }\n",
       "\n",
       "    .dataframe tbody tr th {\n",
       "        vertical-align: top;\n",
       "    }\n",
       "\n",
       "    .dataframe thead th {\n",
       "        text-align: right;\n",
       "    }\n",
       "</style>\n",
       "<table border=\"1\" class=\"dataframe\">\n",
       "  <thead>\n",
       "    <tr style=\"text-align: right;\">\n",
       "      <th></th>\n",
       "      <th>Chi Squared Score</th>\n",
       "    </tr>\n",
       "  </thead>\n",
       "  <tbody>\n",
       "    <tr>\n",
       "      <th>lot_size</th>\n",
       "      <td>1411806.33</td>\n",
       "    </tr>\n",
       "    <tr>\n",
       "      <th>size</th>\n",
       "      <td>525479.46</td>\n",
       "    </tr>\n",
       "    <tr>\n",
       "      <th>zip_code</th>\n",
       "      <td>2853.45</td>\n",
       "    </tr>\n",
       "    <tr>\n",
       "      <th>baths</th>\n",
       "      <td>419.19</td>\n",
       "    </tr>\n",
       "    <tr>\n",
       "      <th>beds</th>\n",
       "      <td>387.12</td>\n",
       "    </tr>\n",
       "    <tr>\n",
       "      <th>lot_size_units</th>\n",
       "      <td>120.90</td>\n",
       "    </tr>\n",
       "  </tbody>\n",
       "</table>\n",
       "</div>"
      ],
      "text/plain": [
       "                Chi Squared Score\n",
       "lot_size               1411806.33\n",
       "size                    525479.46\n",
       "zip_code                  2853.45\n",
       "baths                      419.19\n",
       "beds                       387.12\n",
       "lot_size_units             120.90"
      ]
     },
     "execution_count": 197,
     "metadata": {},
     "output_type": "execute_result"
    }
   ],
   "source": [
    "featureScores.sort_values(by = 'Chi Squared Score', ascending = False).round(2)"
   ]
  },
  {
   "cell_type": "markdown",
   "metadata": {},
   "source": [
    "#### Random Forest"
   ]
  },
  {
   "cell_type": "code",
   "execution_count": 198,
   "metadata": {
    "execution": {
     "iopub.execute_input": "2023-01-23T18:43:04.388709Z",
     "iopub.status.busy": "2023-01-23T18:43:04.388255Z",
     "iopub.status.idle": "2023-01-23T18:43:04.397908Z",
     "shell.execute_reply": "2023-01-23T18:43:04.396685Z",
     "shell.execute_reply.started": "2023-01-23T18:43:04.388654Z"
    }
   },
   "outputs": [
    {
     "data": {
      "text/plain": [
       "size              0.684408\n",
       "zip_code          0.115657\n",
       "lot_size          0.100868\n",
       "baths             0.060298\n",
       "beds              0.033253\n",
       "lot_size_units    0.005516\n",
       "dtype: float64"
      ]
     },
     "execution_count": 198,
     "metadata": {},
     "output_type": "execute_result"
    }
   ],
   "source": [
    "feature_imp_random"
   ]
  },
  {
   "cell_type": "markdown",
   "metadata": {},
   "source": [
    "#### Checking the Results"
   ]
  },
  {
   "cell_type": "code",
   "execution_count": 199,
   "metadata": {
    "_kg_hide-input": true,
    "execution": {
     "iopub.execute_input": "2023-01-23T18:45:04.050473Z",
     "iopub.status.busy": "2023-01-23T18:45:04.050005Z",
     "iopub.status.idle": "2023-01-23T18:45:04.063701Z",
     "shell.execute_reply": "2023-01-23T18:45:04.06202Z",
     "shell.execute_reply.started": "2023-01-23T18:45:04.050433Z"
    }
   },
   "outputs": [],
   "source": [
    "linear_regression = {'Model':'Linear Regression',\n",
    "               'Score Train':lr_normal_score_train,\n",
    "               'Score Test':lr_normal_score_test,\n",
    "               'MSE':mae_lr_normal,\n",
    "               'RMSE':rmse_lr_normal,}\n",
    "\n",
    "polynomial_regression = {'Model':'Polynomial Regression',\n",
    "               'Score Train':lr_poly_normal_score_train,\n",
    "               'Score Test':lr_normal_score_test,\n",
    "               'MSE':mae_poly_normal,\n",
    "               'RMSE':rmse_poly_normal,}\n",
    "\n",
    "decision_tree = {'Model':'Decision Tree',\n",
    "               'Score Train':lr_normal_decision_tree,\n",
    "               'Score Test':lr_normal_decision_tree_test,\n",
    "               'MSE':mae_lr_normal_decision_tree,\n",
    "               'RMSE':rmse_lr_normal_decision_tree,}\n",
    "\n",
    "random_forest = {'Model':'Random Forest',\n",
    "               'Score Train':lr_normal_rf,\n",
    "               'Score Test':lr_normal_rf_test,\n",
    "               'MSE':mae_lr_normal_rf,\n",
    "               'RMSE':rmse_lr_normal_rf,}\n",
    "\n",
    "svr_linear = {'Model':'SVR Linear',\n",
    "               'Score Train':standard_svm_linear,\n",
    "               'Score Test':standard_svm_linear_test,\n",
    "               'MSE':mae_svr_linear_standard,\n",
    "               'RMSE':rmse_svm_linear_standard,}\n",
    "\n",
    "svr_polynomial = {'Model':'SVR Polynomial',\n",
    "               'Score Train':standard_svm_poly,\n",
    "               'Score Test':standard_svm_poly_test,\n",
    "               'MSE':mae_svr_poly_standard,\n",
    "               'RMSE':rmse_svm_poly_standard,}\n",
    "\n",
    "svr_rbf = {'Model':'SVR RBF',\n",
    "               'Score Train':standard_svm_rbf,\n",
    "               'Score Test':standard_svm_rbf_test,\n",
    "               'MSE':mae_svr_rbf_standard,\n",
    "               'RMSE':rmse_svm_rbf_standard,}\n",
    "\n",
    "rna = {'Model':'RNA',\n",
    "               'Score Train':standard_rna,\n",
    "               'Score Test':standard_rna_test,\n",
    "               'MSE':mae_rna_standard,\n",
    "               'RMSE':rmse_rna_standard,}\n",
    "\n",
    "ada = {'Model':'Ada Boost',\n",
    "               'Score Train':lr_normal_ada_boost,\n",
    "               'Score Test':lr_normal_ada_boost_test,\n",
    "               'MSE':mae_lr_normal_ada_boost,\n",
    "               'RMSE':rmse_ada_boost,}\n",
    "\n",
    "grad = {'Model':'Gradient Boosting',\n",
    "               'Score Train':lr_normal_grad_boost,\n",
    "               'Score Test':lr_normal_grad_boost_test,\n",
    "               'MSE':mae_lr_normal_grad_boost,\n",
    "               'RMSE':rmse_grad_boost,}"
   ]
  },
  {
   "cell_type": "code",
   "execution_count": 200,
   "metadata": {
    "_kg_hide-input": true,
    "execution": {
     "iopub.execute_input": "2023-01-23T18:45:24.138402Z",
     "iopub.status.busy": "2023-01-23T18:45:24.138006Z",
     "iopub.status.idle": "2023-01-23T18:45:24.149623Z",
     "shell.execute_reply": "2023-01-23T18:45:24.148322Z",
     "shell.execute_reply.started": "2023-01-23T18:45:24.13837Z"
    }
   },
   "outputs": [],
   "source": [
    "resume = pd.DataFrame({'Linear Regression':pd.Series(linear_regression),\n",
    "                       'Polynomial Regression':pd.Series(polynomial_regression),\n",
    "                       'Decision Tree':pd.Series(decision_tree),\n",
    "                       'Random Forest':pd.Series(random_forest),\n",
    "                       'SVR Linear':pd.Series(svr_linear),\n",
    "                       'SVR Polynomial':pd.Series(svr_polynomial),\n",
    "                       'SVR RBF':pd.Series(svr_rbf),\n",
    "                       'RNA':pd.Series(rna),\n",
    "                       'AdaBoost':pd.Series(ada),\n",
    "                       'GradientBoosting':pd.Series(grad),\n",
    "                      })"
   ]
  },
  {
   "cell_type": "code",
   "execution_count": 201,
   "metadata": {
    "execution": {
     "iopub.execute_input": "2023-01-23T18:46:29.451958Z",
     "iopub.status.busy": "2023-01-23T18:46:29.451526Z",
     "iopub.status.idle": "2023-01-23T18:46:29.471199Z",
     "shell.execute_reply": "2023-01-23T18:46:29.470169Z",
     "shell.execute_reply.started": "2023-01-23T18:46:29.451926Z"
    }
   },
   "outputs": [
    {
     "data": {
      "text/html": [
       "<div>\n",
       "<style scoped>\n",
       "    .dataframe tbody tr th:only-of-type {\n",
       "        vertical-align: middle;\n",
       "    }\n",
       "\n",
       "    .dataframe tbody tr th {\n",
       "        vertical-align: top;\n",
       "    }\n",
       "\n",
       "    .dataframe thead th {\n",
       "        text-align: right;\n",
       "    }\n",
       "</style>\n",
       "<table border=\"1\" class=\"dataframe\">\n",
       "  <thead>\n",
       "    <tr style=\"text-align: right;\">\n",
       "      <th></th>\n",
       "      <th>Linear Regression</th>\n",
       "      <th>Polynomial Regression</th>\n",
       "      <th>Decision Tree</th>\n",
       "      <th>Random Forest</th>\n",
       "      <th>SVR Linear</th>\n",
       "      <th>SVR Polynomial</th>\n",
       "      <th>SVR RBF</th>\n",
       "      <th>RNA</th>\n",
       "      <th>AdaBoost</th>\n",
       "      <th>GradientBoosting</th>\n",
       "    </tr>\n",
       "  </thead>\n",
       "  <tbody>\n",
       "    <tr>\n",
       "      <th>Model</th>\n",
       "      <td>Linear Regression</td>\n",
       "      <td>Polynomial Regression</td>\n",
       "      <td>Decision Tree</td>\n",
       "      <td>Random Forest</td>\n",
       "      <td>SVR Linear</td>\n",
       "      <td>SVR Polynomial</td>\n",
       "      <td>SVR RBF</td>\n",
       "      <td>RNA</td>\n",
       "      <td>Ada Boost</td>\n",
       "      <td>Gradient Boosting</td>\n",
       "    </tr>\n",
       "    <tr>\n",
       "      <th>Score Train</th>\n",
       "      <td>0.600335</td>\n",
       "      <td>0.626428</td>\n",
       "      <td>0.677398</td>\n",
       "      <td>0.954392</td>\n",
       "      <td>0.591497</td>\n",
       "      <td>0.346598</td>\n",
       "      <td>0.677467</td>\n",
       "      <td>0.621712</td>\n",
       "      <td>0.645089</td>\n",
       "      <td>0.994858</td>\n",
       "    </tr>\n",
       "    <tr>\n",
       "      <th>Score Test</th>\n",
       "      <td>0.643186</td>\n",
       "      <td>0.643186</td>\n",
       "      <td>0.625288</td>\n",
       "      <td>0.730094</td>\n",
       "      <td>0.625082</td>\n",
       "      <td>0.416436</td>\n",
       "      <td>0.674085</td>\n",
       "      <td>0.657627</td>\n",
       "      <td>0.621106</td>\n",
       "      <td>0.685289</td>\n",
       "    </tr>\n",
       "    <tr>\n",
       "      <th>MSE</th>\n",
       "      <td>0.402069</td>\n",
       "      <td>0.406859</td>\n",
       "      <td>0.396472</td>\n",
       "      <td>0.342676</td>\n",
       "      <td>211762.301625</td>\n",
       "      <td>251400.138603</td>\n",
       "      <td>193205.830767</td>\n",
       "      <td>214448.250711</td>\n",
       "      <td>235421.963903</td>\n",
       "      <td>194668.346585</td>\n",
       "    </tr>\n",
       "    <tr>\n",
       "      <th>RMSE</th>\n",
       "      <td>0.608362</td>\n",
       "      <td>0.606334</td>\n",
       "      <td>0.623433</td>\n",
       "      <td>0.529111</td>\n",
       "      <td>333004.364098</td>\n",
       "      <td>415457.317734</td>\n",
       "      <td>310480.498733</td>\n",
       "      <td>318222.98797</td>\n",
       "      <td>334765.785598</td>\n",
       "      <td>305096.857204</td>\n",
       "    </tr>\n",
       "  </tbody>\n",
       "</table>\n",
       "</div>"
      ],
      "text/plain": [
       "             Linear Regression  Polynomial Regression  Decision Tree   \n",
       "Model        Linear Regression  Polynomial Regression  Decision Tree  \\\n",
       "Score Train           0.600335               0.626428       0.677398   \n",
       "Score Test            0.643186               0.643186       0.625288   \n",
       "MSE                   0.402069               0.406859       0.396472   \n",
       "RMSE                  0.608362               0.606334       0.623433   \n",
       "\n",
       "             Random Forest     SVR Linear  SVR Polynomial        SVR RBF   \n",
       "Model        Random Forest     SVR Linear  SVR Polynomial        SVR RBF  \\\n",
       "Score Train       0.954392       0.591497        0.346598       0.677467   \n",
       "Score Test        0.730094       0.625082        0.416436       0.674085   \n",
       "MSE               0.342676  211762.301625   251400.138603  193205.830767   \n",
       "RMSE              0.529111  333004.364098   415457.317734  310480.498733   \n",
       "\n",
       "                       RNA       AdaBoost   GradientBoosting  \n",
       "Model                  RNA      Ada Boost  Gradient Boosting  \n",
       "Score Train       0.621712       0.645089           0.994858  \n",
       "Score Test        0.657627       0.621106           0.685289  \n",
       "MSE          214448.250711  235421.963903      194668.346585  \n",
       "RMSE          318222.98797  334765.785598      305096.857204  "
      ]
     },
     "execution_count": 201,
     "metadata": {},
     "output_type": "execute_result"
    }
   ],
   "source": [
    "resume"
   ]
  },
  {
   "cell_type": "markdown",
   "metadata": {},
   "source": [
    "## <font color='blue'> 4. Conclusion. </font>"
   ]
  },
  {
   "cell_type": "markdown",
   "metadata": {},
   "source": [
    "#### We can see that all our data are numerical and continuous, in our database we don't have many values ​​available, which makes our work more difficult, when we look at our data we can see that we have some null values, which makes necessary to process these values.\n",
    "\n",
    "#### Looking at our exploratory analysis of the data, we were unable to see great patterns defined among the variables, only the more \"patterns\" such as the more beds and baths the larger the house. values ​​that follow this pattern, when we look at our target price variable we can see that the only variable that has a defined pattern is the size variable, which makes a lot of sense.\n",
    "\n",
    "#### Talking about the Machine Learning models, we were not able to have a very expressive result, most of the models were between 60% and 65% correct, and we had the analysis of the MAE and MRSE errors very similar between the values, but the best model that we had was the Random Forest model followed by the Gradient Boosting model.\n",
    "\n",
    "#### When we look at the variables that most explain our models, it is interesting to see that CHI-2 places the Lot_Size variable as very important, different from our best Random Forest model which places the Size variable as the most important variable to explain the model."
   ]
  },
  {
   "cell_type": "markdown",
   "metadata": {},
   "source": []
  }
 ],
 "metadata": {
  "kernelspec": {
   "display_name": "Python 3 (ipykernel)",
   "language": "python",
   "name": "python3"
  },
  "language_info": {
   "codemirror_mode": {
    "name": "ipython",
    "version": 3
   },
   "file_extension": ".py",
   "mimetype": "text/x-python",
   "name": "python",
   "nbconvert_exporter": "python",
   "pygments_lexer": "ipython3",
   "version": "3.11.3"
  }
 },
 "nbformat": 4,
 "nbformat_minor": 4
}
